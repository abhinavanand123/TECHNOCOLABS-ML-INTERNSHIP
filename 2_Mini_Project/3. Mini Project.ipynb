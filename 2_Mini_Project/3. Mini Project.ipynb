{
 "cells": [
  {
   "cell_type": "markdown",
   "metadata": {},
   "source": [
    "<h1 style=\"color:blue\" align=\"center\"> Mini Project </h1>\n",
    "<h2 style=\"color:green\" align=\"center\"> Bots in the Net: Applying Machine Learning to Identify Social Media Trolls </h2>\n",
    "<h2 style=\"color:blue\" align=\"center\"> Classify whether a tweet was created by a bot or by human </h2>"
   ]
  },
  {
   "cell_type": "markdown",
   "metadata": {},
   "source": [
    "-------------"
   ]
  },
  {
   "cell_type": "markdown",
   "metadata": {},
   "source": [
    "### Company : Technocolabs\n",
    "### Role : Machine Learning Intern\n",
    "\n",
    "### Author\n",
    "Abhinav Anand "
   ]
  },
  {
   "cell_type": "markdown",
   "metadata": {},
   "source": [
    "--------------"
   ]
  },
  {
   "cell_type": "markdown",
   "metadata": {},
   "source": [
    "## Problem Statement\n",
    "- **classify** whether a tweet was created by a **bot or by human**\n",
    "\n",
    "\n",
    "- Initial studies made a broad overview detailing the percentage of **twitter users that are bots** and the percentage of **tweets that are made by bots** on Twitter."
   ]
  },
  {
   "cell_type": "markdown",
   "metadata": {},
   "source": [
    "## Dataset Information:\n",
    "### 1. Positive Dataset:\n",
    " - Number of Rows : 29,73,371\n",
    "\n",
    " - Number of Columns : 15\n",
    " \n",
    "### 2. Negative Dataset:\n",
    " - Number of Rows : 7708\n",
    "\n",
    " - Number of Columns : 1"
   ]
  },
  {
   "cell_type": "markdown",
   "metadata": {},
   "source": [
    "### Positive Description\n",
    "\n",
    "|Variable                   |Definition                                                                                |\n",
    "|-----------------          |------------------------------------------------------------------------------------------|\n",
    "|external_author_id         |UniqueID                                                                                  |\n",
    "|author                  \t|-                                                                                         |\n",
    "|content\t                |tweets                                                                                    |\n",
    "|region  \t                |Location                                                                                  |\n",
    "|language           \t    |Tweets in type of Language                                                                |\n",
    "|publish_date    \t        |Which date published in twitter                                                           |\n",
    "|harvested_date \t        |harvested_date                                                                            |\n",
    "|following      \t        |No of people following in twitter                                                         |\n",
    "|followers                  |No of followers in twitter                                                                |\n",
    "|updates    \t            |updates                                                                                   |\n",
    "|post_type      \t        |type of post                                                                              |\n",
    "|account_type   \t        |type of twitter account                                                                   |\n",
    "|new_june_2018     \t        |date of twitter account                                                                   |\n",
    "|retweet                    |retweet         in twitter                                                                |\n",
    "|account_category           |type of category                                                                          |\n",
    "\n",
    "\n",
    "### Negative Description\n",
    "\n",
    "|Feature         |Description                                        |\n",
    "|------------    |---------------------------------------------------|\n",
    "|content         |tweets texted                                      |\n",
    "\n"
   ]
  },
  {
   "cell_type": "markdown",
   "metadata": {},
   "source": [
    "-----------------------"
   ]
  },
  {
   "cell_type": "markdown",
   "metadata": {},
   "source": [
    "<h2 style=\"color:blue\" align=\"left\"> 1. Import necessary Libraries </h2>"
   ]
  },
  {
   "cell_type": "code",
   "execution_count": 1,
   "metadata": {},
   "outputs": [],
   "source": [
    "# Read Data\n",
    "import numpy as np                     # Linear Algebra (calculate the mean and standard deviation)\n",
    "import pandas as pd                    # manipulate data, data processing, load csv file I/O (e.g. pd.read_csv)\n",
    "\n",
    "# Visualization\n",
    "import seaborn as sns                  # Visualization using seaborn\n",
    "import matplotlib.pyplot as plt        # Visualization using matplotlib\n",
    "%matplotlib inline\n",
    "\n",
    "# style\n",
    "plt.style.use(\"fivethirtyeight\")       # Set Graphs Background style using matplotlib\n",
    "sns.set_style(\"darkgrid\")              # Set Graphs Background style using seaborn\n",
    "\n",
    "import warnings                        # Ignore Warnings\n",
    "warnings.filterwarnings(\"ignore\")"
   ]
  },
  {
   "cell_type": "markdown",
   "metadata": {},
   "source": [
    "<h2 style=\"color:blue\" align=\"left\"> 2. Load data </h2>"
   ]
  },
  {
   "cell_type": "markdown",
   "metadata": {},
   "source": [
    "### i) Dataset :1"
   ]
  },
  {
   "cell_type": "code",
   "execution_count": 2,
   "metadata": {},
   "outputs": [],
   "source": [
    "df1 = pd.read_csv(\"IRAhandle_tweets_1.csv\")\n",
    "df2 = pd.read_csv(\"IRAhandle_tweets_2.csv\")\n",
    "df3 = pd.read_csv(\"IRAhandle_tweets_3.csv\")\n",
    "df4 = pd.read_csv(\"IRAhandle_tweets_4.csv\")\n",
    "df5 = pd.read_csv(\"IRAhandle_tweets_5.csv\")\n",
    "df6 = pd.read_csv(\"IRAhandle_tweets_6.csv\")\n",
    "df7 = pd.read_csv(\"IRAhandle_tweets_7.csv\")\n",
    "df8 = pd.read_csv(\"IRAhandle_tweets_8.csv\")\n",
    "df9 = pd.read_csv(\"IRAhandle_tweets_9.csv\")"
   ]
  },
  {
   "cell_type": "code",
   "execution_count": 3,
   "metadata": {
    "scrolled": false
   },
   "outputs": [
    {
     "data": {
      "text/plain": [
       "(381016, 15)"
      ]
     },
     "metadata": {},
     "output_type": "display_data"
    },
    {
     "data": {
      "text/plain": [
       "(397232, 15)"
      ]
     },
     "metadata": {},
     "output_type": "display_data"
    },
    {
     "data": {
      "text/plain": [
       "(368885, 15)"
      ]
     },
     "metadata": {},
     "output_type": "display_data"
    },
    {
     "data": {
      "text/plain": [
       "(388452, 15)"
      ]
     },
     "metadata": {},
     "output_type": "display_data"
    },
    {
     "data": {
      "text/plain": [
       "(331821, 15)"
      ]
     },
     "metadata": {},
     "output_type": "display_data"
    },
    {
     "data": {
      "text/plain": [
       "(324512, 15)"
      ]
     },
     "metadata": {},
     "output_type": "display_data"
    },
    {
     "data": {
      "text/plain": [
       "(365603, 15)"
      ]
     },
     "metadata": {},
     "output_type": "display_data"
    },
    {
     "data": {
      "text/plain": [
       "(378295, 15)"
      ]
     },
     "metadata": {},
     "output_type": "display_data"
    },
    {
     "data": {
      "text/plain": [
       "(37555, 15)"
      ]
     },
     "metadata": {},
     "output_type": "display_data"
    }
   ],
   "source": [
    "# checking dimension (num of rows and columns) of dataset\n",
    "display(df1.shape, df2.shape, df3.shape, df4.shape, df5.shape, df6.shape, df7.shape, df8.shape, df9.shape)"
   ]
  },
  {
   "cell_type": "markdown",
   "metadata": {},
   "source": [
    "381016 + 397232 + 368885 + 388452 + 331821 + 324512 + 365603 + 378295 + 37555"
   ]
  },
  {
   "cell_type": "markdown",
   "metadata": {},
   "source": [
    "### a) Combine input datasets together"
   ]
  },
  {
   "cell_type": "code",
   "execution_count": 4,
   "metadata": {
    "scrolled": true
   },
   "outputs": [],
   "source": [
    "df = pd.concat([df1, df2, df3, df4, df5, df6, df7, df8, df9], ignore_index=True)"
   ]
  },
  {
   "cell_type": "code",
   "execution_count": 5,
   "metadata": {},
   "outputs": [
    {
     "data": {
      "text/html": [
       "<div>\n",
       "<style scoped>\n",
       "    .dataframe tbody tr th:only-of-type {\n",
       "        vertical-align: middle;\n",
       "    }\n",
       "\n",
       "    .dataframe tbody tr th {\n",
       "        vertical-align: top;\n",
       "    }\n",
       "\n",
       "    .dataframe thead th {\n",
       "        text-align: right;\n",
       "    }\n",
       "</style>\n",
       "<table border=\"1\" class=\"dataframe\">\n",
       "  <thead>\n",
       "    <tr style=\"text-align: right;\">\n",
       "      <th></th>\n",
       "      <th>external_author_id</th>\n",
       "      <th>author</th>\n",
       "      <th>content</th>\n",
       "      <th>region</th>\n",
       "      <th>language</th>\n",
       "      <th>publish_date</th>\n",
       "      <th>harvested_date</th>\n",
       "      <th>following</th>\n",
       "      <th>followers</th>\n",
       "      <th>updates</th>\n",
       "      <th>post_type</th>\n",
       "      <th>account_type</th>\n",
       "      <th>new_june_2018</th>\n",
       "      <th>retweet</th>\n",
       "      <th>account_category</th>\n",
       "    </tr>\n",
       "  </thead>\n",
       "  <tbody>\n",
       "    <tr>\n",
       "      <th>0</th>\n",
       "      <td>9.060000e+17</td>\n",
       "      <td>10_GOP</td>\n",
       "      <td>\"We have a sitting Democrat US Senator on tria...</td>\n",
       "      <td>Unknown</td>\n",
       "      <td>English</td>\n",
       "      <td>10/1/2017 19:58</td>\n",
       "      <td>10/1/2017 19:59</td>\n",
       "      <td>1052</td>\n",
       "      <td>9636</td>\n",
       "      <td>253</td>\n",
       "      <td>NaN</td>\n",
       "      <td>Right</td>\n",
       "      <td>0</td>\n",
       "      <td>0</td>\n",
       "      <td>RightTroll</td>\n",
       "    </tr>\n",
       "    <tr>\n",
       "      <th>1</th>\n",
       "      <td>9.060000e+17</td>\n",
       "      <td>10_GOP</td>\n",
       "      <td>Marshawn Lynch arrives to game in anti-Trump s...</td>\n",
       "      <td>Unknown</td>\n",
       "      <td>English</td>\n",
       "      <td>10/1/2017 22:43</td>\n",
       "      <td>10/1/2017 22:43</td>\n",
       "      <td>1054</td>\n",
       "      <td>9637</td>\n",
       "      <td>254</td>\n",
       "      <td>NaN</td>\n",
       "      <td>Right</td>\n",
       "      <td>0</td>\n",
       "      <td>0</td>\n",
       "      <td>RightTroll</td>\n",
       "    </tr>\n",
       "    <tr>\n",
       "      <th>2</th>\n",
       "      <td>9.060000e+17</td>\n",
       "      <td>10_GOP</td>\n",
       "      <td>Daughter of fallen Navy Sailor delivers powerf...</td>\n",
       "      <td>Unknown</td>\n",
       "      <td>English</td>\n",
       "      <td>10/1/2017 22:50</td>\n",
       "      <td>10/1/2017 22:51</td>\n",
       "      <td>1054</td>\n",
       "      <td>9637</td>\n",
       "      <td>255</td>\n",
       "      <td>RETWEET</td>\n",
       "      <td>Right</td>\n",
       "      <td>0</td>\n",
       "      <td>1</td>\n",
       "      <td>RightTroll</td>\n",
       "    </tr>\n",
       "  </tbody>\n",
       "</table>\n",
       "</div>"
      ],
      "text/plain": [
       "   external_author_id  author  \\\n",
       "0        9.060000e+17  10_GOP   \n",
       "1        9.060000e+17  10_GOP   \n",
       "2        9.060000e+17  10_GOP   \n",
       "\n",
       "                                             content   region language  \\\n",
       "0  \"We have a sitting Democrat US Senator on tria...  Unknown  English   \n",
       "1  Marshawn Lynch arrives to game in anti-Trump s...  Unknown  English   \n",
       "2  Daughter of fallen Navy Sailor delivers powerf...  Unknown  English   \n",
       "\n",
       "      publish_date   harvested_date  following  followers  updates post_type  \\\n",
       "0  10/1/2017 19:58  10/1/2017 19:59       1052       9636      253       NaN   \n",
       "1  10/1/2017 22:43  10/1/2017 22:43       1054       9637      254       NaN   \n",
       "2  10/1/2017 22:50  10/1/2017 22:51       1054       9637      255   RETWEET   \n",
       "\n",
       "  account_type  new_june_2018  retweet account_category  \n",
       "0        Right              0        0       RightTroll  \n",
       "1        Right              0        0       RightTroll  \n",
       "2        Right              0        1       RightTroll  "
      ]
     },
     "metadata": {},
     "output_type": "display_data"
    },
    {
     "data": {
      "text/html": [
       "<div>\n",
       "<style scoped>\n",
       "    .dataframe tbody tr th:only-of-type {\n",
       "        vertical-align: middle;\n",
       "    }\n",
       "\n",
       "    .dataframe tbody tr th {\n",
       "        vertical-align: top;\n",
       "    }\n",
       "\n",
       "    .dataframe thead th {\n",
       "        text-align: right;\n",
       "    }\n",
       "</style>\n",
       "<table border=\"1\" class=\"dataframe\">\n",
       "  <thead>\n",
       "    <tr style=\"text-align: right;\">\n",
       "      <th></th>\n",
       "      <th>external_author_id</th>\n",
       "      <th>author</th>\n",
       "      <th>content</th>\n",
       "      <th>region</th>\n",
       "      <th>language</th>\n",
       "      <th>publish_date</th>\n",
       "      <th>harvested_date</th>\n",
       "      <th>following</th>\n",
       "      <th>followers</th>\n",
       "      <th>updates</th>\n",
       "      <th>post_type</th>\n",
       "      <th>account_type</th>\n",
       "      <th>new_june_2018</th>\n",
       "      <th>retweet</th>\n",
       "      <th>account_category</th>\n",
       "    </tr>\n",
       "  </thead>\n",
       "  <tbody>\n",
       "    <tr>\n",
       "      <th>2973368</th>\n",
       "      <td>3.093874e+09</td>\n",
       "      <td>_YOUR_LIFESTYLE</td>\n",
       "      <td>Фотограф Kai-Hendrik Schroeder http://t.co/q0x...</td>\n",
       "      <td>Unknown</td>\n",
       "      <td>Russian</td>\n",
       "      <td>9/9/2015 18:52</td>\n",
       "      <td>9/9/2015 18:52</td>\n",
       "      <td>60</td>\n",
       "      <td>4</td>\n",
       "      <td>418</td>\n",
       "      <td>NaN</td>\n",
       "      <td>Russian</td>\n",
       "      <td>0</td>\n",
       "      <td>0</td>\n",
       "      <td>NonEnglish</td>\n",
       "    </tr>\n",
       "    <tr>\n",
       "      <th>2973369</th>\n",
       "      <td>3.093874e+09</td>\n",
       "      <td>_YOUR_LIFESTYLE</td>\n",
       "      <td>К чему стремится компания Netflix (США) http:/...</td>\n",
       "      <td>Unknown</td>\n",
       "      <td>Russian</td>\n",
       "      <td>9/9/2015 22:26</td>\n",
       "      <td>9/9/2015 22:27</td>\n",
       "      <td>60</td>\n",
       "      <td>4</td>\n",
       "      <td>419</td>\n",
       "      <td>NaN</td>\n",
       "      <td>Russian</td>\n",
       "      <td>0</td>\n",
       "      <td>0</td>\n",
       "      <td>NonEnglish</td>\n",
       "    </tr>\n",
       "    <tr>\n",
       "      <th>2973370</th>\n",
       "      <td>3.093874e+09</td>\n",
       "      <td>_YOUR_LIFESTYLE</td>\n",
       "      <td>В Петербурге появилось вегетарианское кафе в к...</td>\n",
       "      <td>Unknown</td>\n",
       "      <td>Russian</td>\n",
       "      <td>9/9/2015 8:17</td>\n",
       "      <td>9/9/2015 8:17</td>\n",
       "      <td>60</td>\n",
       "      <td>4</td>\n",
       "      <td>417</td>\n",
       "      <td>NaN</td>\n",
       "      <td>Russian</td>\n",
       "      <td>0</td>\n",
       "      <td>0</td>\n",
       "      <td>NonEnglish</td>\n",
       "    </tr>\n",
       "  </tbody>\n",
       "</table>\n",
       "</div>"
      ],
      "text/plain": [
       "         external_author_id           author  \\\n",
       "2973368        3.093874e+09  _YOUR_LIFESTYLE   \n",
       "2973369        3.093874e+09  _YOUR_LIFESTYLE   \n",
       "2973370        3.093874e+09  _YOUR_LIFESTYLE   \n",
       "\n",
       "                                                   content   region language  \\\n",
       "2973368  Фотограф Kai-Hendrik Schroeder http://t.co/q0x...  Unknown  Russian   \n",
       "2973369  К чему стремится компания Netflix (США) http:/...  Unknown  Russian   \n",
       "2973370  В Петербурге появилось вегетарианское кафе в к...  Unknown  Russian   \n",
       "\n",
       "           publish_date  harvested_date  following  followers  updates  \\\n",
       "2973368  9/9/2015 18:52  9/9/2015 18:52         60          4      418   \n",
       "2973369  9/9/2015 22:26  9/9/2015 22:27         60          4      419   \n",
       "2973370   9/9/2015 8:17   9/9/2015 8:17         60          4      417   \n",
       "\n",
       "        post_type account_type  new_june_2018  retweet account_category  \n",
       "2973368       NaN      Russian              0        0       NonEnglish  \n",
       "2973369       NaN      Russian              0        0       NonEnglish  \n",
       "2973370       NaN      Russian              0        0       NonEnglish  "
      ]
     },
     "metadata": {},
     "output_type": "display_data"
    }
   ],
   "source": [
    "display(df.head(3))\n",
    "display(df.tail(3))"
   ]
  },
  {
   "cell_type": "code",
   "execution_count": 6,
   "metadata": {},
   "outputs": [
    {
     "data": {
      "text/plain": [
       "(2973371, 15)"
      ]
     },
     "execution_count": 6,
     "metadata": {},
     "output_type": "execute_result"
    }
   ],
   "source": [
    "df.shape"
   ]
  },
  {
   "cell_type": "code",
   "execution_count": 7,
   "metadata": {
    "scrolled": false
   },
   "outputs": [
    {
     "data": {
      "text/plain": [
       "0    \"We have a sitting Democrat US Senator on tria...\n",
       "1    Marshawn Lynch arrives to game in anti-Trump s...\n",
       "2    Daughter of fallen Navy Sailor delivers powerf...\n",
       "3    JUST IN: President Trump dedicates Presidents ...\n",
       "4    19,000 RESPECTING our National Anthem! #StandF...\n",
       "5    Dan Bongino: \"Nobody trolls liberals better th...\n",
       "6                          🐝🐝🐝 https://t.co/MorL3AQW0z\n",
       "7    '@SenatorMenendez @CarmenYulinCruz Doesn't mat...\n",
       "8    As much as I hate promoting CNN article, here ...\n",
       "9    After the 'genocide' remark from San Juan Mayo...\n",
       "Name: content, dtype: object"
      ]
     },
     "execution_count": 7,
     "metadata": {},
     "output_type": "execute_result"
    }
   ],
   "source": [
    "df['content'].head(10)"
   ]
  },
  {
   "cell_type": "markdown",
   "metadata": {},
   "source": [
    "<h2 style=\"color:blue\" align=\"left\"> 3. EDA (Exploratory Data Analysis) </h2>"
   ]
  },
  {
   "cell_type": "code",
   "execution_count": 8,
   "metadata": {},
   "outputs": [
    {
     "data": {
      "text/plain": [
       "external_author_id          4\n",
       "author                      0\n",
       "content                     1\n",
       "region                   8843\n",
       "language                    0\n",
       "publish_date                0\n",
       "harvested_date              0\n",
       "following                   0\n",
       "followers                   0\n",
       "updates                     0\n",
       "post_type             1662425\n",
       "account_type              363\n",
       "new_june_2018               0\n",
       "retweet                     0\n",
       "account_category            0\n",
       "dtype: int64"
      ]
     },
     "execution_count": 8,
     "metadata": {},
     "output_type": "execute_result"
    }
   ],
   "source": [
    "df.isnull().sum()"
   ]
  },
  {
   "cell_type": "code",
   "execution_count": 9,
   "metadata": {},
   "outputs": [
    {
     "name": "stdout",
     "output_type": "stream",
     "text": [
      "<class 'pandas.core.frame.DataFrame'>\n",
      "RangeIndex: 2973371 entries, 0 to 2973370\n",
      "Data columns (total 15 columns):\n",
      " #   Column              Dtype  \n",
      "---  ------              -----  \n",
      " 0   external_author_id  float64\n",
      " 1   author              object \n",
      " 2   content             object \n",
      " 3   region              object \n",
      " 4   language            object \n",
      " 5   publish_date        object \n",
      " 6   harvested_date      object \n",
      " 7   following           int64  \n",
      " 8   followers           int64  \n",
      " 9   updates             int64  \n",
      " 10  post_type           object \n",
      " 11  account_type        object \n",
      " 12  new_june_2018       int64  \n",
      " 13  retweet             int64  \n",
      " 14  account_category    object \n",
      "dtypes: float64(1), int64(5), object(9)\n",
      "memory usage: 340.3+ MB\n"
     ]
    }
   ],
   "source": [
    "df.info()"
   ]
  },
  {
   "cell_type": "markdown",
   "metadata": {},
   "source": [
    "### b) Filter only English tweets"
   ]
  },
  {
   "cell_type": "code",
   "execution_count": 8,
   "metadata": {},
   "outputs": [],
   "source": [
    "df_english = df.loc[df['language']=='English']"
   ]
  },
  {
   "cell_type": "code",
   "execution_count": 9,
   "metadata": {
    "scrolled": true
   },
   "outputs": [
    {
     "data": {
      "text/html": [
       "<div>\n",
       "<style scoped>\n",
       "    .dataframe tbody tr th:only-of-type {\n",
       "        vertical-align: middle;\n",
       "    }\n",
       "\n",
       "    .dataframe tbody tr th {\n",
       "        vertical-align: top;\n",
       "    }\n",
       "\n",
       "    .dataframe thead th {\n",
       "        text-align: right;\n",
       "    }\n",
       "</style>\n",
       "<table border=\"1\" class=\"dataframe\">\n",
       "  <thead>\n",
       "    <tr style=\"text-align: right;\">\n",
       "      <th></th>\n",
       "      <th>external_author_id</th>\n",
       "      <th>author</th>\n",
       "      <th>content</th>\n",
       "      <th>region</th>\n",
       "      <th>language</th>\n",
       "      <th>publish_date</th>\n",
       "      <th>harvested_date</th>\n",
       "      <th>following</th>\n",
       "      <th>followers</th>\n",
       "      <th>updates</th>\n",
       "      <th>post_type</th>\n",
       "      <th>account_type</th>\n",
       "      <th>new_june_2018</th>\n",
       "      <th>retweet</th>\n",
       "      <th>account_category</th>\n",
       "    </tr>\n",
       "  </thead>\n",
       "  <tbody>\n",
       "    <tr>\n",
       "      <th>0</th>\n",
       "      <td>9.060000e+17</td>\n",
       "      <td>10_GOP</td>\n",
       "      <td>\"We have a sitting Democrat US Senator on tria...</td>\n",
       "      <td>Unknown</td>\n",
       "      <td>English</td>\n",
       "      <td>10/1/2017 19:58</td>\n",
       "      <td>10/1/2017 19:59</td>\n",
       "      <td>1052</td>\n",
       "      <td>9636</td>\n",
       "      <td>253</td>\n",
       "      <td>NaN</td>\n",
       "      <td>Right</td>\n",
       "      <td>0</td>\n",
       "      <td>0</td>\n",
       "      <td>RightTroll</td>\n",
       "    </tr>\n",
       "    <tr>\n",
       "      <th>1</th>\n",
       "      <td>9.060000e+17</td>\n",
       "      <td>10_GOP</td>\n",
       "      <td>Marshawn Lynch arrives to game in anti-Trump s...</td>\n",
       "      <td>Unknown</td>\n",
       "      <td>English</td>\n",
       "      <td>10/1/2017 22:43</td>\n",
       "      <td>10/1/2017 22:43</td>\n",
       "      <td>1054</td>\n",
       "      <td>9637</td>\n",
       "      <td>254</td>\n",
       "      <td>NaN</td>\n",
       "      <td>Right</td>\n",
       "      <td>0</td>\n",
       "      <td>0</td>\n",
       "      <td>RightTroll</td>\n",
       "    </tr>\n",
       "    <tr>\n",
       "      <th>2</th>\n",
       "      <td>9.060000e+17</td>\n",
       "      <td>10_GOP</td>\n",
       "      <td>Daughter of fallen Navy Sailor delivers powerf...</td>\n",
       "      <td>Unknown</td>\n",
       "      <td>English</td>\n",
       "      <td>10/1/2017 22:50</td>\n",
       "      <td>10/1/2017 22:51</td>\n",
       "      <td>1054</td>\n",
       "      <td>9637</td>\n",
       "      <td>255</td>\n",
       "      <td>RETWEET</td>\n",
       "      <td>Right</td>\n",
       "      <td>0</td>\n",
       "      <td>1</td>\n",
       "      <td>RightTroll</td>\n",
       "    </tr>\n",
       "    <tr>\n",
       "      <th>3</th>\n",
       "      <td>9.060000e+17</td>\n",
       "      <td>10_GOP</td>\n",
       "      <td>JUST IN: President Trump dedicates Presidents ...</td>\n",
       "      <td>Unknown</td>\n",
       "      <td>English</td>\n",
       "      <td>10/1/2017 23:52</td>\n",
       "      <td>10/1/2017 23:52</td>\n",
       "      <td>1062</td>\n",
       "      <td>9642</td>\n",
       "      <td>256</td>\n",
       "      <td>NaN</td>\n",
       "      <td>Right</td>\n",
       "      <td>0</td>\n",
       "      <td>0</td>\n",
       "      <td>RightTroll</td>\n",
       "    </tr>\n",
       "    <tr>\n",
       "      <th>4</th>\n",
       "      <td>9.060000e+17</td>\n",
       "      <td>10_GOP</td>\n",
       "      <td>19,000 RESPECTING our National Anthem! #StandF...</td>\n",
       "      <td>Unknown</td>\n",
       "      <td>English</td>\n",
       "      <td>10/1/2017 2:13</td>\n",
       "      <td>10/1/2017 2:13</td>\n",
       "      <td>1050</td>\n",
       "      <td>9645</td>\n",
       "      <td>246</td>\n",
       "      <td>RETWEET</td>\n",
       "      <td>Right</td>\n",
       "      <td>0</td>\n",
       "      <td>1</td>\n",
       "      <td>RightTroll</td>\n",
       "    </tr>\n",
       "  </tbody>\n",
       "</table>\n",
       "</div>"
      ],
      "text/plain": [
       "   external_author_id  author  \\\n",
       "0        9.060000e+17  10_GOP   \n",
       "1        9.060000e+17  10_GOP   \n",
       "2        9.060000e+17  10_GOP   \n",
       "3        9.060000e+17  10_GOP   \n",
       "4        9.060000e+17  10_GOP   \n",
       "\n",
       "                                             content   region language  \\\n",
       "0  \"We have a sitting Democrat US Senator on tria...  Unknown  English   \n",
       "1  Marshawn Lynch arrives to game in anti-Trump s...  Unknown  English   \n",
       "2  Daughter of fallen Navy Sailor delivers powerf...  Unknown  English   \n",
       "3  JUST IN: President Trump dedicates Presidents ...  Unknown  English   \n",
       "4  19,000 RESPECTING our National Anthem! #StandF...  Unknown  English   \n",
       "\n",
       "      publish_date   harvested_date  following  followers  updates post_type  \\\n",
       "0  10/1/2017 19:58  10/1/2017 19:59       1052       9636      253       NaN   \n",
       "1  10/1/2017 22:43  10/1/2017 22:43       1054       9637      254       NaN   \n",
       "2  10/1/2017 22:50  10/1/2017 22:51       1054       9637      255   RETWEET   \n",
       "3  10/1/2017 23:52  10/1/2017 23:52       1062       9642      256       NaN   \n",
       "4   10/1/2017 2:13   10/1/2017 2:13       1050       9645      246   RETWEET   \n",
       "\n",
       "  account_type  new_june_2018  retweet account_category  \n",
       "0        Right              0        0       RightTroll  \n",
       "1        Right              0        0       RightTroll  \n",
       "2        Right              0        1       RightTroll  \n",
       "3        Right              0        0       RightTroll  \n",
       "4        Right              0        1       RightTroll  "
      ]
     },
     "execution_count": 9,
     "metadata": {},
     "output_type": "execute_result"
    }
   ],
   "source": [
    "df_english.head()"
   ]
  },
  {
   "cell_type": "code",
   "execution_count": 10,
   "metadata": {},
   "outputs": [
    {
     "data": {
      "text/plain": [
       "(2128963, 15)"
      ]
     },
     "execution_count": 10,
     "metadata": {},
     "output_type": "execute_result"
    }
   ],
   "source": [
    "df_english.shape"
   ]
  },
  {
   "cell_type": "code",
   "execution_count": 11,
   "metadata": {},
   "outputs": [
    {
     "data": {
      "text/plain": [
       "English    2128963\n",
       "Name: language, dtype: int64"
      ]
     },
     "execution_count": 11,
     "metadata": {},
     "output_type": "execute_result"
    }
   ],
   "source": [
    "df_english['language'].value_counts()"
   ]
  },
  {
   "cell_type": "code",
   "execution_count": 12,
   "metadata": {},
   "outputs": [
    {
     "data": {
      "text/plain": [
       "1"
      ]
     },
     "execution_count": 12,
     "metadata": {},
     "output_type": "execute_result"
    }
   ],
   "source": [
    "df_english['content'].isnull().sum()"
   ]
  },
  {
   "cell_type": "code",
   "execution_count": 13,
   "metadata": {},
   "outputs": [],
   "source": [
    "df_english['content'] = df_english['content'].fillna(df_english['content'].mode()[0])"
   ]
  },
  {
   "cell_type": "code",
   "execution_count": 14,
   "metadata": {},
   "outputs": [
    {
     "data": {
      "text/plain": [
       "0"
      ]
     },
     "execution_count": 14,
     "metadata": {},
     "output_type": "execute_result"
    }
   ],
   "source": [
    "df_english['content'].isnull().sum()"
   ]
  },
  {
   "cell_type": "code",
   "execution_count": 15,
   "metadata": {},
   "outputs": [
    {
     "data": {
      "text/html": [
       "<div>\n",
       "<style scoped>\n",
       "    .dataframe tbody tr th:only-of-type {\n",
       "        vertical-align: middle;\n",
       "    }\n",
       "\n",
       "    .dataframe tbody tr th {\n",
       "        vertical-align: top;\n",
       "    }\n",
       "\n",
       "    .dataframe thead th {\n",
       "        text-align: right;\n",
       "    }\n",
       "</style>\n",
       "<table border=\"1\" class=\"dataframe\">\n",
       "  <thead>\n",
       "    <tr style=\"text-align: right;\">\n",
       "      <th></th>\n",
       "      <th>content</th>\n",
       "    </tr>\n",
       "  </thead>\n",
       "  <tbody>\n",
       "    <tr>\n",
       "      <th>0</th>\n",
       "      <td>\"We have a sitting Democrat US Senator on tria...</td>\n",
       "    </tr>\n",
       "    <tr>\n",
       "      <th>1</th>\n",
       "      <td>Marshawn Lynch arrives to game in anti-Trump s...</td>\n",
       "    </tr>\n",
       "    <tr>\n",
       "      <th>2</th>\n",
       "      <td>Daughter of fallen Navy Sailor delivers powerf...</td>\n",
       "    </tr>\n",
       "    <tr>\n",
       "      <th>3</th>\n",
       "      <td>JUST IN: President Trump dedicates Presidents ...</td>\n",
       "    </tr>\n",
       "    <tr>\n",
       "      <th>4</th>\n",
       "      <td>19,000 RESPECTING our National Anthem! #StandF...</td>\n",
       "    </tr>\n",
       "  </tbody>\n",
       "</table>\n",
       "</div>"
      ],
      "text/plain": [
       "                                             content\n",
       "0  \"We have a sitting Democrat US Senator on tria...\n",
       "1  Marshawn Lynch arrives to game in anti-Trump s...\n",
       "2  Daughter of fallen Navy Sailor delivers powerf...\n",
       "3  JUST IN: President Trump dedicates Presidents ...\n",
       "4  19,000 RESPECTING our National Anthem! #StandF..."
      ]
     },
     "execution_count": 15,
     "metadata": {},
     "output_type": "execute_result"
    }
   ],
   "source": [
    "df_content = pd.DataFrame(df_english['content'])\n",
    "df_content.head()"
   ]
  },
  {
   "cell_type": "code",
   "execution_count": 16,
   "metadata": {
    "scrolled": true
   },
   "outputs": [
    {
     "data": {
      "text/plain": [
       "(2128963, 1)"
      ]
     },
     "execution_count": 16,
     "metadata": {},
     "output_type": "execute_result"
    }
   ],
   "source": [
    "df_content.shape"
   ]
  },
  {
   "cell_type": "code",
   "execution_count": 17,
   "metadata": {},
   "outputs": [],
   "source": [
    "temp1 = np.ones(len(df_content))"
   ]
  },
  {
   "cell_type": "code",
   "execution_count": 18,
   "metadata": {},
   "outputs": [
    {
     "data": {
      "text/html": [
       "<div>\n",
       "<style scoped>\n",
       "    .dataframe tbody tr th:only-of-type {\n",
       "        vertical-align: middle;\n",
       "    }\n",
       "\n",
       "    .dataframe tbody tr th {\n",
       "        vertical-align: top;\n",
       "    }\n",
       "\n",
       "    .dataframe thead th {\n",
       "        text-align: right;\n",
       "    }\n",
       "</style>\n",
       "<table border=\"1\" class=\"dataframe\">\n",
       "  <thead>\n",
       "    <tr style=\"text-align: right;\">\n",
       "      <th></th>\n",
       "      <th>content</th>\n",
       "      <th>label</th>\n",
       "    </tr>\n",
       "  </thead>\n",
       "  <tbody>\n",
       "    <tr>\n",
       "      <th>0</th>\n",
       "      <td>\"We have a sitting Democrat US Senator on tria...</td>\n",
       "      <td>1.0</td>\n",
       "    </tr>\n",
       "    <tr>\n",
       "      <th>1</th>\n",
       "      <td>Marshawn Lynch arrives to game in anti-Trump s...</td>\n",
       "      <td>1.0</td>\n",
       "    </tr>\n",
       "    <tr>\n",
       "      <th>2</th>\n",
       "      <td>Daughter of fallen Navy Sailor delivers powerf...</td>\n",
       "      <td>1.0</td>\n",
       "    </tr>\n",
       "    <tr>\n",
       "      <th>3</th>\n",
       "      <td>JUST IN: President Trump dedicates Presidents ...</td>\n",
       "      <td>1.0</td>\n",
       "    </tr>\n",
       "    <tr>\n",
       "      <th>4</th>\n",
       "      <td>19,000 RESPECTING our National Anthem! #StandF...</td>\n",
       "      <td>1.0</td>\n",
       "    </tr>\n",
       "  </tbody>\n",
       "</table>\n",
       "</div>"
      ],
      "text/plain": [
       "                                             content  label\n",
       "0  \"We have a sitting Democrat US Senator on tria...    1.0\n",
       "1  Marshawn Lynch arrives to game in anti-Trump s...    1.0\n",
       "2  Daughter of fallen Navy Sailor delivers powerf...    1.0\n",
       "3  JUST IN: President Trump dedicates Presidents ...    1.0\n",
       "4  19,000 RESPECTING our National Anthem! #StandF...    1.0"
      ]
     },
     "execution_count": 18,
     "metadata": {},
     "output_type": "execute_result"
    }
   ],
   "source": [
    "df_content['label'] = temp1\n",
    "df_content.head()"
   ]
  },
  {
   "cell_type": "code",
   "execution_count": 19,
   "metadata": {},
   "outputs": [],
   "source": [
    "df_content['label'] = df_content['label'].astype(int)"
   ]
  },
  {
   "cell_type": "code",
   "execution_count": 20,
   "metadata": {},
   "outputs": [
    {
     "data": {
      "text/plain": [
       "(2128963, 2)"
      ]
     },
     "execution_count": 20,
     "metadata": {},
     "output_type": "execute_result"
    }
   ],
   "source": [
    "df_content.shape"
   ]
  },
  {
   "cell_type": "raw",
   "metadata": {},
   "source": [
    "# Shuffle the rows of a DataFrame\n",
    "df_content = df_content.sample(frac = 1)\n",
    "df_content.head()"
   ]
  },
  {
   "cell_type": "code",
   "execution_count": 21,
   "metadata": {},
   "outputs": [
    {
     "data": {
      "text/html": [
       "<div>\n",
       "<style scoped>\n",
       "    .dataframe tbody tr th:only-of-type {\n",
       "        vertical-align: middle;\n",
       "    }\n",
       "\n",
       "    .dataframe tbody tr th {\n",
       "        vertical-align: top;\n",
       "    }\n",
       "\n",
       "    .dataframe thead th {\n",
       "        text-align: right;\n",
       "    }\n",
       "</style>\n",
       "<table border=\"1\" class=\"dataframe\">\n",
       "  <thead>\n",
       "    <tr style=\"text-align: right;\">\n",
       "      <th></th>\n",
       "      <th>content</th>\n",
       "      <th>label</th>\n",
       "    </tr>\n",
       "  </thead>\n",
       "  <tbody>\n",
       "    <tr>\n",
       "      <th>169324</th>\n",
       "      <td>NBC BUSTED Calling Disgraced Dem Senator Menen...</td>\n",
       "      <td>1</td>\n",
       "    </tr>\n",
       "    <tr>\n",
       "      <th>724534</th>\n",
       "      <td>“Weird Al” Yankovic joins Denver Comic Con’s 2...</td>\n",
       "      <td>1</td>\n",
       "    </tr>\n",
       "    <tr>\n",
       "      <th>2304506</th>\n",
       "      <td>One person wounded after Wednesday afternoon s...</td>\n",
       "      <td>1</td>\n",
       "    </tr>\n",
       "    <tr>\n",
       "      <th>1385246</th>\n",
       "      <td>1 thing we in 'The Black Fist' love is telling...</td>\n",
       "      <td>1</td>\n",
       "    </tr>\n",
       "    <tr>\n",
       "      <th>777979</th>\n",
       "      <td>#sports Giants' Eight-Game Win Streak Snapped ...</td>\n",
       "      <td>1</td>\n",
       "    </tr>\n",
       "  </tbody>\n",
       "</table>\n",
       "</div>"
      ],
      "text/plain": [
       "                                                   content  label\n",
       "169324   NBC BUSTED Calling Disgraced Dem Senator Menen...      1\n",
       "724534   “Weird Al” Yankovic joins Denver Comic Con’s 2...      1\n",
       "2304506  One person wounded after Wednesday afternoon s...      1\n",
       "1385246  1 thing we in 'The Black Fist' love is telling...      1\n",
       "777979   #sports Giants' Eight-Game Win Streak Snapped ...      1"
      ]
     },
     "execution_count": 21,
     "metadata": {},
     "output_type": "execute_result"
    }
   ],
   "source": [
    "df_content_shuffle = df_content.take(np.random.permutation(len(df_content))[:10000])\n",
    "df_content_shuffle.head()"
   ]
  },
  {
   "cell_type": "code",
   "execution_count": 22,
   "metadata": {},
   "outputs": [
    {
     "data": {
      "text/plain": [
       "content    0\n",
       "label      0\n",
       "dtype: int64"
      ]
     },
     "execution_count": 22,
     "metadata": {},
     "output_type": "execute_result"
    }
   ],
   "source": [
    "df_content.isnull().sum()"
   ]
  },
  {
   "cell_type": "markdown",
   "metadata": {},
   "source": [
    "### i) Dataset :2"
   ]
  },
  {
   "cell_type": "markdown",
   "metadata": {},
   "source": [
    "### a) Labels: Negative tweets"
   ]
  },
  {
   "cell_type": "code",
   "execution_count": 23,
   "metadata": {},
   "outputs": [],
   "source": [
    "label = pd.read_csv(\"tweets-2016-10000-textonly.txt\", delimiter='\\t', names=['content'])"
   ]
  },
  {
   "cell_type": "code",
   "execution_count": 24,
   "metadata": {
    "scrolled": true
   },
   "outputs": [
    {
     "data": {
      "text/html": [
       "<div>\n",
       "<style scoped>\n",
       "    .dataframe tbody tr th:only-of-type {\n",
       "        vertical-align: middle;\n",
       "    }\n",
       "\n",
       "    .dataframe tbody tr th {\n",
       "        vertical-align: top;\n",
       "    }\n",
       "\n",
       "    .dataframe thead th {\n",
       "        text-align: right;\n",
       "    }\n",
       "</style>\n",
       "<table border=\"1\" class=\"dataframe\">\n",
       "  <thead>\n",
       "    <tr style=\"text-align: right;\">\n",
       "      <th></th>\n",
       "      <th>content</th>\n",
       "    </tr>\n",
       "  </thead>\n",
       "  <tbody>\n",
       "    <tr>\n",
       "      <th>0</th>\n",
       "      <td>Leaked records show Trump may have avoided tax...</td>\n",
       "    </tr>\n",
       "    <tr>\n",
       "      <th>1</th>\n",
       "      <td>Donald Trump vs. Hillary Clinton Debate Cold O...</td>\n",
       "    </tr>\n",
       "    <tr>\n",
       "      <th>2</th>\n",
       "      <td>@realDonaldTrump The need is to blow off the \"...</td>\n",
       "    </tr>\n",
       "    <tr>\n",
       "      <th>3</th>\n",
       "      <td>US-Medien: Trump zahlte womöglich jahrelang ke...</td>\n",
       "    </tr>\n",
       "    <tr>\n",
       "      <th>4</th>\n",
       "      <td>#amjoy #cnn #msnbc #Trump has 2 words for #dep...</td>\n",
       "    </tr>\n",
       "  </tbody>\n",
       "</table>\n",
       "</div>"
      ],
      "text/plain": [
       "                                             content\n",
       "0  Leaked records show Trump may have avoided tax...\n",
       "1  Donald Trump vs. Hillary Clinton Debate Cold O...\n",
       "2  @realDonaldTrump The need is to blow off the \"...\n",
       "3  US-Medien: Trump zahlte womöglich jahrelang ke...\n",
       "4  #amjoy #cnn #msnbc #Trump has 2 words for #dep..."
      ]
     },
     "metadata": {},
     "output_type": "display_data"
    },
    {
     "data": {
      "text/html": [
       "<div>\n",
       "<style scoped>\n",
       "    .dataframe tbody tr th:only-of-type {\n",
       "        vertical-align: middle;\n",
       "    }\n",
       "\n",
       "    .dataframe tbody tr th {\n",
       "        vertical-align: top;\n",
       "    }\n",
       "\n",
       "    .dataframe thead th {\n",
       "        text-align: right;\n",
       "    }\n",
       "</style>\n",
       "<table border=\"1\" class=\"dataframe\">\n",
       "  <thead>\n",
       "    <tr style=\"text-align: right;\">\n",
       "      <th></th>\n",
       "      <th>content</th>\n",
       "    </tr>\n",
       "  </thead>\n",
       "  <tbody>\n",
       "    <tr>\n",
       "      <th>7574</th>\n",
       "      <td>Since 1986-2016(30Years) =20Years Republican A...</td>\n",
       "    </tr>\n",
       "    <tr>\n",
       "      <th>7575</th>\n",
       "      <td>Onlooker repeatedly yells ‘Bill Clinton is a r...</td>\n",
       "    </tr>\n",
       "    <tr>\n",
       "      <th>7576</th>\n",
       "      <td>I'm having a very hard time right now in sever...</td>\n",
       "    </tr>\n",
       "    <tr>\n",
       "      <th>7577</th>\n",
       "      <td>Between #trump, Giuliani, Ailes they have 10 d...</td>\n",
       "    </tr>\n",
       "    <tr>\n",
       "      <th>7578</th>\n",
       "      <td>Larry David brings Bernie Sanders back to ‘SNL...</td>\n",
       "    </tr>\n",
       "  </tbody>\n",
       "</table>\n",
       "</div>"
      ],
      "text/plain": [
       "                                                content\n",
       "7574  Since 1986-2016(30Years) =20Years Republican A...\n",
       "7575  Onlooker repeatedly yells ‘Bill Clinton is a r...\n",
       "7576  I'm having a very hard time right now in sever...\n",
       "7577  Between #trump, Giuliani, Ailes they have 10 d...\n",
       "7578  Larry David brings Bernie Sanders back to ‘SNL..."
      ]
     },
     "metadata": {},
     "output_type": "display_data"
    }
   ],
   "source": [
    "display(label.head())\n",
    "display(label.tail())"
   ]
  },
  {
   "cell_type": "code",
   "execution_count": 25,
   "metadata": {},
   "outputs": [
    {
     "data": {
      "text/plain": [
       "(7579, 1)"
      ]
     },
     "execution_count": 25,
     "metadata": {},
     "output_type": "execute_result"
    }
   ],
   "source": [
    "label.shape"
   ]
  },
  {
   "cell_type": "code",
   "execution_count": 26,
   "metadata": {
    "scrolled": false
   },
   "outputs": [
    {
     "name": "stdout",
     "output_type": "stream",
     "text": [
      "<class 'pandas.core.frame.DataFrame'>\n",
      "RangeIndex: 7579 entries, 0 to 7578\n",
      "Data columns (total 1 columns):\n",
      " #   Column   Non-Null Count  Dtype \n",
      "---  ------   --------------  ----- \n",
      " 0   content  7579 non-null   object\n",
      "dtypes: object(1)\n",
      "memory usage: 59.3+ KB\n"
     ]
    }
   ],
   "source": [
    "label.info()"
   ]
  },
  {
   "cell_type": "code",
   "execution_count": 27,
   "metadata": {},
   "outputs": [],
   "source": [
    "temp2 = np.zeros(len(label))\n",
    "label['label'] = temp2"
   ]
  },
  {
   "cell_type": "code",
   "execution_count": 28,
   "metadata": {},
   "outputs": [
    {
     "data": {
      "text/html": [
       "<div>\n",
       "<style scoped>\n",
       "    .dataframe tbody tr th:only-of-type {\n",
       "        vertical-align: middle;\n",
       "    }\n",
       "\n",
       "    .dataframe tbody tr th {\n",
       "        vertical-align: top;\n",
       "    }\n",
       "\n",
       "    .dataframe thead th {\n",
       "        text-align: right;\n",
       "    }\n",
       "</style>\n",
       "<table border=\"1\" class=\"dataframe\">\n",
       "  <thead>\n",
       "    <tr style=\"text-align: right;\">\n",
       "      <th></th>\n",
       "      <th>content</th>\n",
       "      <th>label</th>\n",
       "    </tr>\n",
       "  </thead>\n",
       "  <tbody>\n",
       "    <tr>\n",
       "      <th>0</th>\n",
       "      <td>Leaked records show Trump may have avoided tax...</td>\n",
       "      <td>0</td>\n",
       "    </tr>\n",
       "    <tr>\n",
       "      <th>1</th>\n",
       "      <td>Donald Trump vs. Hillary Clinton Debate Cold O...</td>\n",
       "      <td>0</td>\n",
       "    </tr>\n",
       "    <tr>\n",
       "      <th>2</th>\n",
       "      <td>@realDonaldTrump The need is to blow off the \"...</td>\n",
       "      <td>0</td>\n",
       "    </tr>\n",
       "    <tr>\n",
       "      <th>3</th>\n",
       "      <td>US-Medien: Trump zahlte womöglich jahrelang ke...</td>\n",
       "      <td>0</td>\n",
       "    </tr>\n",
       "    <tr>\n",
       "      <th>4</th>\n",
       "      <td>#amjoy #cnn #msnbc #Trump has 2 words for #dep...</td>\n",
       "      <td>0</td>\n",
       "    </tr>\n",
       "  </tbody>\n",
       "</table>\n",
       "</div>"
      ],
      "text/plain": [
       "                                             content  label\n",
       "0  Leaked records show Trump may have avoided tax...      0\n",
       "1  Donald Trump vs. Hillary Clinton Debate Cold O...      0\n",
       "2  @realDonaldTrump The need is to blow off the \"...      0\n",
       "3  US-Medien: Trump zahlte womöglich jahrelang ke...      0\n",
       "4  #amjoy #cnn #msnbc #Trump has 2 words for #dep...      0"
      ]
     },
     "execution_count": 28,
     "metadata": {},
     "output_type": "execute_result"
    }
   ],
   "source": [
    "label['label'] = label['label'].astype(int)\n",
    "label.head()"
   ]
  },
  {
   "cell_type": "code",
   "execution_count": 29,
   "metadata": {},
   "outputs": [
    {
     "data": {
      "text/plain": [
       "(7579, 2)"
      ]
     },
     "execution_count": 29,
     "metadata": {},
     "output_type": "execute_result"
    }
   ],
   "source": [
    "label.shape"
   ]
  },
  {
   "cell_type": "code",
   "execution_count": 30,
   "metadata": {},
   "outputs": [
    {
     "data": {
      "text/plain": [
       "content    0\n",
       "label      0\n",
       "dtype: int64"
      ]
     },
     "execution_count": 30,
     "metadata": {},
     "output_type": "execute_result"
    }
   ],
   "source": [
    "label.isnull().sum()"
   ]
  },
  {
   "cell_type": "markdown",
   "metadata": {},
   "source": [
    "### iv) Final dataframe only with 'content'"
   ]
  },
  {
   "cell_type": "code",
   "execution_count": 31,
   "metadata": {
    "scrolled": true
   },
   "outputs": [],
   "source": [
    "tweets = pd.concat([df_content_shuffle, label], ignore_index=True)"
   ]
  },
  {
   "cell_type": "code",
   "execution_count": 32,
   "metadata": {
    "scrolled": false
   },
   "outputs": [
    {
     "data": {
      "text/html": [
       "<div>\n",
       "<style scoped>\n",
       "    .dataframe tbody tr th:only-of-type {\n",
       "        vertical-align: middle;\n",
       "    }\n",
       "\n",
       "    .dataframe tbody tr th {\n",
       "        vertical-align: top;\n",
       "    }\n",
       "\n",
       "    .dataframe thead th {\n",
       "        text-align: right;\n",
       "    }\n",
       "</style>\n",
       "<table border=\"1\" class=\"dataframe\">\n",
       "  <thead>\n",
       "    <tr style=\"text-align: right;\">\n",
       "      <th></th>\n",
       "      <th>content</th>\n",
       "      <th>label</th>\n",
       "    </tr>\n",
       "  </thead>\n",
       "  <tbody>\n",
       "    <tr>\n",
       "      <th>0</th>\n",
       "      <td>NBC BUSTED Calling Disgraced Dem Senator Menen...</td>\n",
       "      <td>1</td>\n",
       "    </tr>\n",
       "    <tr>\n",
       "      <th>1</th>\n",
       "      <td>“Weird Al” Yankovic joins Denver Comic Con’s 2...</td>\n",
       "      <td>1</td>\n",
       "    </tr>\n",
       "    <tr>\n",
       "      <th>2</th>\n",
       "      <td>One person wounded after Wednesday afternoon s...</td>\n",
       "      <td>1</td>\n",
       "    </tr>\n",
       "    <tr>\n",
       "      <th>3</th>\n",
       "      <td>1 thing we in 'The Black Fist' love is telling...</td>\n",
       "      <td>1</td>\n",
       "    </tr>\n",
       "    <tr>\n",
       "      <th>4</th>\n",
       "      <td>#sports Giants' Eight-Game Win Streak Snapped ...</td>\n",
       "      <td>1</td>\n",
       "    </tr>\n",
       "  </tbody>\n",
       "</table>\n",
       "</div>"
      ],
      "text/plain": [
       "                                             content  label\n",
       "0  NBC BUSTED Calling Disgraced Dem Senator Menen...      1\n",
       "1  “Weird Al” Yankovic joins Denver Comic Con’s 2...      1\n",
       "2  One person wounded after Wednesday afternoon s...      1\n",
       "3  1 thing we in 'The Black Fist' love is telling...      1\n",
       "4  #sports Giants' Eight-Game Win Streak Snapped ...      1"
      ]
     },
     "execution_count": 32,
     "metadata": {},
     "output_type": "execute_result"
    }
   ],
   "source": [
    "tweets.head()"
   ]
  },
  {
   "cell_type": "code",
   "execution_count": 33,
   "metadata": {},
   "outputs": [
    {
     "data": {
      "text/plain": [
       "(17579, 2)"
      ]
     },
     "execution_count": 33,
     "metadata": {},
     "output_type": "execute_result"
    }
   ],
   "source": [
    "tweets.shape"
   ]
  },
  {
   "cell_type": "code",
   "execution_count": 34,
   "metadata": {},
   "outputs": [
    {
     "data": {
      "text/plain": [
       "content    0\n",
       "label      0\n",
       "dtype: int64"
      ]
     },
     "execution_count": 34,
     "metadata": {},
     "output_type": "execute_result"
    }
   ],
   "source": [
    "tweets.isnull().sum()"
   ]
  },
  {
   "cell_type": "code",
   "execution_count": 35,
   "metadata": {
    "scrolled": true
   },
   "outputs": [
    {
     "data": {
      "text/html": [
       "<div>\n",
       "<style scoped>\n",
       "    .dataframe tbody tr th:only-of-type {\n",
       "        vertical-align: middle;\n",
       "    }\n",
       "\n",
       "    .dataframe tbody tr th {\n",
       "        vertical-align: top;\n",
       "    }\n",
       "\n",
       "    .dataframe thead th {\n",
       "        text-align: right;\n",
       "    }\n",
       "</style>\n",
       "<table border=\"1\" class=\"dataframe\">\n",
       "  <thead>\n",
       "    <tr style=\"text-align: right;\">\n",
       "      <th></th>\n",
       "      <th>content</th>\n",
       "      <th>label</th>\n",
       "    </tr>\n",
       "  </thead>\n",
       "  <tbody>\n",
       "    <tr>\n",
       "      <th>0</th>\n",
       "      <td>#AllLivesMatter/ #BlackLivesMatter PSA #5 Well...</td>\n",
       "      <td>1</td>\n",
       "    </tr>\n",
       "    <tr>\n",
       "      <th>1</th>\n",
       "      <td>White people trying to figure out how to decol...</td>\n",
       "      <td>1</td>\n",
       "    </tr>\n",
       "    <tr>\n",
       "      <th>2</th>\n",
       "      <td>I've never voted before. But this year Ill be ...</td>\n",
       "      <td>0</td>\n",
       "    </tr>\n",
       "    <tr>\n",
       "      <th>3</th>\n",
       "      <td>#jobb North Korea Tensions Lead Gold Prices So...</td>\n",
       "      <td>1</td>\n",
       "    </tr>\n",
       "    <tr>\n",
       "      <th>4</th>\n",
       "      <td>Alec Baldwin Just Impersonated Trump On SNL, A...</td>\n",
       "      <td>0</td>\n",
       "    </tr>\n",
       "    <tr>\n",
       "      <th>5</th>\n",
       "      <td>If he'd committed sexual assault he'd be facin...</td>\n",
       "      <td>1</td>\n",
       "    </tr>\n",
       "    <tr>\n",
       "      <th>6</th>\n",
       "      <td>Why are you sleeping on this?!?! https://t.co/...</td>\n",
       "      <td>1</td>\n",
       "    </tr>\n",
       "    <tr>\n",
       "      <th>7</th>\n",
       "      <td>Correct me if I am wrong but with Trump's tax ...</td>\n",
       "      <td>0</td>\n",
       "    </tr>\n",
       "    <tr>\n",
       "      <th>8</th>\n",
       "      <td>#GeorgesBernanos: It’s a fine thing to rise ab...</td>\n",
       "      <td>1</td>\n",
       "    </tr>\n",
       "    <tr>\n",
       "      <th>9</th>\n",
       "      <td>Pleasure in the job puts perfection in the work.</td>\n",
       "      <td>1</td>\n",
       "    </tr>\n",
       "  </tbody>\n",
       "</table>\n",
       "</div>"
      ],
      "text/plain": [
       "                                             content  label\n",
       "0  #AllLivesMatter/ #BlackLivesMatter PSA #5 Well...      1\n",
       "1  White people trying to figure out how to decol...      1\n",
       "2  I've never voted before. But this year Ill be ...      0\n",
       "3  #jobb North Korea Tensions Lead Gold Prices So...      1\n",
       "4  Alec Baldwin Just Impersonated Trump On SNL, A...      0\n",
       "5  If he'd committed sexual assault he'd be facin...      1\n",
       "6  Why are you sleeping on this?!?! https://t.co/...      1\n",
       "7  Correct me if I am wrong but with Trump's tax ...      0\n",
       "8  #GeorgesBernanos: It’s a fine thing to rise ab...      1\n",
       "9   Pleasure in the job puts perfection in the work.      1"
      ]
     },
     "execution_count": 35,
     "metadata": {},
     "output_type": "execute_result"
    }
   ],
   "source": [
    "tweets = tweets.sample(frac = 1).reset_index(drop=True)\n",
    "tweets.head(10)"
   ]
  },
  {
   "cell_type": "code",
   "execution_count": 36,
   "metadata": {
    "scrolled": true
   },
   "outputs": [
    {
     "name": "stdout",
     "output_type": "stream",
     "text": [
      "<class 'pandas.core.frame.DataFrame'>\n",
      "RangeIndex: 17579 entries, 0 to 17578\n",
      "Data columns (total 2 columns):\n",
      " #   Column   Non-Null Count  Dtype \n",
      "---  ------   --------------  ----- \n",
      " 0   content  17579 non-null  object\n",
      " 1   label    17579 non-null  int32 \n",
      "dtypes: int32(1), object(1)\n",
      "memory usage: 206.1+ KB\n"
     ]
    }
   ],
   "source": [
    "tweets.info()"
   ]
  },
  {
   "cell_type": "code",
   "execution_count": 37,
   "metadata": {},
   "outputs": [],
   "source": [
    "tweets['content'] = tweets['content'].astype(str)"
   ]
  },
  {
   "cell_type": "code",
   "execution_count": 38,
   "metadata": {},
   "outputs": [
    {
     "data": {
      "text/plain": [
       "1    10000\n",
       "0     7579\n",
       "Name: label, dtype: int64"
      ]
     },
     "execution_count": 38,
     "metadata": {},
     "output_type": "execute_result"
    }
   ],
   "source": [
    "tweets['label'].value_counts()"
   ]
  },
  {
   "cell_type": "markdown",
   "metadata": {},
   "source": [
    "### Data Visualisation"
   ]
  },
  {
   "cell_type": "markdown",
   "metadata": {},
   "source": [
    "### a. account_category"
   ]
  },
  {
   "cell_type": "code",
   "execution_count": 40,
   "metadata": {},
   "outputs": [
    {
     "data": {
      "text/plain": [
       "8"
      ]
     },
     "execution_count": 40,
     "metadata": {},
     "output_type": "execute_result"
    }
   ],
   "source": [
    "df['account_category'].nunique()"
   ]
  },
  {
   "cell_type": "code",
   "execution_count": 41,
   "metadata": {},
   "outputs": [
    {
     "data": {
      "text/plain": [
       "NonEnglish      837725\n",
       "RightTroll      719087\n",
       "NewsFeed        599294\n",
       "LeftTroll       427811\n",
       "HashtagGamer    241827\n",
       "Commercial      122582\n",
       "Unknown          13905\n",
       "Fearmonger       11140\n",
       "Name: account_category, dtype: int64"
      ]
     },
     "execution_count": 41,
     "metadata": {},
     "output_type": "execute_result"
    }
   ],
   "source": [
    "df['account_category'].value_counts()"
   ]
  },
  {
   "cell_type": "code",
   "execution_count": 42,
   "metadata": {
    "scrolled": true
   },
   "outputs": [
    {
     "data": {
      "image/png": "[encoded data removed]",
      "text/plain": [
       "<Figure size 576x432 with 1 Axes>"
      ]
     },
     "metadata": {
      "needs_background": "light"
     },
     "output_type": "display_data"
    }
   ],
   "source": [
    "plt.figure(figsize=(8,6))\n",
    "sns.countplot(df['account_category'])\n",
    "plt.xlabel(\"account_category\", fontsize=18, fontweight=\"bold\")\n",
    "plt.ylabel(\"count\", fontsize=18, fontweight=\"bold\")\n",
    "plt.xticks(fontsize=13, rotation=45)\n",
    "plt.yticks(fontsize=13)\n",
    "plt.show()"
   ]
  },
  {
   "cell_type": "markdown",
   "metadata": {},
   "source": [
    "### b. account_type"
   ]
  },
  {
   "cell_type": "code",
   "execution_count": 43,
   "metadata": {},
   "outputs": [
    {
     "data": {
      "text/plain": [
       "20"
      ]
     },
     "execution_count": 43,
     "metadata": {},
     "output_type": "execute_result"
    }
   ],
   "source": [
    "df['account_type'].nunique()"
   ]
  },
  {
   "cell_type": "code",
   "execution_count": 44,
   "metadata": {},
   "outputs": [
    {
     "data": {
      "text/plain": [
       "Russian       721191\n",
       "Right         718619\n",
       "local         460197\n",
       "left          427811\n",
       "Hashtager     241827\n",
       "news          139097\n",
       "Commercial    122582\n",
       "German         91851\n",
       "Italian        15899\n",
       "?              13542\n",
       "Koch           10894\n",
       "Arabic          6229\n",
       "Spanish         1314\n",
       "French          1117\n",
       "right            468\n",
       "ZAPOROSHIA       175\n",
       "Portuguese       118\n",
       "Ebola             71\n",
       "Ukranian           4\n",
       "Uzbek              2\n",
       "Name: account_type, dtype: int64"
      ]
     },
     "execution_count": 44,
     "metadata": {},
     "output_type": "execute_result"
    }
   ],
   "source": [
    "df['account_type'].value_counts()"
   ]
  },
  {
   "cell_type": "code",
   "execution_count": 45,
   "metadata": {},
   "outputs": [
    {
     "data": {
      "image/png": "[encoded data removed]",
      "text/plain": [
       "<Figure size 576x432 with 1 Axes>"
      ]
     },
     "metadata": {
      "needs_background": "light"
     },
     "output_type": "display_data"
    }
   ],
   "source": [
    "plt.figure(figsize=(8,6))\n",
    "df['account_type'].value_counts().sort_values(ascending=True).plot.bar()\n",
    "plt.xlabel(\"account_type\", fontsize=18, fontweight=\"bold\")\n",
    "plt.ylabel(\"count\", fontsize=18, fontweight=\"bold\")\n",
    "plt.xticks(fontsize=13, rotation=75)\n",
    "plt.yticks(fontsize=13)\n",
    "plt.show()"
   ]
  },
  {
   "cell_type": "markdown",
   "metadata": {},
   "source": [
    "### c. post_type"
   ]
  },
  {
   "cell_type": "code",
   "execution_count": 46,
   "metadata": {},
   "outputs": [
    {
     "data": {
      "text/plain": [
       "2"
      ]
     },
     "execution_count": 46,
     "metadata": {},
     "output_type": "execute_result"
    }
   ],
   "source": [
    "df['post_type'].nunique()"
   ]
  },
  {
   "cell_type": "code",
   "execution_count": 47,
   "metadata": {},
   "outputs": [
    {
     "data": {
      "text/plain": [
       "RETWEET        1270702\n",
       "QUOTE_TWEET      40244\n",
       "Name: post_type, dtype: int64"
      ]
     },
     "execution_count": 47,
     "metadata": {},
     "output_type": "execute_result"
    }
   ],
   "source": [
    "df['post_type'].value_counts()"
   ]
  },
  {
   "cell_type": "markdown",
   "metadata": {},
   "source": [
    "### d. region"
   ]
  },
  {
   "cell_type": "code",
   "execution_count": 48,
   "metadata": {},
   "outputs": [
    {
     "data": {
      "text/plain": [
       "36"
      ]
     },
     "execution_count": 48,
     "metadata": {},
     "output_type": "execute_result"
    }
   ],
   "source": [
    "df['region'].nunique()"
   ]
  },
  {
   "cell_type": "code",
   "execution_count": 49,
   "metadata": {},
   "outputs": [
    {
     "data": {
      "text/plain": [
       "United States                2055882\n",
       "Unknown                       572767\n",
       "Azerbaijan                    100755\n",
       "United Arab Emirates           74908\n",
       "Russian Federation             37637\n",
       "Belarus                        29619\n",
       "Germany                        27192\n",
       "United Kingdom                 18062\n",
       "Italy                          13494\n",
       "Iraq                           11219\n",
       "Ukraine                         6272\n",
       "Malaysia                        4933\n",
       "Afghanistan                     4889\n",
       "Israel                          3606\n",
       "France                           942\n",
       "Canada                           608\n",
       "Iran, Islamic Republic of        541\n",
       "Spain                            515\n",
       "Egypt                            232\n",
       "Japan                            110\n",
       "Greece                            91\n",
       "Saudi Arabia                      55\n",
       "Sweden                            52\n",
       "Mexico                            41\n",
       "Samoa                             32\n",
       "India                             22\n",
       "Finland                           20\n",
       "Turkey                             9\n",
       "Latvia                             7\n",
       "Czech Republic                     7\n",
       "Hong Kong                          3\n",
       "Serbia                             2\n",
       "Austria                            1\n",
       "Denmark                            1\n",
       "Switzerland                        1\n",
       "Estonia                            1\n",
       "Name: region, dtype: int64"
      ]
     },
     "execution_count": 49,
     "metadata": {},
     "output_type": "execute_result"
    }
   ],
   "source": [
    "df['region'].value_counts()"
   ]
  },
  {
   "cell_type": "code",
   "execution_count": 50,
   "metadata": {},
   "outputs": [
    {
     "data": {
      "image/png": "[encoded data removed]",
      "text/plain": [
       "<Figure size 720x576 with 1 Axes>"
      ]
     },
     "metadata": {
      "needs_background": "light"
     },
     "output_type": "display_data"
    }
   ],
   "source": [
    "plt.figure(figsize=(10,8))\n",
    "df['region'].value_counts().sort_values(ascending=True).plot.bar()\n",
    "plt.xlabel(\"region\", fontsize=18, fontweight=\"bold\")\n",
    "plt.ylabel(\"count\", fontsize=18, fontweight=\"bold\")\n",
    "plt.xticks(fontsize=13, rotation=90)\n",
    "plt.yticks(fontsize=13)\n",
    "plt.show()"
   ]
  },
  {
   "cell_type": "markdown",
   "metadata": {},
   "source": [
    "### e. language"
   ]
  },
  {
   "cell_type": "code",
   "execution_count": 51,
   "metadata": {},
   "outputs": [
    {
     "data": {
      "text/plain": [
       "56"
      ]
     },
     "execution_count": 51,
     "metadata": {},
     "output_type": "execute_result"
    }
   ],
   "source": [
    "df['language'].nunique()"
   ]
  },
  {
   "cell_type": "code",
   "execution_count": 52,
   "metadata": {},
   "outputs": [
    {
     "data": {
      "text/plain": [
       "English                2128963\n",
       "Russian                 624124\n",
       "German                   87171\n",
       "Ukrainian                39361\n",
       "Italian                  18254\n",
       "Serbian                   9615\n",
       "Uzbek                     9491\n",
       "Bulgarian                 9458\n",
       "LANGUAGE UNDEFINED        8325\n",
       "Arabic                    7595\n",
       "Macedonian                5260\n",
       "French                    4572\n",
       "Spanish                   3145\n",
       "Norwegian                 2252\n",
       "Farsi (Persian)           1685\n",
       "Romanian                  1631\n",
       "Dutch                     1167\n",
       "Swedish                   1021\n",
       "Vietnamese                 990\n",
       "Estonian                   771\n",
       "Japanese                   766\n",
       "Catalan                    590\n",
       "Finnish                    581\n",
       "Albanian                   572\n",
       "Croatian                   546\n",
       "Icelandic                  499\n",
       "Pushto                     488\n",
       "Portuguese                 465\n",
       "Turkish                    445\n",
       "Lithuanian                 417\n",
       "Polish                     386\n",
       "Somali                     277\n",
       "Slovak                     260\n",
       "Tagalog (Filipino)         240\n",
       "Kurdish                    237\n",
       "Malay                      236\n",
       "Latvian                    219\n",
       "Hungarian                  192\n",
       "Czech                      186\n",
       "Greek                      186\n",
       "Indonesian                 168\n",
       "Korean                     106\n",
       "Danish                      91\n",
       "Hindi                       88\n",
       "Hebrew                      67\n",
       "Slovenian                   62\n",
       "Urdu                        59\n",
       "Thai                        38\n",
       "Simplified Chinese          21\n",
       "Traditional Chinese         11\n",
       "Tamil                        9\n",
       "Gujarati                     6\n",
       "Bengali                      2\n",
       "Telugu                       2\n",
       "Malayalam                    1\n",
       "Kannada                      1\n",
       "Name: language, dtype: int64"
      ]
     },
     "execution_count": 52,
     "metadata": {},
     "output_type": "execute_result"
    }
   ],
   "source": [
    "df['language'].value_counts()"
   ]
  },
  {
   "cell_type": "code",
   "execution_count": 53,
   "metadata": {},
   "outputs": [
    {
     "data": {
      "image/png": "[encoded data removed]",
      "text/plain": [
       "<Figure size 1080x720 with 1 Axes>"
      ]
     },
     "metadata": {
      "needs_background": "light"
     },
     "output_type": "display_data"
    }
   ],
   "source": [
    "plt.figure(figsize=(15,10))\n",
    "df['language'].value_counts().sort_values(ascending=True).plot.bar()\n",
    "plt.xlabel(\"language\", fontsize=18, fontweight=\"bold\")\n",
    "plt.ylabel(\"count\", fontsize=18, fontweight=\"bold\")\n",
    "plt.xticks(fontsize=13, rotation=90)\n",
    "plt.yticks(fontsize=13)\n",
    "plt.show()"
   ]
  },
  {
   "cell_type": "markdown",
   "metadata": {},
   "source": [
    "### f. Negative tweets"
   ]
  },
  {
   "cell_type": "code",
   "execution_count": 54,
   "metadata": {},
   "outputs": [
    {
     "data": {
      "text/plain": [
       "7638"
      ]
     },
     "execution_count": 54,
     "metadata": {},
     "output_type": "execute_result"
    }
   ],
   "source": [
    "label['content'].nunique()"
   ]
  },
  {
   "cell_type": "code",
   "execution_count": 55,
   "metadata": {},
   "outputs": [
    {
     "data": {
      "text/plain": [
       "0    Leaked records show Trump may have avoided tax...\n",
       "1    Donald Trump vs. Hillary Clinton Debate Cold O...\n",
       "2    @realDonaldTrump The need is to blow off the \"...\n",
       "3    US-Medien: Trump zahlte womöglich jahrelang ke...\n",
       "4    #amjoy #cnn #msnbc #Trump has 2 words for #dep...\n",
       "Name: content, dtype: object"
      ]
     },
     "execution_count": 55,
     "metadata": {},
     "output_type": "execute_result"
    }
   ],
   "source": [
    "label['content'].head()"
   ]
  },
  {
   "cell_type": "code",
   "execution_count": 56,
   "metadata": {},
   "outputs": [
    {
     "data": {
      "text/plain": [
       "💩                                                                                                                                               12\n",
       "@realDonaldTrump                                                                                                                                 6\n",
       "“Trek against Trump” urges voters to choose Hillary Clinton:                                                                                     5\n",
       "Obama Tak Sabar Menunggu Bill Clinton Naik Pesawat: Ayo Pulang!:                                                                                 5\n",
       "https://t.co/DSNENwnv7u                                                                                                                          4\n",
       "                                                                                                                                                ..\n",
       "Trump sex tape comments frustrate GOP supporters: Donald Trump’s middle-of-the-night tweets about a… https://t.co/q4Dz9I2eTB | #Election2016     1\n",
       "Voters don't find it odd, \"BUSH\" is backing Hillary Clinton? #ClintonCash                                                                        1\n",
       "_AnimalAdvocate: .nilslofgren                                                                                                                    1\n",
       "Narcissism is the opposite of love. Hillary Clinton is just about narcissism. Do the maths                                                       1\n",
       "Germany believes Trump presidency would batter US economy, report says https://t.co/aJISjSLSqq                                                   1\n",
       "Name: content, Length: 7638, dtype: int64"
      ]
     },
     "execution_count": 56,
     "metadata": {},
     "output_type": "execute_result"
    }
   ],
   "source": [
    "label['content'].value_counts()"
   ]
  },
  {
   "cell_type": "markdown",
   "metadata": {},
   "source": [
    "---------------"
   ]
  },
  {
   "cell_type": "markdown",
   "metadata": {},
   "source": [
    "<h2 style=\"color:blue\" align=\"left\"> 4. Text Cleaning or Preprocessing </h2>"
   ]
  },
  {
   "cell_type": "markdown",
   "metadata": {},
   "source": [
    "from bs4 import BeautifulSoup\n",
    "from nltk.stem import WordNetLemmatizer\n",
    "lem = WordNetLemmatizer()"
   ]
  },
  {
   "cell_type": "code",
   "execution_count": 39,
   "metadata": {},
   "outputs": [
    {
     "name": "stderr",
     "output_type": "stream",
     "text": [
      "[nltk_data] Downloading package stopwords to\n",
      "[nltk_data]     C:\\Users\\deepusuresh\\AppData\\Roaming\\nltk_data...\n",
      "[nltk_data]   Package stopwords is already up-to-date!\n"
     ]
    }
   ],
   "source": [
    "# library to clean the text \n",
    "import re  \n",
    "  \n",
    "# Natural Language Tool Kit \n",
    "import nltk  \n",
    "  \n",
    "# stopwords is a list of unwanted words like the,and,of,etc...\n",
    "nltk.download('stopwords') \n",
    "  \n",
    "# to remove stopword; corpus is a collection of text.\n",
    "from nltk.corpus import stopwords \n",
    "  \n",
    "# for Stemming propose  \n",
    "# Stemming means taking the root of the word eg. loved, loving, will love -> love\n",
    "# This will reduce different versions of the same word and will hence reduce the sparsity of matrix\n",
    "from nltk.stem.porter import PorterStemmer"
   ]
  },
  {
   "cell_type": "code",
   "execution_count": 40,
   "metadata": {
    "scrolled": true
   },
   "outputs": [],
   "source": [
    "# Initialize empty array to append clean text  \n",
    "corpus = []\n",
    "\n",
    "# creating PorterStemmer object to take main stem of each word\n",
    "ps = PorterStemmer()\n",
    "\n",
    "# 17708 (reviews) rows to clean \n",
    "for i in range(0, len(tweets)):         \n",
    "    \n",
    "    # remove html tags\n",
    "    review = re.sub(r\"http\\S+\",\"\", tweets['content'][i])\n",
    "    \n",
    "    # remove special characters\n",
    "    review = re.sub('[^a-zA-Z]+', ' ', review)\n",
    "          \n",
    "    # convert all cases to lower cases \n",
    "    review = review.lower()  \n",
    "      \n",
    "    # split to array(default delimiter is \" \") \n",
    "    review = review.split()  \n",
    "      \n",
    "    # loop for stemming each word in string array at ith row     \n",
    "    review = [ps.stem(word) for word in review if not word in set(stopwords.words('english'))] \n",
    "    \n",
    "    # rejoin all string array elements to create back into a string \n",
    "    review = ' '.join(review)   \n",
    "      \n",
    "    # append each string to create array of clean text  \n",
    "    corpus.append(review)  "
   ]
  },
  {
   "cell_type": "code",
   "execution_count": 41,
   "metadata": {
    "scrolled": true
   },
   "outputs": [
    {
     "data": {
      "text/plain": [
       "['alllivesmatt blacklivesmatt psa well fargo bank defraud mn chariti goe jail mngop minnesotadfl',\n",
       " 'white peopl tri figur decolon without return land ndn pay black ppl repar',\n",
       " 'never vote year ill vote vote trump',\n",
       " 'jobb north korea tension lead gold price soar job',\n",
       " 'alec baldwin imperson trump snl hilari',\n",
       " 'commit sexual assault face seriou ramif nfl toler player speak injustic',\n",
       " 'sleep',\n",
       " 'correct wrong trump tax plan famili taxabl incom k tax liabil doubl eek',\n",
       " 'georgesbernano fine thing rise pride quot quot',\n",
       " 'pleasur job put perfect work',\n",
       " 'plain cigarett packag could drive briton quit smoke',\n",
       " 'watch trump launch person attack hillari clinton',\n",
       " 'upi cvoter poll trump regain lead clinton septemb end',\n",
       " 'chelsea clinton slip may said someth end hillari career video',\n",
       " 'hear philli pollwatch testifi elect judg push pole place',\n",
       " 'fact wealth inequ return level seen sinc roar fightfor',\n",
       " 'thought bbc publish polit correct nonsens',\n",
       " 'trump mild compar bill clinton bill need sex therapi amp hillari stop enabl amp vote trump',\n",
       " 'support team trump download offici app makeamericagreatagain trumptrain',\n",
       " 'good gosh colon af',\n",
       " 'eternalritew eskier fascist islam adeliros az susan etabori un obama act aggress',\n",
       " 'dylann roof work spare life church massacr',\n",
       " 'forbidden one rt zellieimani fruit eaten today',\n",
       " 'visit polit shirt muslimban muslimbanprotest resist nowallnoban nowal noban lovetrumpsh',\n",
       " 'donald trump go unit us listen media elit maga',\n",
       " 'lebron prove win nba championship champion commun blackexcel',\n",
       " 'sport bradi defend break cell phone',\n",
       " 'cop nab anoth pose year old craigslist underag sex sting',\n",
       " 'realdonaldtrump kellyannepol seanhann ericbol tuckercarlson seen expos foxshow',\n",
       " 'billionair trump avoid tax year',\n",
       " 'googl get twitter like therepublican debat abcgopdeb abcnew',\n",
       " 'itsmuchbetterto love hate smile frown give receiv sing music sit silenc love smile give',\n",
       " 'hostil poll watcher could hand pennsylvania trump politico',\n",
       " 'liber tear sign',\n",
       " 'ibd barack hussein obama admit isi behead christian ibdeditori',\n",
       " 'import piec elect trump clinton elect mention amaz',\n",
       " 'stop trump famili slaughter eleph leopard stoptrumptrophi via forcechang',\n",
       " 'hillari bill corrupt haitian presidenti elect neverhillari trump',\n",
       " 'break k car risk hacker take control jeep cheroke crash read',\n",
       " 'top rt fuctupmind anthoni weiner huma abedin thread',\n",
       " 'dont got money leav broke ass home',\n",
       " 'uselect fix look like politician fall cliff metaphor washington post',\n",
       " 'sport ye olymp like still happen',\n",
       " 'style nice day ifiwereyourmom mothersday',\n",
       " 'itali readi open hospit libya deploy soldier staff world news',\n",
       " 'via thinkprogress trump campaign spin trump nearli billion dollar loss geniu p tcot polit',\n",
       " 'realdonaldtrump accord gal corrupthillari campaign even up anti toward elect day trumpforpresid',\n",
       " 'report dog tore larg chunk flesh homeless vet',\n",
       " 'social media reaction prove san antonio love thought snow almost much',\n",
       " 'media silent us alli saudi arabia massacr peopl',\n",
       " 'soul cheap',\n",
       " 'read',\n",
       " 'rt peaceandjoy godblesstheusa',\n",
       " 'white men pleas stop tell need understand nuanc grievanc folk tell get oven',\n",
       " 'trump would build hous architect add want potu hilari tcot pjnet gop ccot maga',\n",
       " 'import point rememb hillari clinton address ufo et question presid',\n",
       " 'realdonaldtrump mikepencevp messag american hillari america never crook hillari clinton',\n",
       " 'donald trump liar liar steal',\n",
       " 'us isra settlement impedi peac may help',\n",
       " 'dear rd parti hater',\n",
       " 'excelent tra el debat clinton repunta en lo sondeo luego del debat presidenci del lune pasado clin',\n",
       " 'iamnotthepresidentbecaus alway run late import meet make sure fabul entranc',\n",
       " 'samantha bee elect want badli',\n",
       " 'former nfler compar colin kaepernick mlk jr',\n",
       " 'hear talk head rave trump abl actual read speech teleprompt bar even low gwb',\n",
       " 'ted cruz one us citizenship problem gopdeb stopthegop',\n",
       " 'break northwestern univers polic lieuten charg child porn',\n",
       " 'guerra trump machado',\n",
       " 'polit state gave boe free pass sale tax',\n",
       " 'thank',\n",
       " 'trump administr releas financi disclosur form',\n",
       " 'flint news lead poison even wors cleveland flintwatercrisi',\n",
       " 'crash close l westbound nd street',\n",
       " 'somewhat sympathet trump faulti mic thing confessyourunpopularopinion',\n",
       " 'trump get supervillain esqu realiz tower',\n",
       " 'danni william bill clinton alleg son join live alex jone show central miss',\n",
       " 'eve ensler donald trump amp rape cultur via msnbc',\n",
       " 'donald trump vs hillari clinton debat cold open snl',\n",
       " 'feed world carbon dioxid good news uspoli elxn cdnpoli eu uk gop climat bcpoli toronto',\n",
       " 'grand juri indict truck driver traci morgan crash',\n",
       " 'rr rt lmdiet rt lindseygrahamsc amaz peopl ran presid amp lost big way want control amp mak',\n",
       " 'san diego citi council fail overrid mayor veto',\n",
       " '',\n",
       " 'watch deer crash mckinney famili door',\n",
       " 'trump tax record reveal could avoid pay tax year',\n",
       " 'emoji movi review big',\n",
       " 'wooow happi thanksgiv imthankfulfor becam vegan kochfarm turkey',\n",
       " 'audit indic raider owe k park revenu coliseum',\n",
       " 'june clinton defens team decid drop appeal execut privileg rule',\n",
       " 'pa man admit kill torch bodi famili farm',\n",
       " 'time donald trump accus rape attempt rape via fusion',\n",
       " 'cuz vote that disgust stopthegop',\n",
       " '',\n",
       " 'brussel donald trump say brussel disast citi comment islamkil',\n",
       " 'everywher trump goe',\n",
       " 'collabor get cozi hard question men women sex entertain',\n",
       " 'north korea call peac treati halt exercis end nuclear test news',\n",
       " 'lgbtq guy gay vote donald trump',\n",
       " 'trevor noah top notch theori donald trump debat snif smartnew',\n",
       " 'um love song',\n",
       " 'noth easter muslim buddi worship god satan neverhillari',\n",
       " 'nigeria militari rescu women children bokoharam real serv mean',\n",
       " 'dohdream faith platform pray preach share wisdom faith',\n",
       " 'realdonaldtrump mr trump stay messag job foreign polici win presid hilari count',\n",
       " 'berni sander react leak clinton audio sen berni sander react leak audio hillari cl',\n",
       " 'trump tax record obtain time reveal could avoid pay tax nearli two decad',\n",
       " 'clinton whomp debat reaction american see hillari clinton winner first presidenti debat',\n",
       " 'word entitl substitut free stuff politician get reelect join patriot',\n",
       " 'trump hold fundrais congressman golf club',\n",
       " 'rob place hour howtoloseyourjob',\n",
       " 'sander defend clinton leak audio point sander said bother tha hill',\n",
       " 'guess come quinoa californiamovi midnight',\n",
       " 'hurt baltimor shoot',\n",
       " 'report donald trump call c word',\n",
       " 'tat uni hillari clinton creus l cart avec donald trumphillari clinton mond',\n",
       " 'wow let sue terror countri injur innoc peopl fair',\n",
       " 'stori tax code time trump million loss may let pay tax year',\n",
       " 'exclus ahead suu kyi visit obama weigh myanmar sanction relief sourc news',\n",
       " 'abduct charg drop australian mother tv crew lebanon',\n",
       " 'german asylum seeker refus work insist merkel guest',\n",
       " 'realdonaldtrump tax code screw amp abusivel congress pass taxpayerbillofright',\n",
       " 'seoul prosecutor raid nation swim feder sport',\n",
       " 'surviv psycholog alon wood surviv prepper wilder',\n",
       " 'welcom zimbabw oh wait franc import third world becom third world',\n",
       " 'make fool outta donald trump admit illuminati confirm',\n",
       " 'clinton campaign seiz trump cameo playboy video hillari clinton campaign friday night seiz',\n",
       " 'two peopl found dead north canton',\n",
       " 'sander defend clinton leak audio point vote clintonkain work w sander',\n",
       " 'trumppenc mani women support trump would happi know softcor porn movi',\n",
       " 'rt amp show trump syrian war trump alreadi drag us war shockingli one talk resist resist',\n",
       " 'benin deploy troop anti boko haram task forc world news',\n",
       " 'overturn tractor trailer close nb wb dekalb counti',\n",
       " 'never lose abil tap inner child innoc foundat',\n",
       " 'album partial ode new orlean thank nola give aseatatthet everi damn day constantli inspir',\n",
       " 'pa face difficult budget year',\n",
       " 'stand lgbt commun milwauke',\n",
       " 'founder tattoo inspir new maci strategi',\n",
       " 'partywentwrongwhen someon start talk polit',\n",
       " 'emerg crew scene rollov crash us th street',\n",
       " 'starwarscharacterswishlist want keep everyth style would great best wish darth',\n",
       " 'dc whisper hillari clinton word super predat taco bowl bimbo deplor basement dweller',\n",
       " 'fact k k gun death suicid unrel guncontrol nra tcot',\n",
       " 'wcpo power cincinnati boy hoop rank',\n",
       " 'donald trump el verdadero cerdo',\n",
       " 'ahead first vote tampa bay time endorsesjeb bush republican nomin abcnew abcgopdeb',\n",
       " 'kaep disrespect militari kneel trump pay tax use support militari veteran',\n",
       " 'travel photo week sharp style plenti hope meet nairobi model citizen',\n",
       " 'diet coke good sarahfrankliin junglist pixi cheskittless jac ac heissarcast ashtraliairwin',\n",
       " 'jordan queen rania visit refuge greek island lesbo news',\n",
       " 'teamtrump realdonaldtrump hillaryclinton think cnn cover doubt',\n",
       " 'officialcoredj mixshow hotlist week spotifi',\n",
       " 'georgia tech rb clinton lynch gallop field yard run miavsgt',\n",
       " 'fellon new poll america agre trump confeder statu',\n",
       " 'miami fort lauderdal polic offic fire resign wake racist video local',\n",
       " 'trade bill face dim futur democrat thwart obama',\n",
       " 'workout first time like year elliezaleski instantlygomez treskeez jai slxt skywe',\n",
       " 'hotel growlifornia dogsong midnight',\n",
       " 'bettyshelbi tri excus justifi action lie show inhuman lack empathi terencecrutch life',\n",
       " 'obama anoth four whatiwantforchristmasin word',\n",
       " 'trump gooni think american ppl stupid believ avoid tax decad win whn other pay jail',\n",
       " 'groupon appoint new ceo forecast weak tech',\n",
       " 'hillaryclinton line attack next debat ask trump prove audit prove lie america tax',\n",
       " 'mymondaystartswith search job',\n",
       " 'rudi giuliani lost mind would tri prosecut trump squeal pig novemb th disappear',\n",
       " 'dream jkcorden presid rememb anyth els except cri bc glad trump',\n",
       " 'hillari fundrais franc england want',\n",
       " 'icelebratetrumpwith vodka rum sure yet',\n",
       " 'ijeomaamaka ij zarakram zara wer everlink dominion abbhi subodh gahawolf joe wweraheem',\n",
       " 'hillari clinton freed child rapist',\n",
       " 'accord clinton real scandal trump pay feder tax legal requir neverhillari trumptaxreturn',\n",
       " 'donald trump open new line attack hillari clinton marriag',\n",
       " 'social media larri david bring berni sander back snl trump campaign showdown',\n",
       " 'black live matter activist sue la polic meet arrest',\n",
       " 'jame baldwin woke comment american flag time ever',\n",
       " 'trump rant hit alicia machado suppos sex tape cnet',\n",
       " 'wp come januari joe biden unabl move back delawar tim kain allow stay spare bedr',\n",
       " 'intellectu dishonesti wiunion',\n",
       " 'rt occupycorruptdc walmart destroy mom amp pop busi across america slave labor non white lect',\n",
       " 'hey jasoninthehous go investig rudi guliani know comey letter advanc',\n",
       " 'keep remind yall cuz trump got yall fell like',\n",
       " 'addpotinamovi weed chucki',\n",
       " 'realdonaldtrump donald love hillari',\n",
       " 'play lil vinc ft jose guapo trap hous',\n",
       " 'journalist told stori time trump call c word mediait',\n",
       " 'ivanka trump debut televis ad father',\n",
       " 'media tri hard get turn trump fail awesom interview follow',\n",
       " 'ron trump manag pay incom tax return audit go back sever year',\n",
       " 'peopl need trump',\n",
       " 'licens imbib addpotinamovi',\n",
       " 'wanna say someth profugh profugh smart butigotcoldfeet rememb whenimsotallytob',\n",
       " 'regardless support polici benefit women famili becom topic mainstream convers good thing',\n",
       " 'h respect dialog need ensur open amp safe democrat process',\n",
       " 'self love defin wednesdaywisdom',\n",
       " 'week panel domin trump hater',\n",
       " 'topnew whitney houston daughter hospit found unrespons',\n",
       " 'matter yuge trump ralli wolv like kruz yeb hispan caucu hispan group get hook trump doomsday',\n",
       " 'polic offic shot palm spring manhunt underway one offic critic condit',\n",
       " 'exomar orbit imag phobo astrobiolog magazin',\n",
       " 'random dude crash live fox news broadcast announc world bill clinton rapist',\n",
       " 'imlostwithout incubu music without live stark rave sick sad littl world',\n",
       " 'see even dog patriot pay attent lib may learn someth maga',\n",
       " 'hillari tax plan legal theft trump plan would grow economi prosper plan recess plan',\n",
       " 'even sure tommi lee jone rick perri differ peopl tbh',\n",
       " 'donald trump urg us presid barack obama pardon hillari clinton donaldtrump',\n",
       " 'like rat alway work better hidden thedemocrat',\n",
       " 'trump could avoid pay tax year report tax record say thestrugglecontinu lgbt',\n",
       " 'new york time exhorta en espa ol lo latino votar masivament clinton',\n",
       " 'state rais cap potenti miami dade smart plan invest',\n",
       " 'nevertrump dumptrump uniteblu hirc',\n",
       " 'donald trump melaporkan dirinya mengalami kerugian us',\n",
       " 'base tweet hillari clinton belong prison doctor heard snore',\n",
       " 'hotjoint dpone lifestyl barz hook',\n",
       " 'enlarg levar burton play lt cmdr ge',\n",
       " 'adam eaton know social media eventu get get',\n",
       " 'pink floyd play pig trump',\n",
       " 'moon egg bigger thing laid rejecteddebatetop',\n",
       " 'islamkil politician need stop defend isi brussel',\n",
       " 'eat gilbert grape drink makeamovieblack',\n",
       " 'rubinjen thank share therealbakari read',\n",
       " 'nc resid think billboard goe far',\n",
       " 'amm trump surpris china go like ami',\n",
       " 'screw america smart',\n",
       " 'thr christi tax return public good stori trump washex',\n",
       " '',\n",
       " 'hillaryfornh need volunt drive voter elect day',\n",
       " 'american ralli trump via geller report american ralli trump',\n",
       " 'key hillari clinton aid repeatedli misplac sensit info accord report',\n",
       " 'minut till weekli game join giselleevn us',\n",
       " 'indi music game chang play',\n",
       " 'santorum visit boender farm oskaloosa gopdeb stopthegop',\n",
       " 'tom bradi legal team file appeal deflateg sport',\n",
       " 'check new mixtap kamikaz lnlystnrtx get coast coastmag hiphop rap coast coast',\n",
       " 'good dog clinton keep ear open florida annelamott',\n",
       " 'donald trump vs hillari clinton debat cold open snl via youtub cnn',\n",
       " 'foster system year woman gave life chang news',\n",
       " 'must hurt',\n",
       " 'fnreport break news',\n",
       " 'thursday usd exchang rate set syp',\n",
       " 'alec baldwin return saturday night live donald trump via rightrelev thank enew',\n",
       " 'dem lawmak urg african american stay white hous',\n",
       " 'americanair flight attend aa charlott decid use loudspeak conduct polit ralli flight',\n",
       " 'mainstream media scare tell week via liz wheeler rednationris',\n",
       " 'realdonaldtrump racist graffiti attack histor black school virginia',\n",
       " 'alec baldwin lampoon trump joke tax saturday night live season',\n",
       " 'realdonaldtrump whatev tax trump paid would accord bill clinton tax law kellyannepol',\n",
       " 'workout kill im nani jonestruli imjaneellen cooki bieber q tippp hfluegel naejza incraeibl',\n",
       " 'american mean infidel sure glad one islamexpos infidel',\n",
       " 'final season scandal begin octob th get readi shondaland',\n",
       " 'tuu yoo clinton could put away trump carri north carolina republican donald trump li',\n",
       " 'abc anyon clinton trump way say sander support vote gov g johnson honest amp young voter like wit',\n",
       " '',\n",
       " 'leav alternativefact thingsdonebymistak',\n",
       " 'flashback michel obama slam hillari unfit white hous birther',\n",
       " 'ifiwereyourmom would learn cook sinc got would make face famili',\n",
       " 'curat hedgebz malaysia deport three turkish nation want ankara alleg link coup',\n",
       " 'race baiter al sharpton threaten espn fire jemel hill',\n",
       " 'unhing folk run america journey trump true believ final someon think like',\n",
       " 'berni sander ny time trump tax report exactli mani american cnn via c nvey',\n",
       " 'welfareabus comfort amp feel like need look job get check govern everi month',\n",
       " 'watter trump must get back offens next debat',\n",
       " 'rewind us diplomat staff russia alreadi move decis mon',\n",
       " 'becom balanc bank account balanc increas beat',\n",
       " 'new audio clinton refer sander fan frustrat basement dweller via dcexamin',\n",
       " 'long line wait see donald trump cold raini novi mi via youtub realdonaldtrump',\n",
       " 'john mccain trump admin partial blame syria use chem weapon peopl',\n",
       " 'daughter heartfelt letter republican dad second thought donald trump',\n",
       " 'pulaskiparad polishprid',\n",
       " 'insid penthous shenanigan bill clinton presidenti librari',\n",
       " 'media launch baseless specul use part trump stolen tax return',\n",
       " 'hillari clinton worri crowd florida ralli anoth coughin polit trend',\n",
       " 'flint water test track chang lead level news',\n",
       " 'road rich diamond ring real niqqa real thing',\n",
       " 'nasa announc competit bright young research help devis us journey mar',\n",
       " 'realdonaldtrump hillaryclinton',\n",
       " 'judg block mississippi ban adopt sex coupl news',\n",
       " 'rewind peopl shot chicago long fourth juli weekend',\n",
       " 'could help usher apocalyps snl',\n",
       " 'realdonaldtrump pro life vs pro choic pro life pro women pro life pro minor mani women amp black kill birth',\n",
       " 'donald trump tax number tighten focu treatment loss',\n",
       " 'blacklivesmatt thug brutal attack year old trump support',\n",
       " 'carolcnn true',\n",
       " 'public school teacher alreadi educ mentor therapist babysitt writer editor motiv speaker enough job cannot forc becom soldier parklandstudentsspeak',\n",
       " 'acabei de votar pro trump',\n",
       " 'analysi post',\n",
       " 'trump vow say cicero swift donald trump',\n",
       " 'alway tell clinton tell much',\n",
       " 'shhhdonttellbut forc work',\n",
       " 'damp fan learn french open roof still year away sport',\n",
       " 'anli horror video watch wild somali muslim invad beach spain',\n",
       " 'real wakeupamerica newyorkfbi said found k file hillaryclinton made puke spiritcook imwith',\n",
       " 'watch like min get point hillaryforprison trumpforpresid',\n",
       " 'news london racist trump fan use special code twitter get suspend england uk',\n",
       " 'selfish actress complain hurrican ruin vacat mention victim',\n",
       " 'sdf open humanitarian corridor evacu civilian held manbij',\n",
       " 'lovewin famili valu lose kid love scotusmarriag make histori',\n",
       " 'politician typic enact promis campaign platform plank enact polici look',\n",
       " 'donald trump suggest hillari clinton loyal bill',\n",
       " 'wooow smb hit jackpot thanksgiv day foodpoison kochfarm fail',\n",
       " 'gym time workout lrhierholz loxgraham sammyygrl xo kath restrepo markraemond lexx gordon korfist rkearney',\n",
       " 'watch alec baldwin flawless trump snl via indi toronto',\n",
       " 'ad video youtub playlist donald trump vs hillari clinton debat cold open snl',\n",
       " 'brief portrait trump support',\n",
       " 'thug vandal new trump dc hotel lib translat hurt feel racial hostil spill',\n",
       " 'trump fan',\n",
       " 'laww trump nuke libtard attack allegedli vacat law',\n",
       " 'mani love friend neighbor wish time spend pooh',\n",
       " 'join us today edt anoth special edit hashtagzoo nationallampoon fastlaugh',\n",
       " 'trump pay tax giuliani christi call geniu one made give career impeach traffic meddler',\n",
       " 'chelseaclinton sex woman still trump lie spoken televis',\n",
       " 'gold star famili messag houston voter ahead novemb elect',\n",
       " 'sona heidensona saintvici lolstvici eclberri jess lepopnoir jl jamielmi',\n",
       " 'tisda houston democrat mayor encourag peopl evacu',\n",
       " 'cuisinart food processor recal lacer hazard',\n",
       " 'goober condom hairi oven',\n",
       " 'mom know use comput better reasonmymomisbett',\n",
       " 'nsync greatest hit workout thank laurent morrow pxrkjm meezyblvd briannaa r fresnoxx ramsey rp',\n",
       " 'lmao hillaryclinton grasp straw sorri deari trump would murder mani dozen anyth equal record',\n",
       " 'watch music tap axz r liar liar pant fire neverhillari maga trumptrain',\n",
       " 'nocturnalgal steve scari urn ana gisaic lil rachelterri rachel onemoremilerun one mterri michael',\n",
       " 'realdonaldtrump treat usa kid elect lovetrumpsh imwithh strongertogeth',\n",
       " 'realdonaldtrump glass hous',\n",
       " 'johnson say justic son via youtub',\n",
       " 'nytim lier cheat suck nyt trump good man ever lie fail like crook hillari',\n",
       " 'lowkeyjoelv jizzoel workoutdvdfreak workout metrohot ty itsrudi buck misslindsxo lindsay jadaashleyyy j',\n",
       " '',\n",
       " 'shepard smith fox news cannot confirm judg napolitano commentari wiretap',\n",
       " 'sight strangl unfound highland height polic blotter pass motorist report feb see man crime',\n",
       " 'annoy stuff like could never school teacher',\n",
       " 'christian teen beaten death muslim classmat pakistan',\n",
       " 'thingsthatshouldbecensor bad food photo soggi crock pot dinner',\n",
       " 'journal poll clinton narrow lead trump nm johnson far behind via abqjourn nmpol nm',\n",
       " 'mentalillnessmakesm wish trump sander win see everyon lose shit lol',\n",
       " 'clinton',\n",
       " 'g nite twitter fam leav w thought ppl buri student debt vote jill stein win',\n",
       " 'alicia machado speak megyn kelli trump insult weight fox news via youtub',\n",
       " 'trump maga votetrump',\n",
       " 'ador barron around find meantim protect dem lib amp clinton saturdaymorn amjoy',\n",
       " 'u immigr law racist enough allow trump muslim ban roqplana report',\n",
       " 'coup kpfk today took show air pleas e mail ed pacifica org complain copi hq gmail com',\n",
       " 'rt hour want fbi take close look guy connect jame field im',\n",
       " 'faxman myuselesssuperpow',\n",
       " 'republican scare trump bad week slut shame latina beauti queen illeg busi deal hurt gop',\n",
       " 'abdelkad hope wing keep roll',\n",
       " 'ms clinton first presidenti candid histori make gut first amend free speech central part platform',\n",
       " 'trump rant hit alicia machado suppos sex tape cnet donald trump unleash twitter storm',\n",
       " 'former nfler compar colin kaepernick mlk jr',\n",
       " 'blackandbritish join debat friday even citi hall invest black british heritag read articl',\n",
       " 'pergi ahh workout kyleeschassen gloria zhang ballhardsmith meangirl dara im trillznigga marcoheich jenneko',\n",
       " 'dori motsing retweet rt rt america maga',\n",
       " 'steven averi make murder mull freedom',\n",
       " 'dobb farrel lawless comey took instruct clinton betray oath',\n",
       " 'good morn today newsonenow bodi camera video appear show baltimor cop plant drug',\n",
       " 'ever vpdebat matter less kain penc debat tytliv',\n",
       " 'nickromano sissi cyclonelizr cyclon sheso danger jazz chelsey marg chelsey whoa alex alex',\n",
       " 'listen local resid share audio wednesday gop basebal practic shoot',\n",
       " 'berni sander react leak clinton audio sen berni sander react leak audio hillari cl',\n",
       " 'realdonaldtrump katrinapierson pleas pleas stay messag let corruptbitch win count close deal',\n",
       " 'facebook fb end trump facebook deepen millenni confirm bia',\n",
       " 'abl reach poll upcom presidenti elect ok vote absente',\n",
       " 'casa make announc victim md apt blast',\n",
       " 'mass court dismiss drug case taint chemist',\n",
       " 'construct begin inaugur real peopl vote elect usa nevertrump',\n",
       " 'trump tax write confirm know win',\n",
       " 'american ralli trump via geller report american ralli trump',\n",
       " 'trump treasuri nomine steve mnuchin bank accus widespread misconduct',\n",
       " 'donald trump reportedli pressur trump second wife appear playboy huffington post us',\n",
       " 'jeb bush struggl poll elect',\n",
       " 'platt counti commission demand treasur person repay lost money',\n",
       " 'le partisan de tier parti pourraient voter pour clinton ou trump via huffpostquebec',\n",
       " 'trump idea hideous ugli amp ridicul',\n",
       " 'caught cam brutal oakland sidewalk assault',\n",
       " 'nyt p rdida de trump pudieron eximirl de os de impuesto',\n",
       " 'break hous republican told paul ryan cancel august recess',\n",
       " 'donald trump vs hillari clinton debat cold open snl',\n",
       " 'sport roundup tim clinton sport editor thursday sept footbal mt rainier kent meridian',\n",
       " 'trump smart almost like eh hello part',\n",
       " 'latest weather channel mourn death storm chaser',\n",
       " 'everi time rudi giuliani call trump geniu mental stabil call question mtp',\n",
       " 'todayinsyria least milit kill secur forc kirkuk clash ongo',\n",
       " 'skywalken iii',\n",
       " 'remors weinstein flip bird saunter lawyer offic',\n",
       " 'never fail disappoint polit team choos jacket food choic guess sport team sad',\n",
       " '',\n",
       " 'break fire depart dead gresham wreck',\n",
       " 'would trump blockchain industri',\n",
       " 'lem jump sink trump republican ship',\n",
       " 'trump next target peopl live hiv aid steven w thrasher',\n",
       " 'immigr kidnap worker italian refuge centr amp threaten kill',\n",
       " 'total cool husband understand hillarypickuplin',\n",
       " 'gari sinis hard work week done veteran awesom via youngcon',\n",
       " 'realdonaldtrump',\n",
       " 'huffingtonpost good way pro life threat everyon even kid show valu life',\n",
       " 'news minut latest new york news associ press',\n",
       " 'todolistbeforechristma see real santa real santa black blm',\n",
       " 'opinion donald trump pathet fratern new york time',\n",
       " 'krant usa today breekt met traditi en schiet donald trump af via destandaard',\n",
       " 'footbal recruit heat area standout nsd near',\n",
       " 'latest blog warn advisor cost win fight kill dol fiduciari rule could lost trust lost busi',\n",
       " 'two men kill motel shoot ju rez',\n",
       " 'tweettrump',\n",
       " 'mashup trump prais violenc protest cnnpolit nevertrump uniteblu',\n",
       " 'georg luca apolog call disney white slaver busi',\n",
       " 'half trump support usa deplor white peopl racist peopl label asian jewish',\n",
       " 'u front page hillaryclinton histor nomin',\n",
       " 'topekan gather trash preserv histori',\n",
       " 'lol video mainstream media hack liter crumbl wh brief',\n",
       " 'despit potu promis put worker first gop vote revok requir fed contractor disclos workplac violat',\n",
       " 'placentia man tell gang member la jolla kill',\n",
       " 'thousand peopl protest trump immigr order airport across america via voxdotcom',\n",
       " 'nytim sum nice commit solv problem real world qualifi hillari clinton presid',\n",
       " 'shock video donetsk ukrainian forc fire tochka u rocket citi even wreckag bloodsh',\n",
       " 'uslatino latina trump porn film past pop twitter sex tape rant photo video uniteblu tcot',\n",
       " 'high school use shoot trump option multipl choic test',\n",
       " 'realdonaldtrump everi time congress hear involv crookedhillari someon resign surpris',\n",
       " 'anthoni legat kaivanshroff clearli work convers',\n",
       " 'clinton campaign mock trump appear playboy film',\n",
       " 'know amaz leg exercis dugzink safemillion lonerd owrkinhard lyef loukerwin',\n",
       " 'north carolina legisl file bill requir unc nc state leav acc confer boycott state',\n",
       " 'secret servic agent take bullet trump lt fire yesterday want protect po',\n",
       " 'hillari clinton could put away donald trump carri north carolina',\n",
       " 'donald trump pudo haber evitado el pago de impuesto durant os donald trump candidato republicano l',\n",
       " 'hillari clinton chanc victori improv accord forecast',\n",
       " 'demokratlar fet ye daha yak n fakat cumhuriyet iler de b karlar na daha k n sizc trump se ilirs hangi taraf bitirmek ister',\n",
       " 'trump man caught today bring hillari',\n",
       " 'heart beat faster see',\n",
       " 'watch share last word father daughter kill isra airstrik gaza',\n",
       " 'look guidanc',\n",
       " 'pennsylvania liber six pack distributor',\n",
       " 'warrior curri may return game four sport',\n",
       " 'like youtub video donald trump vs hillari clinton debat cold open snl',\n",
       " 'want brainwash hillari clinton debat go ahead brainwash donald trump rise',\n",
       " 'rosa trump claim million loss show geniu rudi giuliani would ha negrito controla',\n",
       " 'ohio suprem court hear instagram intimid case connect cleveland gang disput',\n",
       " 'new york time trump ahead older whiter less educ ohio fade elector map',\n",
       " 'read complaint donald trump scribd readmor',\n",
       " 'rt americanvoteru see fast fakenew pivot war bewar page trust realdonaldtrump drain',\n",
       " 'necesita parodia',\n",
       " '',\n",
       " 'donald trump plan put black hood polic state control put children prison u got lose dem',\n",
       " 'nadal down fognini reach china final sport',\n",
       " 'presidenti elect donald trump pari hilton donald trump told howard stern famou gt',\n",
       " 'lalisonbbryan allison jesslbatti jess jaiquonmckoy fifti natur mystic c tia granvillevernon vernon',\n",
       " 'top rt maggunsling use statesmen need candid speak like shanethazel follow vot',\n",
       " 'aleex hillari pastor compar hillari elect loss jesu crucifixion alexx',\n",
       " 'nfl announc forc apolog weinstein joke',\n",
       " 'sport penguin center evgeni malkin still injuri',\n",
       " 'hire pool boy maintain inflat kiddi pool',\n",
       " 'day four ahead weather hit bmw championship sport',\n",
       " 'case somehow notic',\n",
       " 'middl school want get closer god understand better read bibl front back opposit',\n",
       " 'get big let obama stay offic one year start presidenti elect',\n",
       " 'educ educ play critic role ballot elect mani state',\n",
       " 'rt gemmar jojoh scottbaio senjohnmccain scottbaio mccain traitor america use money',\n",
       " 'could anyon vote trump',\n",
       " 'trump support park rd hollywood blvd',\n",
       " 'makebeatsnow need product music video promot world email us today follow like',\n",
       " 'love sensand tell truth watch gop noacarep universalorgohom healthcareinamerica',\n",
       " 'rt chcki polic charlottesvil insid job ignit race war',\n",
       " 'iamtechn astrophysicist stay holiday inn express last night',\n",
       " 'second hb relat lawsuit file mississippi news',\n",
       " 'swear chip cameraman differ timezon',\n",
       " 'ship harbour safe ship built william shed',\n",
       " 'meetthepress rudygiulianigop giuliani think trump geniu lost bil fail busi amp cheat govt',\n",
       " 'famili friend rememb woman die hit run crash',\n",
       " 'need team usa coach bench anyon sat anthem',\n",
       " 'trump white hous dream annihil devast leak tax return via politicususa',\n",
       " 'curat hedgebz appl watch flexibl display work aapl',\n",
       " 'vanessa william join day live cast blackamericaweb',\n",
       " 'historian trump demagogueri mirror il duce mussolini',\n",
       " 'realdonaldtrump zootopia netflix recommend watch aid understand treat peopl fairli logic',\n",
       " 'colossu corrupt ben rhode unmask maga pjnet tcot',\n",
       " 'jaguar land rover talk leas silverston sport',\n",
       " 'killer workout tbh anon ana evr tammi lynn jantzenterrel theogkingleo wrestl jmurray kknepp',\n",
       " 'cnn kohn worri trump speak',\n",
       " 'trump shift gear time next debat',\n",
       " 'thingsyoushouldntask alway bore self obsess reserv social media',\n",
       " 'trump ralli live realdonaldtrump',\n",
       " 'geniu trump account',\n",
       " 'washington stress u elect tune assum downward face dog pose',\n",
       " 'cnnsotu cnn report wear clinton shirt air tapper wear clinton jacket amp cap',\n",
       " 'star trek cast pen open letter urg america reject donald trump via metrouk',\n",
       " 'brooklyn polic releas dash bodi camera video chase offic drag',\n",
       " 'clinton give take sander support leak fundrais record',\n",
       " 'interest fact racism realdonaldtrump',\n",
       " 'u follow law owe tax good u dem cannot understand ur govern rudi giuliani trump',\n",
       " 'best support actress goe viola davi fencesmovi first oscar rd nomin davi oscar',\n",
       " 'trump geniu pay tax small biz owner sound lot like corpor welfar',\n",
       " 'fn govchristi say condon prepar well debat hahaha trumptrain trumptaxreturn',\n",
       " 'histori war begun bec megalomaniac felt diss imagin trump send button nuke tweet martharaddatz',\n",
       " 'peak trump nasti nastier ever',\n",
       " 'oshiomol amp wife iara spot celebr apc governorship elect victori photo',\n",
       " 'topvideo tourist bake degre dc heat',\n",
       " 'latest new york time investig report trump tax return new york time report',\n",
       " 'realdonaldtrump pay tax solicit campaign contribut taxpay amp use pay co campaign exp donthecon',\n",
       " 'topl rt scottmgreer durham polic arrest anyon tell leftist everywher start raze statu hate may',\n",
       " 'fight lgbt right scuttl energi spend bill',\n",
       " 'ouch look happen az newspap endors clinton',\n",
       " 'leorollcal hog wash veteran true hero america bad govern often forget',\n",
       " 'shanejfilomena sensand anyway trump best candid',\n",
       " 'migrant youth reign terror vigilant attack thug shock footag',\n",
       " 'donald trump il pri de la coca ne avant son bat face hillari clinton',\n",
       " 'amaz news trump tax break goe script ralli pennsylvania wpjenna',\n",
       " 'break michigan recount postpon presid elect trump file object',\n",
       " 'start w elect stuff smart',\n",
       " 'black polic offic fight n p via nytim blacklivesmatt blackvoic blacktwitt',\n",
       " 'sur le papier hillari clinton remport la batail diatiqu',\n",
       " 'mayor sign',\n",
       " 'us elect trump may avoid pay tax year',\n",
       " 'us int l commun dedic help afghanistan confront challeng landmin unexplod ordnanc',\n",
       " 'news trump tax break goe script ralli pennsylvania trump campaign mess hilly',\n",
       " 'meetthepress trump busi failur giuliani understand anyth trump steve job',\n",
       " 'crap law stand due process establish claus constitut author presid',\n",
       " 'malaysia court uphold ban cross dress transgend muslim world news',\n",
       " 'use gravi lube survivalguidetothanksgiv',\n",
       " 'x marri lowlif serial philander realdonaldtrump question fidel x marri victim serial philander',\n",
       " 'august day without press confer crookedhillari',\n",
       " 'donald trump pudo haber evitado el pago de impuesto durant os donald trump candidato republicano l',\n",
       " 'caravan seek recruit cuba trip',\n",
       " 'live stream donald trump ralli manheim pa still time watch late',\n",
       " 'hillaryclinton easter basketofdeplor',\n",
       " 'adjust trump',\n",
       " 'need close rear diff wheel',\n",
       " 'kellyann conway shut chelsea clinton five word fake news',\n",
       " 'choic alway self evid imperfect world polit might imperfect thing man ever done',\n",
       " 'new york time pide latino votar por clinton el influyent peri dico adviert lo inmigrant sobr',\n",
       " 'terribl nightmar stark rave madman republican candid presid u',\n",
       " 'clinton comment sander support leak record feelthebern neverhillari',\n",
       " 'millenni uninform bill clinton mani sexual pervers let go internet search get blow blow',\n",
       " 'good morn russian su fighter jet shot syria turkey wwiii begin',\n",
       " 'get critic think suppress brain peopl believ supernatur atheist atheism',\n",
       " 'mr presid frederick dougla like specif',\n",
       " 'final season downton abbey begin u entertain',\n",
       " 'donaldtrump stay issu noth say clinton said stay issu',\n",
       " 'german govern believ trump would ravag u economi spiegel',\n",
       " 'lt warn f bomb ahead gt refuge give jaw drop interview trump islam femin',\n",
       " 'obama tak sabar menunggu bill clinton naik pesawat ayo pulang tel aviv',\n",
       " 'coupl video pari horribl watch sensit person prayer pari',\n",
       " 'unabl find tranquil within useless seek elsewher quotingirl iamonfir',\n",
       " 'white colleg educ women stupid vote amp trust hillari clinton presid',\n",
       " 'trumptweet',\n",
       " 'yeisonfressh donald trump pudo evitar el pago de impuesto durant os tra declarar yeisonfressh',\n",
       " 'year old boy homeless watch get bed first time',\n",
       " 'cher millenni trust hillari clinton sin realli enorm breitbart lovetrumpsh',\n",
       " 'new video tell fake news',\n",
       " 'abbrevi pundit round trump meltdown continu worst possibl time',\n",
       " 'govmikehuckabe lindasuhl',\n",
       " 'sherylunderwood love spoke thetalkcb regard get power diva togeth solv issu',\n",
       " 'survivor aleppo bu attack recal heartbreak moment video',\n",
       " 'rr rt bethanyjuno gurdubu chrisbragdon retir cmsgt lucianwintrich ah screamer',\n",
       " 'one surefir way hillari clinton shore support among young voter',\n",
       " 'pirat outfield starl mart given game ban fail drug test',\n",
       " 'nedaavq neda chuuunyang chunyang nosoyangel laur krystelyvett lu lovelywowor lauren cyrillebumatay alden',\n",
       " 'fellon lol wapo hyster meltdown trump nuke code',\n",
       " 'trump tax report could mean campaign cnn',\n",
       " 'two turkish worker kidnap baghdad releas world news',\n",
       " 'clarri antifa plan eras american histori end white supremaci clariss',\n",
       " 'ok photo come weird',\n",
       " 'reckless contractor money',\n",
       " 'theofficenbc dunder mifflin complet set rejectedlegominifigur',\n",
       " 'nytim trump wrong debat releas tax return import media give pass issu',\n",
       " 'consid hire financ director help busi grow consid outsourc first outsourc alexchares',\n",
       " 'skin whiten mask men menskin mensgroom',\n",
       " 'listen lef wuz da street gram young bleed app',\n",
       " 'poll black voter fuel rise trump support',\n",
       " 'new york time exhorta en espa ol lo latino votar clinton el diario thenewyorktim noticiastweet',\n",
       " 'realdonaldtrump hillari weak inabl focu issu except polit correct weak fight job usa',\n",
       " 'colin kaepernick fact check liber sport media',\n",
       " 'refuge run long inspir road rio world stage sport',\n",
       " 'someon fb made comment vote hillari trump said like ask want full blown aid hiv die',\n",
       " 'barbara corcoran weigh donald trump shark tank investor barbara corcoran know donald trump',\n",
       " 'congratul violadavi win bestsupportingactress keepshin keepris bwsm hollywood oscar',\n",
       " 'hillaryclinton approv messag peopl basementdwel vote trump mean',\n",
       " 'donald trump told howard stern thought pari hilton beauti year old',\n",
       " 'realdonaldtrump good see msm hole start restrain hate trum donald potu msm need new job',\n",
       " 'virginia key guardian face ballot box miami news',\n",
       " 'sheriffclark like ali trump play rope dope scare media breitbart',\n",
       " 'elementaryc school children arrest break fight btp blacklivesmatt',\n",
       " 'stress u elect tune assum downward face dog pose washington reuter stop read',\n",
       " 'presid obama even think take money vanish coast editori polit',\n",
       " 'trump plead fifth time berni sander real talk gop shrug judici crise',\n",
       " 'hamillhimself absent starwar teaser johnboyega say luke somewher',\n",
       " 'ohio suprem court perman disbar former cuyahoga judg convict corrupt scandal steven terri former cuyahoga crime',\n",
       " 'top trump foundat lack certif requir chariti solic see',\n",
       " 'alarm much work order money everi month',\n",
       " 'cbp find ecstasi meth strap pedestrian',\n",
       " 'nigga happen california',\n",
       " 'seattl seahawk qb russel wilson pace record pass season',\n",
       " 'cop shot mental ill black woman deborah danner want locat trial move co possibl get fair trial bronx',\n",
       " 'new york time publish trump tax return year ago trump fire back',\n",
       " 'chao brooklyn peopl shot seriou condit bullet ring wild hous parti',\n",
       " 'target isi account target iceisi opiceisi',\n",
       " 'chill pill',\n",
       " 'enter chanc win ps',\n",
       " 'woman use coffe fist attack woman philli fight video',\n",
       " 'thought trump alreadi edg last night speech beyond lunat fring frighten need help',\n",
       " 'top rt immigr trump jess jackson prais trump lifetim help african american commun nice tri fake news media',\n",
       " 'hooray grudgeandjuri futur guitar pickup includ claim get featur',\n",
       " 'time donald trump prais shariah law saudi arabia via motherjon',\n",
       " 'could hear pitterpatt pitterpatt slowli door open donald trump elect presid iscreamforreward',\n",
       " 'would play jame comey movi',\n",
       " 'stop laugh cnn say trump respons tax code clinton bush obama done noth fix lie maga',\n",
       " 'conservalid michaelbarg potu foxnewsinsid',\n",
       " 'dump trump',\n",
       " 'like french kiss ab tongu mat karo mujh',\n",
       " 'need go walk exercis lazi man shahadathuss rik ferguson blackgambl meganjanelilli',\n",
       " 'hillari trump corrupt noth wors candid receiv chant lock ralli clinton disgust',\n",
       " 'reuter',\n",
       " 'major tom ground control step door float peculiar way davidbowi',\n",
       " 'berkeley lake mayor warn resid bit copperhead',\n",
       " 'democrat favor filibust prevent senat confirm vote neil gorsuch next',\n",
       " 'strongertogeth',\n",
       " 'polit charter school backer spend big tri unseat state suprem court justic',\n",
       " 'cuz help fall love wig trumpenasong',\n",
       " 'andr ferro rhode island firefight fire tell black woman need medic help stop eat fri chicken',\n",
       " 'berni sander react leak clinton audio sen berni sander react leak audio hillari cl',\n",
       " 'trump fan anyon pay tax get vote',\n",
       " 'go behind scene insecurehbo issara visit closer look tonight episod',\n",
       " 'flaw edo governorship elect enough cancel ncp candid',\n",
       " 'discov one reason vote rump four year alecbaldwin rump nbcsnl',\n",
       " 'judg halt arkansa plan execut inmat day',\n",
       " 'told katelyn could trump float parad right',\n",
       " 'miami herald clinton win endors may hold much sway clear present danger',\n",
       " 'libertadparalo donald trump pudo haber evitado el pago de impuesto durant os v cubadeb cu',\n",
       " 'rudi bring past show us qualifi answer anyth bill infidel elect meetthepress',\n",
       " 'legislatur want hand tax cut like candi sweet deal',\n",
       " 'add twitter group call stock market hni commod tip kingresearch onlybebot cremedelachrimm',\n",
       " 'basementdwel trump berniesellout',\n",
       " 'falcon put trust young run back falcon news',\n",
       " 'blacklivesmatt confederateflag uniteblu tcot larryeld sheriffclark leahr',\n",
       " 'hamilton creator sex citi star among celebr headlin broadway theme clinton fundrais',\n",
       " 'warm hearted key factor allow smile happi even compani stranger',\n",
       " 'movenonup new record bigmyk amp bandzz media outlet amp dj support record day rsmworldwid',\n",
       " 'watsonvil polic investig robberi news',\n",
       " 'debat peopl love alec baldwin trump snl',\n",
       " 'roger water redobla cr tica trump pe nieto desd el coraz n de xico',\n",
       " 'time cop keep warn interfer tempor law timetravelerproblem midnight',\n",
       " 'final',\n",
       " 'felt good j',\n",
       " 'cp energi board approv rais bonu ceo gold william',\n",
       " 'j aim une vid youtub rebut buzzfe canadian want say trump l adress',\n",
       " 'ha twitter cop shop crapyoushouldntsayontwitt',\n",
       " 'four kansa school recogn nation blue ribbon school news',\n",
       " 'latest famili await news us navi ship collis',\n",
       " 'reckless tax dollar',\n",
       " 'evangel leader sell soul support trump redstat',\n",
       " 'rt vmpcott mt cruzgrassroot rushlimbaugh call tedcruz brilliant trustworthi trust cruzcrew pjnet',\n",
       " 'guppi vampir slayer fishtv',\n",
       " 'news watch alec baldwin perfect donald trump impress saturday night live open parodi',\n",
       " 'fierc debat whether mass shoot rise news',\n",
       " 'hillaryclinton tax point donat name clinton foundat cut tax',\n",
       " 'ny time trump may paid tax year via usatoday',\n",
       " 'trump brought bad name republican parti amp countri republican parti amp countri suffer mani year unless clinton emerg',\n",
       " 'elect trend mainstream media support hillaryclinton cost elect neverhillari lovetrumpsh',\n",
       " 'tri make someth base whole us elect hard rli either candid idea tbh',\n",
       " 'write new piec edith windsor h clinton trump connect meanwhil older piec gay',\n",
       " 'corruptcongress big sham america isnt stupid mueller dirti russia hillari trump fake',\n",
       " 'iowa must win trump amp poll ahead',\n",
       " 'new exhibit cyclorama paint reveal lost draw',\n",
       " 'job interview trump would alreadi escort recept told resum kept file number',\n",
       " 'thefingerfuckingfemalefuri pajaro raro micdotcom watch morn donald trump doubl',\n",
       " 'retweet agre newt sharia incompat western civil',\n",
       " 'potu emot evolut gun control',\n",
       " 'trump ignor hillari media',\n",
       " 'first websit went public year ago',\n",
       " 'marygatt got wrong nazi clearli prefer merced ppsellsbabypart defundpp standwithpp',\n",
       " '',\n",
       " 'break iraqi forc retak mosul museum vandal isi',\n",
       " 'see monster cereal elect poster amp enter chanc win',\n",
       " 'break anoth eric boll accus came',\n",
       " 'wow wish could taken other specif pelosi warren durbin boxer gutierrez rednationris',\n",
       " 'california train like derail mudslid news',\n",
       " 'today nytim writer would slam mlk refus listen state right conserv say jim crow race',\n",
       " 'sk nhetsdrottn tackar efter trump attack',\n",
       " '',\n",
       " 'basementdwel actual word spin hillari clinton remark berni sander support',\n",
       " 'bill clinton keep barack obama ground',\n",
       " 'hello america need stand constitut enlist patriot armi',\n",
       " 'coron id man found dead pub cooler',\n",
       " 'day wonder tucson today',\n",
       " 'burglari suspect caught offic recogn jewelri',\n",
       " 'curt vote trump',\n",
       " '',\n",
       " 'thedailyshow one mani trump date anna nicol smith',\n",
       " 'unit state need job need fix economi need realli whole enchilada man donald trump',\n",
       " 'leak record show trump may avoid tax year',\n",
       " 'fat narco whore alicia machado shame shut fam aliciamachado makeamericagreatagain',\n",
       " 'shadow pennsylvania groundhog predict earli spring news',\n",
       " 'donald trump shut new york time tax leak show lost nearli billion',\n",
       " 'joe biden went trump graciou bidenesqu way possibl',\n",
       " 'hillari clinton tweet overnight nation servic appar wink oppon late night tweet habit',\n",
       " 'realdonaldtrump',\n",
       " 'clear present danger donald trump washington post',\n",
       " 'lawsuit trump want unattract women fire golf club',\n",
       " 'trump tax record reveal could avoid pay tax year donald trump declar',\n",
       " 'live stream donald trump ralli manheim pennsylvania',\n",
       " 'donald trump geniu pay tax polit trend',\n",
       " 'pastor small euclid church indict charg rape woman steven lipford indict charg rape wo crime',\n",
       " 'lol liber snowflak lose white qb sign kaepernick',\n",
       " 'parent good peopl clinton rape accus slam chelsea',\n",
       " 'black femal trump worker goe epic rant liber media host priceless',\n",
       " 'carniv time see new orlean celebr king day social media',\n",
       " 'time found donald trump tax record mailbox new york time elect',\n",
       " 'sun sentinel editori board say donald trump qualifi presid terribl choic',\n",
       " 'workout vonsi anaxosp peytoncorbett astoldbyerin murillian tho joeeeehoova dayannapena fussey',\n",
       " 'ten thousand fraudul clinton vote found ohio warehous via geller report',\n",
       " 'trump campaign nyt publish tax doc illeg obtain editor promis would go jail',\n",
       " 'life happen peopl chang feel chang relationship end memori stay',\n",
       " 'campa de eua en medio de dime diret sexual donald trump alienta ver video sexual de alicia macha',\n",
       " 'pictur berni sander made handwrit first name mani donor notmeu berni wiprimari',\n",
       " 'jeb bush discredit frail father support hillaryclintonforpresid hillari snrtg',\n",
       " 'migrant riot lack phone signal via geller report merkel apolog yet',\n",
       " 'must watch big tech compani wrap progress blanket regul step',\n",
       " 'let discuss trump use tax law instead',\n",
       " 'happi hail diet coke guess ray kng miamihub jame yoga aaliyahhh cmrosewsk lucasgfreeman',\n",
       " 'know trump realli win america great vegasgopdeb',\n",
       " 'marilyn landon breitbartnew fact breitbart know littl chariti read tax report',\n",
       " 'trump claim million loss show geniu rudi giuliani would fool ta',\n",
       " 'hillari clinton paid saudi arabian money scari',\n",
       " 'one posit elect season give tb good excus play campaign bad real elect funni',\n",
       " 'even mention subject tweet add hash click read stori twtr censor day rt',\n",
       " 'hillaryclinton watch amp peopl afford soar cost rent insur tax interest form econom slaveri',\n",
       " 'giuliani realli best person trump speak tax',\n",
       " 'top news hillari clinton unleash twitter storm',\n",
       " 'win powerbal ticket worth sold california',\n",
       " 'realdonaldtrump stop kill ari clinton manag kill hundr thousand peopl middl east us ambassador lybia',\n",
       " 'etat uni donald trump exempt imp ts pendant an riqu rfi',\n",
       " 'murder oklahoma girl scout remain unsolv year',\n",
       " 'presid billclinton georg w bush barackobama declar jerusalem capit israel',\n",
       " 'np via radiokingzradio nelli grillz intro super clean listenl',\n",
       " 'sore workout krystaldelaro xxfaskxx lilymcwilli intwinwetrust browzki shineeiest cratcliff',\n",
       " 'berni sander ny time trump tax report exactli mani american cnn via c nvey',\n",
       " 'hmmm',\n",
       " 'lostin word love peac generos',\n",
       " 'tipsheet horrid nl central prop red',\n",
       " 'farag mr brexit asesorar mr bigotri la campa de hillari debe estar frot ndose la mano',\n",
       " 'newvideo hot summer day blainelegendari x vandambodyslam youtub happi',\n",
       " 'mafiamotiv mafia edwin rm edwin shireenahm footybedsheet mrcullen danc dancestadamu',\n",
       " 'rt paulafees mitchellvii debalwaystrump trump disavow mani time inexcus msm amp non trump su',\n",
       " 'realdonaldtrump cnnpolit foxnewspolit fare cnn regaurd donald trump countri support bute',\n",
       " 'alicia machado trump achil heel quark road',\n",
       " 'cspanwj bill clinton got young voter believ would get free colleg educ hillari promis liar',\n",
       " 'bill seek outlaw coyot hunt contest new mexico',\n",
       " 'clinton mock trump tweetstorm',\n",
       " 'trump easili play mt beverleehugh boom last six day prove donald trump danger unfit presid',\n",
       " '',\n",
       " 'one true protest vote hillari clinton strongertogeth nevertrump hillaryclinton johnson stein',\n",
       " 'nastier ever trump pledg expos clinton republican donald trump threaten',\n",
       " 'fakedncfact peopl middl east prefer bomb democrat',\n",
       " 'donald trump see cuyahoga counti thaw ohio polit roundup polit',\n",
       " 'campa de eua en medio de dime diret sexual donald trump alienta ver video sexual de alicia macha',\n",
       " 'unlockyourworld larri david bring berni sander back snl trump campaign showdown',\n",
       " 'ass kiss thingspeopleontwitterlik',\n",
       " 'probabl speak hebrew fucktard',\n",
       " 'anoth obama dreamer accus murder american teen',\n",
       " 'trump mi campa podr beneficiar mi negocio la hora',\n",
       " 'rsultzba bowhunt va wisgop detroitmigop migop migopintern pagop gop hillari rig recount need gop recount watcher',\n",
       " 'white discomfort lead charact color disguis concern',\n",
       " 'anyon els fed elect check darrel castl constitutionalparti',\n",
       " 'hillari clinton receiv million kkk neo nazi group',\n",
       " 'lol listen cardi b gym tryin clean wanna fight bitch use friend',\n",
       " 'calleallen west longer remain silent unload colin kaepernick',\n",
       " 'donald trump pathet fratern via nytim',\n",
       " 'love video xd',\n",
       " 'forget fb mark suckerberg stop trump penc support put fb jail never quit surviv go amp p',\n",
       " 'rais hand think trump salut fascist symbol hand rais caught fascist benshapiro',\n",
       " 'half trump support think elect rig poll show via dcexamin',\n",
       " 'sacramento',\n",
       " 'love feel exhaust workout sophiapontrelli austincox piinkfairi therealmayorga sremosretep',\n",
       " 'clinton show dovish side nuke',\n",
       " 'sander trump million loss tax prove system rig cnnpolit',\n",
       " 'badteambuildingact cross burn global warm thedemocrat',\n",
       " 'chexit china philippi',\n",
       " 'black father indict similar case white woman freed',\n",
       " 'twitter livestream nbc stream vr innov approach elect coverag',\n",
       " 'corruptcongress approv drop ppl believ fake russia scam divers major coverup obama c',\n",
       " '',\n",
       " 'boy battl bulli two year grow hair chariti',\n",
       " 'nastier ever trump pledg expos clinton republican donald trump threaten open new line',\n",
       " 'notrel trump evito pagar lo impuesto segun nyt el siglo del torr amp oacut n',\n",
       " 'realdonaldtrump need win elect allow woman becom presid wrong person repres women',\n",
       " 'scottpresl exactli look bright shini histor symbol deflect amp distract go racist line beacon',\n",
       " 'retweet play basketbal footbal volleybal basebal hockey soccer tenni golf cheer track wrestl danc',\n",
       " 'trump tax record obtain time reveal could avoid pay tax nearli two decad',\n",
       " 'lib msm scare hell realdonaldtrump',\n",
       " 'injur children miss hous fire baltimor',\n",
       " 'trump declar p rdida de millon de lare en seg n el nyt',\n",
       " 'hillaryclinton',\n",
       " 'majesti see crime syrian armi done way tortur civilian',\n",
       " 'thought ivanka classier open first trump ad like never seen',\n",
       " 'trump alreadi tweet cnn fake news fox news great fbi crook trump tweet merri christma wish',\n",
       " 'america alway great vote trump clinton legitim altern',\n",
       " 'giselleevn need decent game',\n",
       " 'presid obama idea go state depart right nose believ second',\n",
       " 'type person want meet',\n",
       " 'yaf',\n",
       " 'hillaryclinton u power greed stop tell american much care noth r race baiter',\n",
       " 'realli arimelb',\n",
       " 'hillari role psycholog warfar',\n",
       " 'hogan submit new nomine baltimor liquor board',\n",
       " 'giuliani tax report prove trump geniu geniu would lost almost billion first place',\n",
       " 'dorian murray die cancer wish famou goe heaven spread word dstrong',\n",
       " 'topnew domest violenc charg former nfl player ray rice dismiss abc',\n",
       " 'clinton repunta en lo sondeo',\n",
       " 'silver line fail bristol cancer drug trial health',\n",
       " 'trump receiv polic union endors battleground ohio via breitbartnew',\n",
       " 'root say black folk vote trump sick troll lmao crack cocain peopl work overtim',\n",
       " 'awesom tthi go nurs go berni feelthebern',\n",
       " 'sainsburi sale sixth consecut quarter',\n",
       " 'warm convers phone tonight presid donald trump invit meet februari',\n",
       " 'would take trump hairpiec one debat ifiwereinvis',\n",
       " 'pm washington dc donald trump still major threat free world',\n",
       " 'trump support never accept trump loss see trump last best hope get want',\n",
       " 'saudi king salman visit washington fall carter news',\n",
       " 'watson clemson domin oklahoma clemson head nation championship game still break',\n",
       " 'billiondollar',\n",
       " 'sander clinton absolut correct leak comment support',\n",
       " 'import read last six day prove donald trump danger unfit presid via voxdotcom',\n",
       " 'video bill reilli call bill hillari clinton partner corrupt',\n",
       " 'rt johnkstahlusa got exclus sneak preview mueller grand juri look like group unbias',\n",
       " 'topnew gunman captur shoot capitol complex sourc',\n",
       " 'see nfl scout say saint undraft free agent sport',\n",
       " 'anybodi got real knowledg ye know tobacco poison ancient said bring lower demon planet go figur',\n",
       " 'excus sir definit last slice pizza flirt',\n",
       " 'feel like trump began presidenti campaign advertis brand gain ground got nomin amp like oh shit',\n",
       " 'rachel maddow speed dial obamaswishlist',\n",
       " 'trump challeng white women want smack washington post',\n",
       " 'surpris hillari stand behind san juan crook mayor',\n",
       " 'trump infrastructur plan fatal flaw usmayor',\n",
       " 'news hillaryclinton stop central pa tuesday trump come today penc earlier week',\n",
       " 'top rt mycalynn vote aja smith congress help turn california red ca cagop capol maga mcga ajafor',\n",
       " 'break trump serious consid end obama daca',\n",
       " 'rt poisonivi omg pleas tell nutti',\n",
       " 'idrunforpresidentif could make white hous start point real life version game life bang aid lose k',\n",
       " 'rt roy border town pass resolut oppos trump wall illeg deport',\n",
       " 'mar rt jbwredsox senjohnmccain mani american obamacar pay mayo clinic deposit oh care less gov',\n",
       " 'snlupdat think immor cast elect two equal bad choic hrc qualifi compet trump monster',\n",
       " 'rt patriotging mt missybash obama lie economi tank time bush fault wakeupameri',\n",
       " 'polic arrest mom toddler found dead hotel room',\n",
       " 'think new law stop law breaker danger stupid shannonwattstantrum',\n",
       " 'rt jerrylord like youtub video talib kweli everi ghetto pt audio ft alo blacc problem',\n",
       " 'gio martin giggmus kill audio wcw nyc night rap rt',\n",
       " 'candid qualifi orlean parish school board elect polit',\n",
       " 'lockherup',\n",
       " 'morn joe trump tax releas know report mllion lost legal think',\n",
       " 'break ny time leak trump tax return elect detail via bipartisan report',\n",
       " 'liber realli craazi giuliani tapper clash trump claim hillari clinton infidel',\n",
       " 'lol small group psychologist march trump person',\n",
       " 'retweet mike cernovich cernovich',\n",
       " 'break trump call disrespect nfl',\n",
       " 'rumor cell phone deton nycexplos',\n",
       " 'video snl hit polit hard season open trump sander clinton skit fccnn nbc saturday',\n",
       " 'goin get workout right mayyggann actualkuroo acollazoi therealspeedi damn flea missmollymacd',\n",
       " 'intuit tell think mind look next jona salk',\n",
       " 'lol saturdaymorn',\n",
       " 'reddick trade rumor swirl cub giant royal show interest sport',\n",
       " 'video let go obama tell bill clinton get board air forc one',\n",
       " 'look coward hoodlum molonlab trumptrain maga',\n",
       " 'charli sheen say hiv viru news',\n",
       " 'deadbeattrump wretch human penc would expos homophob radic amjoy',\n",
       " 'sen elizabeth warren chicago ralli violenc trump polit',\n",
       " 'rt gerfingerpoken carter choos trump choos tedcruz cruzcrew pjnet dumptru',\n",
       " 'teen bmw tri escap cop ram polic car',\n",
       " 'one newspap endors trump nation enquir',\n",
       " 'andrew luck dislik shower say former backup matt hasselbeck sport',\n",
       " 'topl rt tdkinser judg know underestim challeng talk',\n",
       " 'solut even mac snob endors millbot',\n",
       " 'big loss',\n",
       " 'larri david bring berni sander back snl trump campaign showdown',\n",
       " 'realdonaldtrump say delusion',\n",
       " 'foke aristocrat daughter nanci morrison spark furi raucou st birthday parti foke',\n",
       " 'tinnieelain otrachi milwauke mizzyisrael shiksa ffsake mark phlprnzmrn renzzzi rowdykaren karen',\n",
       " 'polic investig deadli shoot san francisco',\n",
       " 'poll kasich lead ohio trump fla polit',\n",
       " 'time found donald trump tax record mailbox',\n",
       " 'think realli mean media protect white peopl self imag cost even compliment white murder',\n",
       " 'alcohol drunk hungov vacationin word',\n",
       " 'nd amend well regul militia necessari secur free state right peopl',\n",
       " 'realjameswood read enjoy last paragraph marvel syntax grammat acumen',\n",
       " 'spur nation live blog vs l clipper sport',\n",
       " 'bush disappoint never vote anoth bush georg w bush smart',\n",
       " 'secretari clinton absolut correct',\n",
       " 'great stori republican parti chang voter imwithh',\n",
       " 'sport live seahawk vs patriot super bowl xlix',\n",
       " 'rt stacylstil instead provid fbi w file month ago manafort could like hrc amp',\n",
       " 'con laugh stock world',\n",
       " 'britain teacher learn tackl extremist news',\n",
       " 'defend assdick trump tax terribl tax law want hillari pay fair institut fairtax',\n",
       " 'disagre marriag abt financ cours abt financ abt futur famili see profil rdiinc',\n",
       " 'woman indict beat death year old daughter',\n",
       " 'rip left eye',\n",
       " 'video sevyn ft tydollasign amp camiam ever fallen dir mikeho',\n",
       " 'lt gov mari taylor resign ohio depart insur director',\n",
       " 'polit ted cruz hold campaign ralli oklahoma',\n",
       " 'oklahoma baker mayfield charg public drunken resist arrest',\n",
       " 'earlier',\n",
       " 'polic recov handgun ak night club fight wisconsin',\n",
       " 'billion',\n",
       " 'vean chata migb castellano burl ndose de trump miss cerdita',\n",
       " 'stoog campaign hit hillari bill affair sp show clip',\n",
       " 'topvideo netanyahu claim elect victori challeng say everyth open',\n",
       " 'hurrican matthew hammer western haiti deadli forc world news',\n",
       " 'realdonaldtrump abc sundaymorn meetthepress thisweek cnnsotu amjoy american know msm becom unreli amp untrustworthi follow saracarterdc',\n",
       " 'lastimetrumppaidtax',\n",
       " 'chicago medic clinic also prescrib legal help hous chicagobl',\n",
       " 'jgreendc postcard realdonaldtrump',\n",
       " 'clinton whomp debat reaction american see hillari clinton winner first presidenti abc',\n",
       " 'great workout put great mood brandon thesag xoxo anay sarahban brentstackh jayahleshae',\n",
       " 'rt caroleina unanobl ashghebrani magpi nbird workmanalic matter go high court mother sign',\n",
       " 'el candidato republicano anim la gent',\n",
       " 'headsup az maricopa cti sheriff releas crimin illeg everi day violat feder law via jubal',\n",
       " 'hurrican caribbean bomb donald trump destroy new york citi',\n",
       " 'clinton critic latest book detail bill clinton romp insid presidenti librari penthous includ f',\n",
       " 'network shake',\n",
       " 'would trump blockchain industri',\n",
       " 'video man crash fox amp friend segment repeatedli shout bill clinton rapist',\n",
       " 'local news elizabeth johnson mother babi gabriel',\n",
       " 'must watch sabin durden stori angel mom trump love sabin durden',\n",
       " 'cubadeb donald trump pudo haber evitado el pago de impuesto durant os donald trump candidato rep',\n",
       " 'realdonaldtrump dear mr trump like make u promis u ever come norway promis hit ur face egg airport',\n",
       " 'got drunk valentinesdayin word',\n",
       " 'h said bill elect sew robert kennedi shot',\n",
       " 'lauren mccauley',\n",
       " 'searchesgoogleisashamedof fox news fact',\n",
       " 'leak record show trump may avoid tax year thecabl',\n",
       " 'hey fakeyapp aka jaketapp trump accus joenbc staffer death accord local report time medic examin berkland wrote loriklaususti autopsi incompet amp later arrest realnew read gt',\n",
       " 'point hold press conf inform us bomb explod last night enlighten noth see folk chelseanyc',\n",
       " 'american realli depend social secur tcot wakeupamerica',\n",
       " 'trump tryna give hillari half',\n",
       " 'sanjos mayor san jose pittsburgh bet hockey game',\n",
       " 'hit run motorist fatal strike man la',\n",
       " 'rt afight still believ obama speech tcot pjnet teaparti tgdn tlot ctot lnyhbt rnr',\n",
       " 'local cleveland rescu water wildwood marina',\n",
       " 'sander say clinton comment leak audio absolut correct',\n",
       " 'thefirst daystodolist get rid nation debt',\n",
       " 'zach brown zach flex fresh f taylorr taylor califiend eastsid firefight anthoni coryclist og',\n",
       " 'wast time tweet approv night still base fact',\n",
       " 'presidenti debat commiss admit trump mic mess via dailycal',\n",
       " 'stagger statist less one percent colleg student american indian',\n",
       " 'rt trumpgirlmaga follow day realkylemorri kyle colleg conserv help expos liber bia',\n",
       " 'south park deliv hilari take first presidenti debat',\n",
       " 'deri allen welcom',\n",
       " 'dear trump hater',\n",
       " 'battleground state news media call need get behind donald trump n make america great sso simpl neverhillari',\n",
       " 'congo opposit strike call kabila step world news',\n",
       " 'job jungl state must help ex prison adapt local',\n",
       " 'tell social media matter movement',\n",
       " 'realdonaldtrump trump rosa park fakenew never show gualibl audienc rosapark mlk',\n",
       " 'rr eonakentara josephnspri robinbrentwood texasbaseballma labuda robert rampagenin ishkotay vespasian',\n",
       " 'tdsmith trump tweeter trump tweet south carolina',\n",
       " 'nyt report trump tax record',\n",
       " 'good campaign elect good friend mofaromero robloxrepair',\n",
       " 'chest workout complet k lli kel amadmavworld c taylor dongrot jordanrweav ghost vr chllooe memosochoa',\n",
       " 'beauti ten gop fifth grader honor flight sing veteran board awesom kid',\n",
       " 'clinton trump correa revela qui n su criterio es el candidato que le har bien eeuu al mund',\n",
       " 'new workout schedul shawnacherri jennah kate kararebecca mariemahakian cgfri matthewsnippl fbuta n',\n",
       " 'crookedhillari',\n",
       " 'volkswagen settl emiss cheat case b news',\n",
       " 'topeka man sent hospit stab wound news',\n",
       " 'whole thing rig favor hillari clinton',\n",
       " 'origin orpheu mardi gra season parad roll friday mandevil news',\n",
       " 'play comment trump support',\n",
       " 'donald trump told howard stern thought pari hilton beauti year old',\n",
       " 'trump lose call cia director john brennan leaker fake news blame putin russia nuke europ',\n",
       " 'ikea govern issu warn dresser link fatal injuri two toddler',\n",
       " 'peopl realli understand gruesom histori christian',\n",
       " 'clinton said sander support hack audio file sound like empathi mockeri',\n",
       " 'berni sander ny time trump tax report exactli mani american cnn via c nvey',\n",
       " 'explain trump continu popular stephen hawk said',\n",
       " 'pro lifer bold stand clinton ralli caus campaign take drastic measur rightidea tcot',\n",
       " 'foke anti tori protest demand theresa may call earli elect immedi seen foke',\n",
       " 'saw pretti close actual theresasignifeverisawon',\n",
       " 'georgia polic shoot suspect minguel lembrick still larg',\n",
       " 'teen plead voluntari manslaught circl c beat death',\n",
       " 'mt christichat wakeupamerica four american held prison iran freeamirnow pjnet',\n",
       " 'roger water redobla cr tica trump pe nieto desd el coraz n de xico',\n",
       " 'hamilton actor get share profit hit music entertain',\n",
       " 'watch larri david return berni sander brilliant snl clinton vs trump famili feud',\n",
       " 'trump support thought wind sent pictur tabl cover pot sent dea twitter id',\n",
       " 'tip find bay area starter home busi',\n",
       " 'troubl trump women via msnbc',\n",
       " 'e book debunk al gore outsel al gore sequel',\n",
       " 'meanwhil america regard donald trump',\n",
       " 'trump tax record tighten focu treatment loss',\n",
       " 'giselleevn phrase studi show basic real life equival magic spell make ppl believ everyth lol',\n",
       " 'man fight freedom intellig human malcolm x quot blackquot',\n",
       " 'black person patron remind easi grow exclus white',\n",
       " 'nuclear experi ukrain aw whole region danger fake fukushimaagain',\n",
       " 'target isi account target iceisi opiceisi',\n",
       " 'innoc children die shortag antidot ventil oxygen hospit',\n",
       " 'adelantan que clinton prev incrementar accion hostil contra siria brian fallon secretario de prensa de',\n",
       " 'middl east alli physic polit risk trump leak',\n",
       " 'gorgeou',\n",
       " 'wanna hear republican winner say gopdebatesc',\n",
       " 'topnew america air travel say guilti yank muslim scarf',\n",
       " 'clinton trounc debat reaction trump unfavor edg american see hillari clinton w',\n",
       " 'poppymurray poppymurray poppymurray',\n",
       " 'mpolito mike mindovermunch alyssia ktchrisman kaitlin kamcook kam falcon nate willeford tyler tyler',\n",
       " 'joebiden biden clinton resurg trump stall poll show u presid uniteblu tcot',\n",
       " 'painesvil man accus rob threaten shoot lakewood women jamaud cooper painesvil accus robb crime',\n",
       " 'remind mental health care conveni digest trope address rampant gun cultur kalamazooshoot',\n",
       " ...]"
      ]
     },
     "execution_count": 41,
     "metadata": {},
     "output_type": "execute_result"
    }
   ],
   "source": [
    "corpus"
   ]
  },
  {
   "cell_type": "markdown",
   "metadata": {},
   "source": [
    "<h2 style=\"color:blue\" align=\"left\"> 5. Making the bag of words via sparse matrix </h2>"
   ]
  },
  {
   "cell_type": "markdown",
   "metadata": {},
   "source": [
    "- **Count Vectorization** is used to **convert** given text into a **vector** on the basis of the **frequency (count) of each word** that occurs in the entire text."
   ]
  },
  {
   "cell_type": "code",
   "execution_count": 42,
   "metadata": {},
   "outputs": [],
   "source": [
    "# Creating the Bag of Words model \n",
    "from sklearn.feature_extraction.text import CountVectorizer \n",
    "  \n",
    "# To extract max 1800 feature. \"max_features\" is attribute to experiment with to get better results \n",
    "cv = CountVectorizer(max_features = 1800)  \n",
    "  \n",
    "# X contains corpus (dependent variable) \n",
    "X = cv.fit_transform(corpus).toarray()  \n",
    "  \n",
    "# y contains answers if review is positive or negative \n",
    "y = tweets.iloc[:, 1].values"
   ]
  },
  {
   "cell_type": "code",
   "execution_count": 43,
   "metadata": {},
   "outputs": [],
   "source": [
    "# split  data into training and testing sets of 70:30 ratio\n",
    "# 20% of test size selected\n",
    "# random_state is random seed\n",
    "from sklearn.model_selection import train_test_split\n",
    "X_train, X_test, y_train, y_test = train_test_split(X, y, test_size = 0.20, random_state = 0)"
   ]
  },
  {
   "cell_type": "code",
   "execution_count": 44,
   "metadata": {},
   "outputs": [
    {
     "name": "stdout",
     "output_type": "stream",
     "text": [
      "(14063, 1800) (3516, 1800) (14063,) (3516,)\n"
     ]
    }
   ],
   "source": [
    "# shape of X & Y test / train\n",
    "print(X_train.shape, X_test.shape, y_train.shape, y_test.shape)"
   ]
  },
  {
   "cell_type": "markdown",
   "metadata": {},
   "source": [
    "<h2 style=\"color:blue\" align=\"left\"> 6. Model building and Evaluation </h2>"
   ]
  },
  {
   "cell_type": "markdown",
   "metadata": {},
   "source": [
    "### a) Naive Bayes"
   ]
  },
  {
   "cell_type": "code",
   "execution_count": 45,
   "metadata": {},
   "outputs": [
    {
     "data": {
      "text/plain": [
       "MultinomialNB()"
      ]
     },
     "execution_count": 45,
     "metadata": {},
     "output_type": "execute_result"
    }
   ],
   "source": [
    "from sklearn.naive_bayes import MultinomialNB\n",
    "classifier = MultinomialNB()\n",
    "classifier.fit(X_train, y_train)"
   ]
  },
  {
   "cell_type": "code",
   "execution_count": 46,
   "metadata": {},
   "outputs": [],
   "source": [
    "y_pred_GNB = classifier.predict(X_test)"
   ]
  },
  {
   "cell_type": "code",
   "execution_count": 47,
   "metadata": {},
   "outputs": [
    {
     "name": "stdout",
     "output_type": "stream",
     "text": [
      "Train Score 0.87 & Test Score 0.86\n"
     ]
    }
   ],
   "source": [
    "print(\"Train Score {:.2f} & Test Score {:.2f}\".format(classifier.score(X_train, y_train), classifier.score(X_test, y_test)))"
   ]
  },
  {
   "cell_type": "code",
   "execution_count": 48,
   "metadata": {},
   "outputs": [
    {
     "data": {
      "text/plain": [
       "array([[1198,  298],\n",
       "       [ 193, 1827]], dtype=int64)"
      ]
     },
     "execution_count": 48,
     "metadata": {},
     "output_type": "execute_result"
    }
   ],
   "source": [
    "# Making the Confusion Matrix\n",
    "from sklearn.metrics import confusion_matrix\n",
    "cm = confusion_matrix(y_test, y_pred_GNB)\n",
    "cm"
   ]
  },
  {
   "cell_type": "code",
   "execution_count": 49,
   "metadata": {},
   "outputs": [
    {
     "name": "stdout",
     "output_type": "stream",
     "text": [
      "              precision    recall  f1-score   support\n",
      "\n",
      "           0       0.86      0.80      0.83      1496\n",
      "           1       0.86      0.90      0.88      2020\n",
      "\n",
      "    accuracy                           0.86      3516\n",
      "   macro avg       0.86      0.85      0.86      3516\n",
      "weighted avg       0.86      0.86      0.86      3516\n",
      "\n"
     ]
    }
   ],
   "source": [
    "# Classification report\n",
    "from sklearn.metrics import classification_report\n",
    "print(classification_report(y_test, y_pred_GNB))"
   ]
  },
  {
   "cell_type": "markdown",
   "metadata": {},
   "source": [
    "### b) Random Forest"
   ]
  },
  {
   "cell_type": "code",
   "execution_count": 50,
   "metadata": {},
   "outputs": [
    {
     "data": {
      "text/plain": [
       "RandomForestClassifier(criterion='entropy', random_state=7)"
      ]
     },
     "execution_count": 50,
     "metadata": {},
     "output_type": "execute_result"
    }
   ],
   "source": [
    "# Fitting Random Forest Classification to the Training set \n",
    "from sklearn.ensemble import RandomForestClassifier \n",
    "  \n",
    "# n_estimators can be said as number of trees, experiment with n_estimators to get better results  \n",
    "model = RandomForestClassifier(n_estimators = 100, criterion = 'entropy', random_state = 7) \n",
    "model.fit(X_train, y_train)"
   ]
  },
  {
   "cell_type": "code",
   "execution_count": 51,
   "metadata": {},
   "outputs": [],
   "source": [
    "# Predicting the Test set results \n",
    "y_pred_model = model.predict(X_test) "
   ]
  },
  {
   "cell_type": "code",
   "execution_count": 52,
   "metadata": {},
   "outputs": [
    {
     "name": "stdout",
     "output_type": "stream",
     "text": [
      "Train Score 0.98 & Test Score 0.89\n"
     ]
    }
   ],
   "source": [
    "print(\"Train Score {:.2f} & Test Score {:.2f}\".format(model.score(X_train, y_train), model.score(X_test, y_test)))"
   ]
  },
  {
   "cell_type": "code",
   "execution_count": 53,
   "metadata": {},
   "outputs": [
    {
     "data": {
      "text/plain": [
       "array([[1410,   86],\n",
       "       [ 316, 1704]], dtype=int64)"
      ]
     },
     "execution_count": 53,
     "metadata": {},
     "output_type": "execute_result"
    }
   ],
   "source": [
    "# Making the Confusion Matrix \n",
    "cm = confusion_matrix(y_test, y_pred_model) \n",
    "cm "
   ]
  },
  {
   "cell_type": "code",
   "execution_count": 54,
   "metadata": {},
   "outputs": [
    {
     "name": "stdout",
     "output_type": "stream",
     "text": [
      "              precision    recall  f1-score   support\n",
      "\n",
      "           0       0.82      0.94      0.88      1496\n",
      "           1       0.95      0.84      0.89      2020\n",
      "\n",
      "    accuracy                           0.89      3516\n",
      "   macro avg       0.88      0.89      0.88      3516\n",
      "weighted avg       0.89      0.89      0.89      3516\n",
      "\n"
     ]
    }
   ],
   "source": [
    "# Classification report\n",
    "print(classification_report(y_test, y_pred_model))"
   ]
  },
  {
   "cell_type": "markdown",
   "metadata": {},
   "source": [
    "### c) Decision Tree"
   ]
  },
  {
   "cell_type": "code",
   "execution_count": 55,
   "metadata": {},
   "outputs": [
    {
     "data": {
      "text/plain": [
       "DecisionTreeClassifier()"
      ]
     },
     "execution_count": 55,
     "metadata": {},
     "output_type": "execute_result"
    }
   ],
   "source": [
    "from sklearn.tree import DecisionTreeClassifier\n",
    "DCT = DecisionTreeClassifier()\n",
    "DCT.fit(X_train, y_train)"
   ]
  },
  {
   "cell_type": "code",
   "execution_count": 56,
   "metadata": {},
   "outputs": [],
   "source": [
    "# Predicting the Test set results \n",
    "y_pred_DCT = DCT.predict(X_test) "
   ]
  },
  {
   "cell_type": "code",
   "execution_count": 57,
   "metadata": {},
   "outputs": [
    {
     "name": "stdout",
     "output_type": "stream",
     "text": [
      "Train Score 0.98 & Test Score 0.84\n"
     ]
    }
   ],
   "source": [
    "print(\"Train Score {:.2f} & Test Score {:.2f}\".format(DCT.score(X_train, y_train), DCT.score(X_test, y_test)))"
   ]
  },
  {
   "cell_type": "code",
   "execution_count": 58,
   "metadata": {},
   "outputs": [
    {
     "data": {
      "text/plain": [
       "array([[1345,  151],\n",
       "       [ 420, 1600]], dtype=int64)"
      ]
     },
     "execution_count": 58,
     "metadata": {},
     "output_type": "execute_result"
    }
   ],
   "source": [
    "# Making the Confusion Matrix \n",
    "cm = confusion_matrix(y_test, y_pred_DCT) \n",
    "cm "
   ]
  },
  {
   "cell_type": "code",
   "execution_count": 59,
   "metadata": {},
   "outputs": [
    {
     "name": "stdout",
     "output_type": "stream",
     "text": [
      "              precision    recall  f1-score   support\n",
      "\n",
      "           0       0.76      0.90      0.82      1496\n",
      "           1       0.91      0.79      0.85      2020\n",
      "\n",
      "    accuracy                           0.84      3516\n",
      "   macro avg       0.84      0.85      0.84      3516\n",
      "weighted avg       0.85      0.84      0.84      3516\n",
      "\n"
     ]
    }
   ],
   "source": [
    "# Classification report\n",
    "print(classification_report(y_test, y_pred_DCT))"
   ]
  },
  {
   "cell_type": "markdown",
   "metadata": {},
   "source": [
    "### d) Logistic Regression"
   ]
  },
  {
   "cell_type": "code",
   "execution_count": 60,
   "metadata": {},
   "outputs": [
    {
     "data": {
      "text/plain": [
       "LogisticRegression()"
      ]
     },
     "execution_count": 60,
     "metadata": {},
     "output_type": "execute_result"
    }
   ],
   "source": [
    "from sklearn.linear_model import LogisticRegression\n",
    "LR = LogisticRegression()\n",
    "LR.fit(X_train, y_train)"
   ]
  },
  {
   "cell_type": "code",
   "execution_count": 61,
   "metadata": {},
   "outputs": [],
   "source": [
    "# Predicting the Test set results \n",
    "y_pred_LR = LR.predict(X_test) "
   ]
  },
  {
   "cell_type": "code",
   "execution_count": 62,
   "metadata": {},
   "outputs": [
    {
     "name": "stdout",
     "output_type": "stream",
     "text": [
      "Train Score 0.92 & Test Score 0.89\n"
     ]
    }
   ],
   "source": [
    "print(\"Train Score {:.2f} & Test Score {:.2f}\".format(LR.score(X_train, y_train), LR.score(X_test, y_test)))"
   ]
  },
  {
   "cell_type": "code",
   "execution_count": 63,
   "metadata": {},
   "outputs": [
    {
     "data": {
      "text/plain": [
       "array([[1265,  231],\n",
       "       [ 144, 1876]], dtype=int64)"
      ]
     },
     "execution_count": 63,
     "metadata": {},
     "output_type": "execute_result"
    }
   ],
   "source": [
    "# Making the Confusion Matrix \n",
    "cm = confusion_matrix(y_test, y_pred_LR) \n",
    "cm "
   ]
  },
  {
   "cell_type": "code",
   "execution_count": 64,
   "metadata": {},
   "outputs": [
    {
     "name": "stdout",
     "output_type": "stream",
     "text": [
      "              precision    recall  f1-score   support\n",
      "\n",
      "           0       0.90      0.85      0.87      1496\n",
      "           1       0.89      0.93      0.91      2020\n",
      "\n",
      "    accuracy                           0.89      3516\n",
      "   macro avg       0.89      0.89      0.89      3516\n",
      "weighted avg       0.89      0.89      0.89      3516\n",
      "\n"
     ]
    }
   ],
   "source": [
    "# Classification report\n",
    "print(classification_report(y_test, y_pred_LR))"
   ]
  },
  {
   "cell_type": "markdown",
   "metadata": {},
   "source": [
    "### e) SVM"
   ]
  },
  {
   "cell_type": "code",
   "execution_count": 65,
   "metadata": {},
   "outputs": [
    {
     "data": {
      "text/plain": [
       "SVC()"
      ]
     },
     "execution_count": 65,
     "metadata": {},
     "output_type": "execute_result"
    }
   ],
   "source": [
    "from sklearn.svm import SVC\n",
    "svm = SVC()\n",
    "svm.fit(X_train, y_train)"
   ]
  },
  {
   "cell_type": "code",
   "execution_count": 66,
   "metadata": {},
   "outputs": [],
   "source": [
    "# Predicting the Test set results \n",
    "y_pred_svm = svm.predict(X_test) "
   ]
  },
  {
   "cell_type": "code",
   "execution_count": 67,
   "metadata": {},
   "outputs": [
    {
     "name": "stdout",
     "output_type": "stream",
     "text": [
      "Train Score 0.94 & Test Score 0.90\n"
     ]
    }
   ],
   "source": [
    "print(\"Train Score {:.2f} & Test Score {:.2f}\".format(svm.score(X_train, y_train), svm.score(X_test, y_test)))"
   ]
  },
  {
   "cell_type": "code",
   "execution_count": 68,
   "metadata": {},
   "outputs": [
    {
     "data": {
      "text/plain": [
       "array([[1290,  206],\n",
       "       [ 149, 1871]], dtype=int64)"
      ]
     },
     "execution_count": 68,
     "metadata": {},
     "output_type": "execute_result"
    }
   ],
   "source": [
    "# Making the Confusion Matrix \n",
    "cm = confusion_matrix(y_test, y_pred_svm)  \n",
    "cm "
   ]
  },
  {
   "cell_type": "code",
   "execution_count": 69,
   "metadata": {},
   "outputs": [
    {
     "name": "stdout",
     "output_type": "stream",
     "text": [
      "              precision    recall  f1-score   support\n",
      "\n",
      "           0       0.90      0.86      0.88      1496\n",
      "           1       0.90      0.93      0.91      2020\n",
      "\n",
      "    accuracy                           0.90      3516\n",
      "   macro avg       0.90      0.89      0.90      3516\n",
      "weighted avg       0.90      0.90      0.90      3516\n",
      "\n"
     ]
    }
   ],
   "source": [
    "# Classification report\n",
    "print(classification_report(y_test, y_pred_svm))"
   ]
  },
  {
   "cell_type": "markdown",
   "metadata": {},
   "source": [
    "### f) XGBoost"
   ]
  },
  {
   "cell_type": "code",
   "execution_count": 70,
   "metadata": {},
   "outputs": [
    {
     "data": {
      "text/plain": [
       "XGBClassifier(base_score=0.5, booster='gbtree', colsample_bylevel=1,\n",
       "              colsample_bynode=1, colsample_bytree=1, gamma=0, gpu_id=-1,\n",
       "              importance_type='gain', interaction_constraints='',\n",
       "              learning_rate=0.300000012, max_delta_step=0, max_depth=6,\n",
       "              min_child_weight=1, missing=nan, monotone_constraints='()',\n",
       "              n_estimators=100, n_jobs=0, num_parallel_tree=1, random_state=0,\n",
       "              reg_alpha=0, reg_lambda=1, scale_pos_weight=1, subsample=1,\n",
       "              tree_method='exact', validate_parameters=1, verbosity=None)"
      ]
     },
     "execution_count": 70,
     "metadata": {},
     "output_type": "execute_result"
    }
   ],
   "source": [
    "import xgboost as xgb\n",
    "from xgboost import XGBClassifier\n",
    "xgb = XGBClassifier()\n",
    "xgb.fit(X_train, y_train)"
   ]
  },
  {
   "cell_type": "code",
   "execution_count": 71,
   "metadata": {},
   "outputs": [],
   "source": [
    "# Predicting the Test set results \n",
    "y_pred_xgb = xgb.predict(X_test) "
   ]
  },
  {
   "cell_type": "code",
   "execution_count": 72,
   "metadata": {},
   "outputs": [
    {
     "name": "stdout",
     "output_type": "stream",
     "text": [
      "Train Score 0.91 & Test Score 0.90\n"
     ]
    }
   ],
   "source": [
    "print(\"Train Score {:.2f} & Test Score {:.2f}\".format(xgb.score(X_train, y_train), xgb.score(X_test, y_test)))"
   ]
  },
  {
   "cell_type": "code",
   "execution_count": 73,
   "metadata": {},
   "outputs": [
    {
     "data": {
      "text/plain": [
       "array([[1283,  213],\n",
       "       [ 155, 1865]], dtype=int64)"
      ]
     },
     "execution_count": 73,
     "metadata": {},
     "output_type": "execute_result"
    }
   ],
   "source": [
    "# Making the C# Making the Confusion Matrix \n",
    "cm = confusion_matrix(y_test, y_pred_xgb)  \n",
    "cm"
   ]
  },
  {
   "cell_type": "code",
   "execution_count": 74,
   "metadata": {},
   "outputs": [
    {
     "name": "stdout",
     "output_type": "stream",
     "text": [
      "              precision    recall  f1-score   support\n",
      "\n",
      "           0       0.89      0.86      0.87      1496\n",
      "           1       0.90      0.92      0.91      2020\n",
      "\n",
      "    accuracy                           0.90      3516\n",
      "   macro avg       0.89      0.89      0.89      3516\n",
      "weighted avg       0.90      0.90      0.90      3516\n",
      "\n"
     ]
    }
   ],
   "source": [
    "# Classification report\n",
    "print(classification_report(y_test, y_pred_xgb))"
   ]
  },
  {
   "cell_type": "markdown",
   "metadata": {},
   "source": [
    "-----------------"
   ]
  },
  {
   "cell_type": "markdown",
   "metadata": {},
   "source": [
    "#### Naive Bayes\n",
    "- Accuracy on Test Data Set with Naive Bayes : 86%\n",
    "\n",
    "#### Random Forest\n",
    "- Accuracy on Test Data Set with Random Forest : 89%\n",
    "\n",
    "#### Decision Tree\n",
    "- Accuracy on Test Data Set with Decision Tree : 84%\n",
    "\n",
    "#### Logistic Regression\n",
    "- Accuracy on Test Data Set with Logistic Regression : 89%\n",
    "\n",
    "#### SVM\n",
    "- Accuracy on Test Data Set with SVM : 90%\n",
    "\n",
    "#### XGBoost\n",
    "- Accuracy on Test Data Set with XGBoost : 90%"
   ]
  },
  {
   "cell_type": "markdown",
   "metadata": {},
   "source": [
    "- So far **SVM & XGBoost** proved to be the best performing model with **90% accuracy.**"
   ]
  }
 ],
 "metadata": {
  "kernelspec": {
   "display_name": "Python 3",
   "language": "python",
   "name": "python3"
  },
  "language_info": {
   "codemirror_mode": {
    "name": "ipython",
    "version": 3
   },
   "file_extension": ".py",
   "mimetype": "text/x-python",
   "name": "python",
   "nbconvert_exporter": "python",
   "pygments_lexer": "ipython3",
   "version": "3.7.3"
  }
 },
 "nbformat": 4,
 "nbformat_minor": 2
}
