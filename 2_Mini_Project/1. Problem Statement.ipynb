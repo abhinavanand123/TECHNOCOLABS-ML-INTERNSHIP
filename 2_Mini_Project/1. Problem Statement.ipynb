{
 "cells": [
  {
   "cell_type": "markdown",
   "metadata": {},
   "source": [
    "- 1. How to Detect Twitter Bots with BotCheck.Me\n",
    "\n",
    "      https://www.youtube.com/watch?v=PHmz5ohbJig&ab_channel=LarrySnow\n",
    "      \n",
    "\n",
    "\n",
    "- 2. Model Deployment Deep Dive using Containers and Serverless (NLP)\n",
    "\n",
    "      https://www.youtube.com/watch?v=kyQH71pB0vI&ab_channel=AIEngineering"
   ]
  },
  {
   "cell_type": "markdown",
   "metadata": {},
   "source": [
    "----------"
   ]
  },
  {
   "cell_type": "markdown",
   "metadata": {},
   "source": [
    "### ML Algorithms to identify political trolls across social media and compare their accuracies\n",
    " 1. Naive Bayes\n",
    "\n",
    "\n",
    " 2. Logistic Regression\n",
    "\n",
    "\n",
    " 3. Kernel SVM\n",
    "\n",
    "\n",
    " 4. Random Forest\n",
    "\n",
    "\n",
    " 5. LSTM neural networks"
   ]
  },
  {
   "cell_type": "markdown",
   "metadata": {},
   "source": [
    "- **classify** whether a tweet was created by a **bot or by human**\n",
    "\n",
    "\n",
    "- Initial studies made a broad overview detailing the percentage of **twitter users that are bots** and the percentage of **tweets that are made by bots** on Twitter."
   ]
  },
  {
   "cell_type": "markdown",
   "metadata": {},
   "source": [
    "- **Twitter**, launched in 2006, is a microblogging (extremely short-form blogging), social media network [5]. Communicating via tweets, which are **limited in size to only 280 characters**, users relay messages to each other. These messages can be in the forms of tweeting, authoring messages; replying, responding to another person’s message; and direct messaging, tweeting a message to another user that is not available for view to the public.\n",
    "\n",
    "\n",
    "- “@” symbol preceding the target account’s name\n",
    "\n",
    "\n",
    "- to interact with other accounts on specific topics by using the hashtag symbol “#”.\n",
    "\n",
    "\n",
    "- Accounts they follow can be friends, companies, institutions, writers, celebrities, or politicians."
   ]
  },
  {
   "cell_type": "markdown",
   "metadata": {},
   "source": [
    "-----------"
   ]
  },
  {
   "cell_type": "markdown",
   "metadata": {},
   "source": [
    "- **Twitter** activity has been classified into **4 main categories:**\n",
    "\n",
    " - daily chatter\n",
    " - conversations\n",
    " - URLs\n",
    " - reporting news\n",
    " \n",
    "\n",
    "- **Daily chatter** is users informing others about their daily lives.\n",
    "\n",
    "\n",
    "- **Conversations** occur when users tag each other using the ‘@’ symbol.\n",
    "\n",
    "\n",
    "- **URLs** are used to share links to other websites with other users.\n",
    "\n",
    "\n",
    "- **Reporting** news is discussion about current events.\n",
    "\n",
    "\n",
    "- These categories can also blend together. News is spread on Twitter through using URLs to link to news articles.\n"
   ]
  },
  {
   "cell_type": "markdown",
   "metadata": {},
   "source": [
    "--------"
   ]
  },
  {
   "cell_type": "markdown",
   "metadata": {},
   "source": [
    "### Bots\n",
    "- An Internet bot is an automated software application. It can run any range of tasks and does so repetitively. The implementation of bots on the Internet is so widespread that bots made up 50% of all online traffic in 2016 [14]. Some of the tasks that bots perform are feed fetchers, commercial crawlers, monitoring, and search engine bots. For example, feed fetchers change the display of websites when they are accessed for mobile users and search engine bots collect metadata that allows the search engine to perform. These tasks shape the Internet as we see it daily.\n",
    "\n",
    "- Chu et al. classifies Twitter accounts as human, bot, or cyborg accounts [21]. The\n",
    "distinction between these three classifiers is the level of automation placed on the\n",
    "account. An account that Chu et al. classified as human had no activity that is\n",
    "automated [21]. An account where all of its activity is automated is considered a bot.\n",
    "An account that is a mix of automated and non-automated tweets is considered a\n",
    "cyborg. An account that is classified as a cyborg can be run two different ways. The\n",
    "account could be run in a way that would be classified as a human, but also have\n",
    "some automated messages. An account that is classified as a cyborg could also be\n",
    "automated for all of its activity, but it’s controller may sometimes send other, nonscheduled tweets. An example of an automated tweet could be a media company’s\n",
    "Twitter account tweeting a link to an article on its website each time an article is\n",
    "published. This is also an example of a benign bot. \n",
    "\n",
    "- 2.3 Twitter Bots\n",
    "A Twitterbot is an Internet bot that operates from a Twitter account. Some of the tasks\n",
    "that can be automated from a Twitter bot are writing Tweets, retweeting, and liking.\n",
    "Twitter does not mind the use of Twitter bot accounts as long as they do not break the\n",
    "Terms of Service through actions such as Tweeting automated messages that are spam\n",
    "or Tweeting misleading links.\n",
    "Twitter bots, like bots in general, serve a variety of purposes ranging from simple\n",
    "tasks such as following a user to more complex tasks like engaging in discussion with\n",
    "other users. Social bots are a type of bot that interacts with users and whose purpose is\n",
    "to generate content that promotes a particular viewpoint. The veracity of the content is\n",
    "irrelevant to the detection of the social bot. It is estimated that between 9 and 15\n",
    "percent of Twitter accounts are bots [13]. The goal of our bot detection research is to\n",
    "develop refined techniques that are able to detect social bots that are actively avoiding\n",
    "being caught by traditional bot detection techniques.\n",
    "There are many types of bots on Twitter. One type of bot exists only to artificially\n",
    "increase the number of followers that an account has [4]. The number of Twitter\n",
    "followers determines its influence because the extent of the followers determines how\n",
    "widely spread is the account’s message. and the weight it’s message receives. People\n",
    "are more likely to trust an account with 1 million Twitter followers than 100 [5].\n",
    "Using bots to artificially inflate the number of followers an account is a way to\n",
    "increase one’s popularity and attract more human followers [2].\n"
   ]
  },
  {
   "cell_type": "markdown",
   "metadata": {},
   "source": [
    "----------"
   ]
  },
  {
   "cell_type": "markdown",
   "metadata": {},
   "source": [
    "- To preprocess the data, we filtered for **only English tweets** (using available metadata in the datasets) and **eliminated** tweets with **no text content (i.e., only an image)**.\n",
    "\n",
    "\n",
    "- For our algorithm, we used a total of **142,560 unique tweets**, of which **61,665 were positive and 80,895 were negative**. \n",
    "\n",
    "\n",
    "- Among these tweets, we **split the data 0.8/0.2 train/test** for all algorithms."
   ]
  },
  {
   "cell_type": "markdown",
   "metadata": {},
   "source": [
    "--------"
   ]
  },
  {
   "cell_type": "markdown",
   "metadata": {},
   "source": [
    "- **Word count:** we experimented with two bag of words approaches, first representing each tweet as a binary **indicator vector**, where a 1 denotes that particular word was used, and second as a **count vector**, with the number of times each word appears in a tweet. In both instances, the size of the vocabulary was capped at 5000 words."
   ]
  },
  {
   "cell_type": "code",
   "execution_count": null,
   "metadata": {},
   "outputs": [],
   "source": []
  }
 ],
 "metadata": {
  "kernelspec": {
   "display_name": "Python 3",
   "language": "python",
   "name": "python3"
  },
  "language_info": {
   "codemirror_mode": {
    "name": "ipython",
    "version": 3
   },
   "file_extension": ".py",
   "mimetype": "text/x-python",
   "name": "python",
   "nbconvert_exporter": "python",
   "pygments_lexer": "ipython3",
   "version": "3.7.3"
  }
 },
 "nbformat": 4,
 "nbformat_minor": 2
}
