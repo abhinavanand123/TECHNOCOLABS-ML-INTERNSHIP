{
 "cells": [
  {
   "cell_type": "markdown",
   "metadata": {},
   "source": [
    "### Dataset Size"
   ]
  },
  {
   "cell_type": "code",
   "execution_count": 1,
   "metadata": {},
   "outputs": [
    {
     "data": {
      "text/plain": [
       "2973371"
      ]
     },
     "execution_count": 1,
     "metadata": {},
     "output_type": "execute_result"
    }
   ],
   "source": [
    "381016 + 397232 + 368885 + 388452 + 331821 + 324512 + 365603 + 378295 + 37555"
   ]
  },
  {
   "cell_type": "markdown",
   "metadata": {},
   "source": [
    "--------"
   ]
  },
  {
   "cell_type": "code",
   "execution_count": 2,
   "metadata": {},
   "outputs": [],
   "source": [
    "import numpy as np\n",
    "import pandas as pd\n",
    "\n",
    "import matplotlib.pyplot as plt\n",
    "%matplotlib inline\n",
    "import seaborn as sns\n",
    "\n",
    "import warnings\n",
    "warnings.filterwarnings(\"ignore\")\n",
    "\n",
    "plt.style.use(\"fivethirtyeight\")\n",
    "sns.set_style('darkgrid')"
   ]
  },
  {
   "cell_type": "markdown",
   "metadata": {},
   "source": [
    "## Document: 01"
   ]
  },
  {
   "cell_type": "code",
   "execution_count": 3,
   "metadata": {},
   "outputs": [
    {
     "data": {
      "text/html": [
       "<div>\n",
       "<style scoped>\n",
       "    .dataframe tbody tr th:only-of-type {\n",
       "        vertical-align: middle;\n",
       "    }\n",
       "\n",
       "    .dataframe tbody tr th {\n",
       "        vertical-align: top;\n",
       "    }\n",
       "\n",
       "    .dataframe thead th {\n",
       "        text-align: right;\n",
       "    }\n",
       "</style>\n",
       "<table border=\"1\" class=\"dataframe\">\n",
       "  <thead>\n",
       "    <tr style=\"text-align: right;\">\n",
       "      <th></th>\n",
       "      <th>external_author_id</th>\n",
       "      <th>author</th>\n",
       "      <th>content</th>\n",
       "      <th>region</th>\n",
       "      <th>language</th>\n",
       "      <th>publish_date</th>\n",
       "      <th>harvested_date</th>\n",
       "      <th>following</th>\n",
       "      <th>followers</th>\n",
       "      <th>updates</th>\n",
       "      <th>post_type</th>\n",
       "      <th>account_type</th>\n",
       "      <th>new_june_2018</th>\n",
       "      <th>retweet</th>\n",
       "      <th>account_category</th>\n",
       "    </tr>\n",
       "  </thead>\n",
       "  <tbody>\n",
       "    <tr>\n",
       "      <th>0</th>\n",
       "      <td>9.060000e+17</td>\n",
       "      <td>10_GOP</td>\n",
       "      <td>\"We have a sitting Democrat US Senator on tria...</td>\n",
       "      <td>Unknown</td>\n",
       "      <td>English</td>\n",
       "      <td>10/1/2017 19:58</td>\n",
       "      <td>10/1/2017 19:59</td>\n",
       "      <td>1052</td>\n",
       "      <td>9636</td>\n",
       "      <td>253</td>\n",
       "      <td>NaN</td>\n",
       "      <td>Right</td>\n",
       "      <td>0</td>\n",
       "      <td>0</td>\n",
       "      <td>RightTroll</td>\n",
       "    </tr>\n",
       "    <tr>\n",
       "      <th>1</th>\n",
       "      <td>9.060000e+17</td>\n",
       "      <td>10_GOP</td>\n",
       "      <td>Marshawn Lynch arrives to game in anti-Trump s...</td>\n",
       "      <td>Unknown</td>\n",
       "      <td>English</td>\n",
       "      <td>10/1/2017 22:43</td>\n",
       "      <td>10/1/2017 22:43</td>\n",
       "      <td>1054</td>\n",
       "      <td>9637</td>\n",
       "      <td>254</td>\n",
       "      <td>NaN</td>\n",
       "      <td>Right</td>\n",
       "      <td>0</td>\n",
       "      <td>0</td>\n",
       "      <td>RightTroll</td>\n",
       "    </tr>\n",
       "    <tr>\n",
       "      <th>2</th>\n",
       "      <td>9.060000e+17</td>\n",
       "      <td>10_GOP</td>\n",
       "      <td>Daughter of fallen Navy Sailor delivers powerf...</td>\n",
       "      <td>Unknown</td>\n",
       "      <td>English</td>\n",
       "      <td>10/1/2017 22:50</td>\n",
       "      <td>10/1/2017 22:51</td>\n",
       "      <td>1054</td>\n",
       "      <td>9637</td>\n",
       "      <td>255</td>\n",
       "      <td>RETWEET</td>\n",
       "      <td>Right</td>\n",
       "      <td>0</td>\n",
       "      <td>1</td>\n",
       "      <td>RightTroll</td>\n",
       "    </tr>\n",
       "  </tbody>\n",
       "</table>\n",
       "</div>"
      ],
      "text/plain": [
       "   external_author_id  author  \\\n",
       "0        9.060000e+17  10_GOP   \n",
       "1        9.060000e+17  10_GOP   \n",
       "2        9.060000e+17  10_GOP   \n",
       "\n",
       "                                             content   region language  \\\n",
       "0  \"We have a sitting Democrat US Senator on tria...  Unknown  English   \n",
       "1  Marshawn Lynch arrives to game in anti-Trump s...  Unknown  English   \n",
       "2  Daughter of fallen Navy Sailor delivers powerf...  Unknown  English   \n",
       "\n",
       "      publish_date   harvested_date  following  followers  updates post_type  \\\n",
       "0  10/1/2017 19:58  10/1/2017 19:59       1052       9636      253       NaN   \n",
       "1  10/1/2017 22:43  10/1/2017 22:43       1054       9637      254       NaN   \n",
       "2  10/1/2017 22:50  10/1/2017 22:51       1054       9637      255   RETWEET   \n",
       "\n",
       "  account_type  new_june_2018  retweet account_category  \n",
       "0        Right              0        0       RightTroll  \n",
       "1        Right              0        0       RightTroll  \n",
       "2        Right              0        1       RightTroll  "
      ]
     },
     "execution_count": 3,
     "metadata": {},
     "output_type": "execute_result"
    }
   ],
   "source": [
    "df1 = pd.read_csv(\"IRAhandle_tweets_1.csv\")\n",
    "df1.head(3)"
   ]
  },
  {
   "cell_type": "code",
   "execution_count": 4,
   "metadata": {
    "scrolled": true
   },
   "outputs": [
    {
     "data": {
      "text/plain": [
       "(381016, 15)"
      ]
     },
     "execution_count": 4,
     "metadata": {},
     "output_type": "execute_result"
    }
   ],
   "source": [
    "df1.shape"
   ]
  },
  {
   "cell_type": "code",
   "execution_count": 5,
   "metadata": {},
   "outputs": [
    {
     "data": {
      "text/plain": [
       "Index(['external_author_id', 'author', 'content', 'region', 'language',\n",
       "       'publish_date', 'harvested_date', 'following', 'followers', 'updates',\n",
       "       'post_type', 'account_type', 'new_june_2018', 'retweet',\n",
       "       'account_category'],\n",
       "      dtype='object')"
      ]
     },
     "execution_count": 5,
     "metadata": {},
     "output_type": "execute_result"
    }
   ],
   "source": [
    "df1.columns"
   ]
  },
  {
   "cell_type": "code",
   "execution_count": 6,
   "metadata": {
    "scrolled": true
   },
   "outputs": [
    {
     "data": {
      "text/plain": [
       "RightTroll      128681\n",
       "NonEnglish       88936\n",
       "LeftTroll        81474\n",
       "HashtagGamer     35204\n",
       "NewsFeed         32423\n",
       "Commercial       12495\n",
       "Unknown            983\n",
       "Fearmonger         820\n",
       "Name: account_category, dtype: int64"
      ]
     },
     "execution_count": 6,
     "metadata": {},
     "output_type": "execute_result"
    }
   ],
   "source": [
    "df1[\"account_category\"].value_counts()"
   ]
  },
  {
   "cell_type": "code",
   "execution_count": 7,
   "metadata": {},
   "outputs": [
    {
     "data": {
      "text/plain": [
       "19"
      ]
     },
     "execution_count": 7,
     "metadata": {},
     "output_type": "execute_result"
    }
   ],
   "source": [
    "df1[\"region\"].nunique()"
   ]
  },
  {
   "cell_type": "code",
   "execution_count": 8,
   "metadata": {},
   "outputs": [
    {
     "data": {
      "text/plain": [
       "United States           251587\n",
       "Unknown                  96063\n",
       "United Arab Emirates     10204\n",
       "Azerbaijan                9126\n",
       "Italy                     6280\n",
       "Germany                   2841\n",
       "Russian Federation        1977\n",
       "Ukraine                   1234\n",
       "Israel                     677\n",
       "United Kingdom             602\n",
       "France                      51\n",
       "Iraq                        17\n",
       "Egypt                       10\n",
       "Turkey                       9\n",
       "Belarus                      8\n",
       "Japan                        6\n",
       "Hong Kong                    3\n",
       "Serbia                       2\n",
       "Austria                      1\n",
       "Name: region, dtype: int64"
      ]
     },
     "execution_count": 8,
     "metadata": {},
     "output_type": "execute_result"
    }
   ],
   "source": [
    "df1[\"region\"].value_counts()"
   ]
  },
  {
   "cell_type": "code",
   "execution_count": 9,
   "metadata": {},
   "outputs": [
    {
     "data": {
      "text/plain": [
       "external_author_id         0\n",
       "author                     0\n",
       "content                    0\n",
       "region                   318\n",
       "language                   0\n",
       "publish_date               0\n",
       "harvested_date             0\n",
       "following                  0\n",
       "followers                  0\n",
       "updates                    0\n",
       "post_type             183766\n",
       "account_type               0\n",
       "new_june_2018              0\n",
       "retweet                    0\n",
       "account_category           0\n",
       "dtype: int64"
      ]
     },
     "execution_count": 9,
     "metadata": {},
     "output_type": "execute_result"
    }
   ],
   "source": [
    "df1.isnull().sum()"
   ]
  },
  {
   "cell_type": "code",
   "execution_count": 10,
   "metadata": {
    "scrolled": true
   },
   "outputs": [
    {
     "name": "stdout",
     "output_type": "stream",
     "text": [
      "<class 'pandas.core.frame.DataFrame'>\n",
      "RangeIndex: 381016 entries, 0 to 381015\n",
      "Data columns (total 15 columns):\n",
      " #   Column              Non-Null Count   Dtype  \n",
      "---  ------              --------------   -----  \n",
      " 0   external_author_id  381016 non-null  float64\n",
      " 1   author              381016 non-null  object \n",
      " 2   content             381016 non-null  object \n",
      " 3   region              380698 non-null  object \n",
      " 4   language            381016 non-null  object \n",
      " 5   publish_date        381016 non-null  object \n",
      " 6   harvested_date      381016 non-null  object \n",
      " 7   following           381016 non-null  int64  \n",
      " 8   followers           381016 non-null  int64  \n",
      " 9   updates             381016 non-null  int64  \n",
      " 10  post_type           197250 non-null  object \n",
      " 11  account_type        381016 non-null  object \n",
      " 12  new_june_2018       381016 non-null  int64  \n",
      " 13  retweet             381016 non-null  int64  \n",
      " 14  account_category    381016 non-null  object \n",
      "dtypes: float64(1), int64(5), object(9)\n",
      "memory usage: 43.6+ MB\n"
     ]
    }
   ],
   "source": [
    "df1.info()"
   ]
  },
  {
   "cell_type": "markdown",
   "metadata": {},
   "source": [
    "-----------"
   ]
  },
  {
   "cell_type": "markdown",
   "metadata": {},
   "source": [
    "## Document: 02"
   ]
  },
  {
   "cell_type": "code",
   "execution_count": 11,
   "metadata": {},
   "outputs": [
    {
     "data": {
      "text/html": [
       "<div>\n",
       "<style scoped>\n",
       "    .dataframe tbody tr th:only-of-type {\n",
       "        vertical-align: middle;\n",
       "    }\n",
       "\n",
       "    .dataframe tbody tr th {\n",
       "        vertical-align: top;\n",
       "    }\n",
       "\n",
       "    .dataframe thead th {\n",
       "        text-align: right;\n",
       "    }\n",
       "</style>\n",
       "<table border=\"1\" class=\"dataframe\">\n",
       "  <thead>\n",
       "    <tr style=\"text-align: right;\">\n",
       "      <th></th>\n",
       "      <th>external_author_id</th>\n",
       "      <th>author</th>\n",
       "      <th>content</th>\n",
       "      <th>region</th>\n",
       "      <th>language</th>\n",
       "      <th>publish_date</th>\n",
       "      <th>harvested_date</th>\n",
       "      <th>following</th>\n",
       "      <th>followers</th>\n",
       "      <th>updates</th>\n",
       "      <th>post_type</th>\n",
       "      <th>account_type</th>\n",
       "      <th>new_june_2018</th>\n",
       "      <th>retweet</th>\n",
       "      <th>account_category</th>\n",
       "    </tr>\n",
       "  </thead>\n",
       "  <tbody>\n",
       "    <tr>\n",
       "      <th>0</th>\n",
       "      <td>1.685173e+09</td>\n",
       "      <td>BLMSOLDIER</td>\n",
       "      <td>Koome: This court won’t sit next week but will...</td>\n",
       "      <td>United States</td>\n",
       "      <td>English</td>\n",
       "      <td>3/7/2017 10:27</td>\n",
       "      <td>3/7/2017 10:28</td>\n",
       "      <td>694</td>\n",
       "      <td>712</td>\n",
       "      <td>4846</td>\n",
       "      <td>RETWEET</td>\n",
       "      <td>left</td>\n",
       "      <td>0</td>\n",
       "      <td>1</td>\n",
       "      <td>LeftTroll</td>\n",
       "    </tr>\n",
       "    <tr>\n",
       "      <th>1</th>\n",
       "      <td>1.685173e+09</td>\n",
       "      <td>BLMSOLDIER</td>\n",
       "      <td>Get Youtube promotion go viral click here to s...</td>\n",
       "      <td>United States</td>\n",
       "      <td>English</td>\n",
       "      <td>3/7/2017 10:28</td>\n",
       "      <td>3/7/2017 10:28</td>\n",
       "      <td>694</td>\n",
       "      <td>712</td>\n",
       "      <td>4847</td>\n",
       "      <td>RETWEET</td>\n",
       "      <td>left</td>\n",
       "      <td>0</td>\n",
       "      <td>1</td>\n",
       "      <td>LeftTroll</td>\n",
       "    </tr>\n",
       "    <tr>\n",
       "      <th>2</th>\n",
       "      <td>1.685173e+09</td>\n",
       "      <td>BLMSOLDIER</td>\n",
       "      <td>\"Affordable Care Act\" replacement breaks Trump...</td>\n",
       "      <td>United States</td>\n",
       "      <td>English</td>\n",
       "      <td>3/7/2017 10:28</td>\n",
       "      <td>3/7/2017 10:28</td>\n",
       "      <td>694</td>\n",
       "      <td>712</td>\n",
       "      <td>4848</td>\n",
       "      <td>RETWEET</td>\n",
       "      <td>left</td>\n",
       "      <td>0</td>\n",
       "      <td>1</td>\n",
       "      <td>LeftTroll</td>\n",
       "    </tr>\n",
       "  </tbody>\n",
       "</table>\n",
       "</div>"
      ],
      "text/plain": [
       "   external_author_id      author  \\\n",
       "0        1.685173e+09  BLMSOLDIER   \n",
       "1        1.685173e+09  BLMSOLDIER   \n",
       "2        1.685173e+09  BLMSOLDIER   \n",
       "\n",
       "                                             content         region language  \\\n",
       "0  Koome: This court won’t sit next week but will...  United States  English   \n",
       "1  Get Youtube promotion go viral click here to s...  United States  English   \n",
       "2  \"Affordable Care Act\" replacement breaks Trump...  United States  English   \n",
       "\n",
       "     publish_date  harvested_date  following  followers  updates post_type  \\\n",
       "0  3/7/2017 10:27  3/7/2017 10:28        694        712     4846   RETWEET   \n",
       "1  3/7/2017 10:28  3/7/2017 10:28        694        712     4847   RETWEET   \n",
       "2  3/7/2017 10:28  3/7/2017 10:28        694        712     4848   RETWEET   \n",
       "\n",
       "  account_type  new_june_2018  retweet account_category  \n",
       "0         left              0        1        LeftTroll  \n",
       "1         left              0        1        LeftTroll  \n",
       "2         left              0        1        LeftTroll  "
      ]
     },
     "execution_count": 11,
     "metadata": {},
     "output_type": "execute_result"
    }
   ],
   "source": [
    "df2 = pd.read_csv(\"IRAhandle_tweets_2.csv\")\n",
    "df2.head(3)"
   ]
  },
  {
   "cell_type": "code",
   "execution_count": 12,
   "metadata": {},
   "outputs": [
    {
     "data": {
      "text/plain": [
       "(397232, 15)"
      ]
     },
     "execution_count": 12,
     "metadata": {},
     "output_type": "execute_result"
    }
   ],
   "source": [
    "df2.shape"
   ]
  },
  {
   "cell_type": "code",
   "execution_count": 13,
   "metadata": {},
   "outputs": [
    {
     "data": {
      "text/plain": [
       "Index(['external_author_id', 'author', 'content', 'region', 'language',\n",
       "       'publish_date', 'harvested_date', 'following', 'followers', 'updates',\n",
       "       'post_type', 'account_type', 'new_june_2018', 'retweet',\n",
       "       'account_category'],\n",
       "      dtype='object')"
      ]
     },
     "execution_count": 13,
     "metadata": {},
     "output_type": "execute_result"
    }
   ],
   "source": [
    "df2.columns"
   ]
  },
  {
   "cell_type": "code",
   "execution_count": 14,
   "metadata": {},
   "outputs": [
    {
     "data": {
      "text/plain": [
       "RightTroll      135893\n",
       "NewsFeed         92575\n",
       "LeftTroll        62560\n",
       "HashtagGamer     58978\n",
       "NonEnglish       46459\n",
       "Unknown            458\n",
       "Fearmonger         309\n",
       "Name: account_category, dtype: int64"
      ]
     },
     "execution_count": 14,
     "metadata": {},
     "output_type": "execute_result"
    }
   ],
   "source": [
    "df2[\"account_category\"].value_counts()"
   ]
  },
  {
   "cell_type": "code",
   "execution_count": 15,
   "metadata": {},
   "outputs": [
    {
     "data": {
      "text/plain": [
       "external_author_id         0\n",
       "author                     0\n",
       "content                    0\n",
       "region                   964\n",
       "language                   0\n",
       "publish_date               0\n",
       "harvested_date             0\n",
       "following                  0\n",
       "followers                  0\n",
       "updates                    0\n",
       "post_type             221232\n",
       "account_type               0\n",
       "new_june_2018              0\n",
       "retweet                    0\n",
       "account_category           0\n",
       "dtype: int64"
      ]
     },
     "execution_count": 15,
     "metadata": {},
     "output_type": "execute_result"
    }
   ],
   "source": [
    "df2.isnull().sum()"
   ]
  },
  {
   "cell_type": "code",
   "execution_count": 16,
   "metadata": {},
   "outputs": [
    {
     "name": "stdout",
     "output_type": "stream",
     "text": [
      "<class 'pandas.core.frame.DataFrame'>\n",
      "RangeIndex: 397232 entries, 0 to 397231\n",
      "Data columns (total 15 columns):\n",
      " #   Column              Non-Null Count   Dtype  \n",
      "---  ------              --------------   -----  \n",
      " 0   external_author_id  397232 non-null  float64\n",
      " 1   author              397232 non-null  object \n",
      " 2   content             397232 non-null  object \n",
      " 3   region              396268 non-null  object \n",
      " 4   language            397232 non-null  object \n",
      " 5   publish_date        397232 non-null  object \n",
      " 6   harvested_date      397232 non-null  object \n",
      " 7   following           397232 non-null  int64  \n",
      " 8   followers           397232 non-null  int64  \n",
      " 9   updates             397232 non-null  int64  \n",
      " 10  post_type           176000 non-null  object \n",
      " 11  account_type        397232 non-null  object \n",
      " 12  new_june_2018       397232 non-null  int64  \n",
      " 13  retweet             397232 non-null  int64  \n",
      " 14  account_category    397232 non-null  object \n",
      "dtypes: float64(1), int64(5), object(9)\n",
      "memory usage: 45.5+ MB\n"
     ]
    }
   ],
   "source": [
    "df2.info()"
   ]
  },
  {
   "cell_type": "markdown",
   "metadata": {},
   "source": [
    "---------"
   ]
  },
  {
   "cell_type": "markdown",
   "metadata": {},
   "source": [
    "## Document: 03"
   ]
  },
  {
   "cell_type": "code",
   "execution_count": 17,
   "metadata": {},
   "outputs": [
    {
     "data": {
      "text/html": [
       "<div>\n",
       "<style scoped>\n",
       "    .dataframe tbody tr th:only-of-type {\n",
       "        vertical-align: middle;\n",
       "    }\n",
       "\n",
       "    .dataframe tbody tr th {\n",
       "        vertical-align: top;\n",
       "    }\n",
       "\n",
       "    .dataframe thead th {\n",
       "        text-align: right;\n",
       "    }\n",
       "</style>\n",
       "<table border=\"1\" class=\"dataframe\">\n",
       "  <thead>\n",
       "    <tr style=\"text-align: right;\">\n",
       "      <th></th>\n",
       "      <th>external_author_id</th>\n",
       "      <th>author</th>\n",
       "      <th>content</th>\n",
       "      <th>region</th>\n",
       "      <th>language</th>\n",
       "      <th>publish_date</th>\n",
       "      <th>harvested_date</th>\n",
       "      <th>following</th>\n",
       "      <th>followers</th>\n",
       "      <th>updates</th>\n",
       "      <th>post_type</th>\n",
       "      <th>account_type</th>\n",
       "      <th>new_june_2018</th>\n",
       "      <th>retweet</th>\n",
       "      <th>account_category</th>\n",
       "    </tr>\n",
       "  </thead>\n",
       "  <tbody>\n",
       "    <tr>\n",
       "      <th>0</th>\n",
       "      <td>2.494112e+09</td>\n",
       "      <td>DAILYSANJOSE</td>\n",
       "      <td>#sports Ex-Stanford player Stanley Wilson II s...</td>\n",
       "      <td>United States</td>\n",
       "      <td>English</td>\n",
       "      <td>6/27/2016 14:39</td>\n",
       "      <td>6/27/2016 14:39</td>\n",
       "      <td>11955</td>\n",
       "      <td>13225</td>\n",
       "      <td>20394</td>\n",
       "      <td>NaN</td>\n",
       "      <td>local</td>\n",
       "      <td>1</td>\n",
       "      <td>0</td>\n",
       "      <td>NewsFeed</td>\n",
       "    </tr>\n",
       "    <tr>\n",
       "      <th>1</th>\n",
       "      <td>2.494112e+09</td>\n",
       "      <td>DAILYSANJOSE</td>\n",
       "      <td>The Mountain View gets ready to close its door...</td>\n",
       "      <td>United States</td>\n",
       "      <td>English</td>\n",
       "      <td>6/27/2016 14:56</td>\n",
       "      <td>6/27/2016 14:56</td>\n",
       "      <td>11955</td>\n",
       "      <td>13225</td>\n",
       "      <td>20395</td>\n",
       "      <td>NaN</td>\n",
       "      <td>local</td>\n",
       "      <td>1</td>\n",
       "      <td>0</td>\n",
       "      <td>NewsFeed</td>\n",
       "    </tr>\n",
       "    <tr>\n",
       "      <th>2</th>\n",
       "      <td>2.494112e+09</td>\n",
       "      <td>DAILYSANJOSE</td>\n",
       "      <td>#politics Supreme Court strikes down Texas abo...</td>\n",
       "      <td>United States</td>\n",
       "      <td>English</td>\n",
       "      <td>6/27/2016 14:59</td>\n",
       "      <td>6/27/2016 14:59</td>\n",
       "      <td>11955</td>\n",
       "      <td>13225</td>\n",
       "      <td>20396</td>\n",
       "      <td>NaN</td>\n",
       "      <td>local</td>\n",
       "      <td>1</td>\n",
       "      <td>0</td>\n",
       "      <td>NewsFeed</td>\n",
       "    </tr>\n",
       "  </tbody>\n",
       "</table>\n",
       "</div>"
      ],
      "text/plain": [
       "   external_author_id        author  \\\n",
       "0        2.494112e+09  DAILYSANJOSE   \n",
       "1        2.494112e+09  DAILYSANJOSE   \n",
       "2        2.494112e+09  DAILYSANJOSE   \n",
       "\n",
       "                                             content         region language  \\\n",
       "0  #sports Ex-Stanford player Stanley Wilson II s...  United States  English   \n",
       "1  The Mountain View gets ready to close its door...  United States  English   \n",
       "2  #politics Supreme Court strikes down Texas abo...  United States  English   \n",
       "\n",
       "      publish_date   harvested_date  following  followers  updates post_type  \\\n",
       "0  6/27/2016 14:39  6/27/2016 14:39      11955      13225    20394       NaN   \n",
       "1  6/27/2016 14:56  6/27/2016 14:56      11955      13225    20395       NaN   \n",
       "2  6/27/2016 14:59  6/27/2016 14:59      11955      13225    20396       NaN   \n",
       "\n",
       "  account_type  new_june_2018  retweet account_category  \n",
       "0        local              1        0         NewsFeed  \n",
       "1        local              1        0         NewsFeed  \n",
       "2        local              1        0         NewsFeed  "
      ]
     },
     "execution_count": 17,
     "metadata": {},
     "output_type": "execute_result"
    }
   ],
   "source": [
    "df3 = pd.read_csv(\"IRAhandle_tweets_3.csv\")\n",
    "df3.head(3)"
   ]
  },
  {
   "cell_type": "code",
   "execution_count": 18,
   "metadata": {},
   "outputs": [
    {
     "data": {
      "text/plain": [
       "(368885, 15)"
      ]
     },
     "execution_count": 18,
     "metadata": {},
     "output_type": "execute_result"
    }
   ],
   "source": [
    "df3.shape"
   ]
  },
  {
   "cell_type": "code",
   "execution_count": 19,
   "metadata": {
    "scrolled": true
   },
   "outputs": [
    {
     "data": {
      "text/plain": [
       "Index(['external_author_id', 'author', 'content', 'region', 'language',\n",
       "       'publish_date', 'harvested_date', 'following', 'followers', 'updates',\n",
       "       'post_type', 'account_type', 'new_june_2018', 'retweet',\n",
       "       'account_category'],\n",
       "      dtype='object')"
      ]
     },
     "execution_count": 19,
     "metadata": {},
     "output_type": "execute_result"
    }
   ],
   "source": [
    "df3.columns"
   ]
  },
  {
   "cell_type": "code",
   "execution_count": 20,
   "metadata": {},
   "outputs": [
    {
     "data": {
      "text/plain": [
       "Commercial      108882\n",
       "RightTroll       89415\n",
       "NonEnglish       71666\n",
       "HashtagGamer     37272\n",
       "NewsFeed         33189\n",
       "LeftTroll        25832\n",
       "Fearmonger        2274\n",
       "Unknown            355\n",
       "Name: account_category, dtype: int64"
      ]
     },
     "execution_count": 20,
     "metadata": {},
     "output_type": "execute_result"
    }
   ],
   "source": [
    "df3[\"account_category\"].value_counts()"
   ]
  },
  {
   "cell_type": "code",
   "execution_count": 21,
   "metadata": {},
   "outputs": [
    {
     "data": {
      "text/plain": [
       "external_author_id         4\n",
       "author                     0\n",
       "content                    0\n",
       "region                   509\n",
       "language                   0\n",
       "publish_date               0\n",
       "harvested_date             0\n",
       "following                  0\n",
       "followers                  0\n",
       "updates                    0\n",
       "post_type             233090\n",
       "account_type               0\n",
       "new_june_2018              0\n",
       "retweet                    0\n",
       "account_category           0\n",
       "dtype: int64"
      ]
     },
     "execution_count": 21,
     "metadata": {},
     "output_type": "execute_result"
    }
   ],
   "source": [
    "df3.isnull().sum()"
   ]
  },
  {
   "cell_type": "code",
   "execution_count": 22,
   "metadata": {},
   "outputs": [
    {
     "name": "stdout",
     "output_type": "stream",
     "text": [
      "<class 'pandas.core.frame.DataFrame'>\n",
      "RangeIndex: 368885 entries, 0 to 368884\n",
      "Data columns (total 15 columns):\n",
      " #   Column              Non-Null Count   Dtype  \n",
      "---  ------              --------------   -----  \n",
      " 0   external_author_id  368881 non-null  float64\n",
      " 1   author              368885 non-null  object \n",
      " 2   content             368885 non-null  object \n",
      " 3   region              368376 non-null  object \n",
      " 4   language            368885 non-null  object \n",
      " 5   publish_date        368885 non-null  object \n",
      " 6   harvested_date      368885 non-null  object \n",
      " 7   following           368885 non-null  int64  \n",
      " 8   followers           368885 non-null  int64  \n",
      " 9   updates             368885 non-null  int64  \n",
      " 10  post_type           135795 non-null  object \n",
      " 11  account_type        368885 non-null  object \n",
      " 12  new_june_2018       368885 non-null  int64  \n",
      " 13  retweet             368885 non-null  int64  \n",
      " 14  account_category    368885 non-null  object \n",
      "dtypes: float64(1), int64(5), object(9)\n",
      "memory usage: 42.2+ MB\n"
     ]
    }
   ],
   "source": [
    "df3.info()"
   ]
  },
  {
   "cell_type": "markdown",
   "metadata": {},
   "source": [
    "------------"
   ]
  },
  {
   "cell_type": "markdown",
   "metadata": {},
   "source": [
    "## Document: 04"
   ]
  },
  {
   "cell_type": "code",
   "execution_count": 23,
   "metadata": {},
   "outputs": [
    {
     "data": {
      "text/html": [
       "<div>\n",
       "<style scoped>\n",
       "    .dataframe tbody tr th:only-of-type {\n",
       "        vertical-align: middle;\n",
       "    }\n",
       "\n",
       "    .dataframe tbody tr th {\n",
       "        vertical-align: top;\n",
       "    }\n",
       "\n",
       "    .dataframe thead th {\n",
       "        text-align: right;\n",
       "    }\n",
       "</style>\n",
       "<table border=\"1\" class=\"dataframe\">\n",
       "  <thead>\n",
       "    <tr style=\"text-align: right;\">\n",
       "      <th></th>\n",
       "      <th>external_author_id</th>\n",
       "      <th>author</th>\n",
       "      <th>content</th>\n",
       "      <th>region</th>\n",
       "      <th>language</th>\n",
       "      <th>publish_date</th>\n",
       "      <th>harvested_date</th>\n",
       "      <th>following</th>\n",
       "      <th>followers</th>\n",
       "      <th>updates</th>\n",
       "      <th>post_type</th>\n",
       "      <th>account_type</th>\n",
       "      <th>new_june_2018</th>\n",
       "      <th>retweet</th>\n",
       "      <th>account_category</th>\n",
       "    </tr>\n",
       "  </thead>\n",
       "  <tbody>\n",
       "    <tr>\n",
       "      <th>0</th>\n",
       "      <td>1.674084e+09</td>\n",
       "      <td>GAB1ALDANA</td>\n",
       "      <td>People are too toxic. I think I have people po...</td>\n",
       "      <td>United States</td>\n",
       "      <td>English</td>\n",
       "      <td>7/30/2016 20:15</td>\n",
       "      <td>7/30/2016 20:15</td>\n",
       "      <td>3395</td>\n",
       "      <td>2014</td>\n",
       "      <td>2150</td>\n",
       "      <td>RETWEET</td>\n",
       "      <td>Hashtager</td>\n",
       "      <td>0</td>\n",
       "      <td>1</td>\n",
       "      <td>HashtagGamer</td>\n",
       "    </tr>\n",
       "    <tr>\n",
       "      <th>1</th>\n",
       "      <td>1.674084e+09</td>\n",
       "      <td>GAB1ALDANA</td>\n",
       "      <td>#NowPlaying Don't Shoot (I'm a Man) by @DEVO -...</td>\n",
       "      <td>United States</td>\n",
       "      <td>English</td>\n",
       "      <td>7/30/2016 20:15</td>\n",
       "      <td>7/30/2016 20:15</td>\n",
       "      <td>3395</td>\n",
       "      <td>2014</td>\n",
       "      <td>2146</td>\n",
       "      <td>RETWEET</td>\n",
       "      <td>Hashtager</td>\n",
       "      <td>0</td>\n",
       "      <td>1</td>\n",
       "      <td>HashtagGamer</td>\n",
       "    </tr>\n",
       "    <tr>\n",
       "      <th>2</th>\n",
       "      <td>1.674084e+09</td>\n",
       "      <td>GAB1ALDANA</td>\n",
       "      <td>the 'I'm the most boring person in the world' ...</td>\n",
       "      <td>United States</td>\n",
       "      <td>English</td>\n",
       "      <td>7/30/2016 20:16</td>\n",
       "      <td>7/30/2016 20:16</td>\n",
       "      <td>3395</td>\n",
       "      <td>2013</td>\n",
       "      <td>2159</td>\n",
       "      <td>RETWEET</td>\n",
       "      <td>Hashtager</td>\n",
       "      <td>0</td>\n",
       "      <td>1</td>\n",
       "      <td>HashtagGamer</td>\n",
       "    </tr>\n",
       "  </tbody>\n",
       "</table>\n",
       "</div>"
      ],
      "text/plain": [
       "   external_author_id      author  \\\n",
       "0        1.674084e+09  GAB1ALDANA   \n",
       "1        1.674084e+09  GAB1ALDANA   \n",
       "2        1.674084e+09  GAB1ALDANA   \n",
       "\n",
       "                                             content         region language  \\\n",
       "0  People are too toxic. I think I have people po...  United States  English   \n",
       "1  #NowPlaying Don't Shoot (I'm a Man) by @DEVO -...  United States  English   \n",
       "2  the 'I'm the most boring person in the world' ...  United States  English   \n",
       "\n",
       "      publish_date   harvested_date  following  followers  updates post_type  \\\n",
       "0  7/30/2016 20:15  7/30/2016 20:15       3395       2014     2150   RETWEET   \n",
       "1  7/30/2016 20:15  7/30/2016 20:15       3395       2014     2146   RETWEET   \n",
       "2  7/30/2016 20:16  7/30/2016 20:16       3395       2013     2159   RETWEET   \n",
       "\n",
       "  account_type  new_june_2018  retweet account_category  \n",
       "0    Hashtager              0        1     HashtagGamer  \n",
       "1    Hashtager              0        1     HashtagGamer  \n",
       "2    Hashtager              0        1     HashtagGamer  "
      ]
     },
     "execution_count": 23,
     "metadata": {},
     "output_type": "execute_result"
    }
   ],
   "source": [
    "df4 = pd.read_csv(\"IRAhandle_tweets_4.csv\")\n",
    "df4.head(3)"
   ]
  },
  {
   "cell_type": "code",
   "execution_count": 24,
   "metadata": {},
   "outputs": [
    {
     "data": {
      "text/plain": [
       "(388452, 15)"
      ]
     },
     "execution_count": 24,
     "metadata": {},
     "output_type": "execute_result"
    }
   ],
   "source": [
    "df4.shape"
   ]
  },
  {
   "cell_type": "code",
   "execution_count": 25,
   "metadata": {},
   "outputs": [
    {
     "data": {
      "text/plain": [
       "Index(['external_author_id', 'author', 'content', 'region', 'language',\n",
       "       'publish_date', 'harvested_date', 'following', 'followers', 'updates',\n",
       "       'post_type', 'account_type', 'new_june_2018', 'retweet',\n",
       "       'account_category'],\n",
       "      dtype='object')"
      ]
     },
     "execution_count": 25,
     "metadata": {},
     "output_type": "execute_result"
    }
   ],
   "source": [
    "df4.columns"
   ]
  },
  {
   "cell_type": "code",
   "execution_count": 26,
   "metadata": {},
   "outputs": [
    {
     "data": {
      "text/plain": [
       "RightTroll      126461\n",
       "LeftTroll       100252\n",
       "NonEnglish       79936\n",
       "NewsFeed         39754\n",
       "HashtagGamer     30508\n",
       "Unknown           7310\n",
       "Fearmonger        3026\n",
       "Commercial        1205\n",
       "Name: account_category, dtype: int64"
      ]
     },
     "execution_count": 26,
     "metadata": {},
     "output_type": "execute_result"
    }
   ],
   "source": [
    "df4[\"account_category\"].value_counts()"
   ]
  },
  {
   "cell_type": "code",
   "execution_count": 27,
   "metadata": {},
   "outputs": [
    {
     "data": {
      "text/plain": [
       "external_author_id         0\n",
       "author                     0\n",
       "content                    1\n",
       "region                   837\n",
       "language                   0\n",
       "publish_date               0\n",
       "harvested_date             0\n",
       "following                  0\n",
       "followers                  0\n",
       "updates                    0\n",
       "post_type             154340\n",
       "account_type             302\n",
       "new_june_2018              0\n",
       "retweet                    0\n",
       "account_category           0\n",
       "dtype: int64"
      ]
     },
     "execution_count": 27,
     "metadata": {},
     "output_type": "execute_result"
    }
   ],
   "source": [
    "df4.isnull().sum()"
   ]
  },
  {
   "cell_type": "code",
   "execution_count": 28,
   "metadata": {},
   "outputs": [
    {
     "name": "stdout",
     "output_type": "stream",
     "text": [
      "<class 'pandas.core.frame.DataFrame'>\n",
      "RangeIndex: 388452 entries, 0 to 388451\n",
      "Data columns (total 15 columns):\n",
      " #   Column              Non-Null Count   Dtype  \n",
      "---  ------              --------------   -----  \n",
      " 0   external_author_id  388452 non-null  float64\n",
      " 1   author              388452 non-null  object \n",
      " 2   content             388451 non-null  object \n",
      " 3   region              387615 non-null  object \n",
      " 4   language            388452 non-null  object \n",
      " 5   publish_date        388452 non-null  object \n",
      " 6   harvested_date      388452 non-null  object \n",
      " 7   following           388452 non-null  int64  \n",
      " 8   followers           388452 non-null  int64  \n",
      " 9   updates             388452 non-null  int64  \n",
      " 10  post_type           234112 non-null  object \n",
      " 11  account_type        388150 non-null  object \n",
      " 12  new_june_2018       388452 non-null  int64  \n",
      " 13  retweet             388452 non-null  int64  \n",
      " 14  account_category    388452 non-null  object \n",
      "dtypes: float64(1), int64(5), object(9)\n",
      "memory usage: 44.5+ MB\n"
     ]
    }
   ],
   "source": [
    "df4.info()"
   ]
  },
  {
   "cell_type": "markdown",
   "metadata": {},
   "source": [
    "--------------"
   ]
  },
  {
   "cell_type": "markdown",
   "metadata": {},
   "source": [
    "## Document: 05"
   ]
  },
  {
   "cell_type": "code",
   "execution_count": 29,
   "metadata": {},
   "outputs": [
    {
     "data": {
      "text/html": [
       "<div>\n",
       "<style scoped>\n",
       "    .dataframe tbody tr th:only-of-type {\n",
       "        vertical-align: middle;\n",
       "    }\n",
       "\n",
       "    .dataframe tbody tr th {\n",
       "        vertical-align: top;\n",
       "    }\n",
       "\n",
       "    .dataframe thead th {\n",
       "        text-align: right;\n",
       "    }\n",
       "</style>\n",
       "<table border=\"1\" class=\"dataframe\">\n",
       "  <thead>\n",
       "    <tr style=\"text-align: right;\">\n",
       "      <th></th>\n",
       "      <th>external_author_id</th>\n",
       "      <th>author</th>\n",
       "      <th>content</th>\n",
       "      <th>region</th>\n",
       "      <th>language</th>\n",
       "      <th>publish_date</th>\n",
       "      <th>harvested_date</th>\n",
       "      <th>following</th>\n",
       "      <th>followers</th>\n",
       "      <th>updates</th>\n",
       "      <th>post_type</th>\n",
       "      <th>account_type</th>\n",
       "      <th>new_june_2018</th>\n",
       "      <th>retweet</th>\n",
       "      <th>account_category</th>\n",
       "    </tr>\n",
       "  </thead>\n",
       "  <tbody>\n",
       "    <tr>\n",
       "      <th>0</th>\n",
       "      <td>4.484290e+09</td>\n",
       "      <td>KATHERINESKS</td>\n",
       "      <td>#Trump ist ein Rassist. #WirliebenTrump�</td>\n",
       "      <td>Germany</td>\n",
       "      <td>German</td>\n",
       "      <td>6/16/2016 10:41</td>\n",
       "      <td>6/16/2016 10:41</td>\n",
       "      <td>207</td>\n",
       "      <td>18</td>\n",
       "      <td>48</td>\n",
       "      <td>RETWEET</td>\n",
       "      <td>German</td>\n",
       "      <td>0</td>\n",
       "      <td>1</td>\n",
       "      <td>NonEnglish</td>\n",
       "    </tr>\n",
       "    <tr>\n",
       "      <th>1</th>\n",
       "      <td>4.484290e+09</td>\n",
       "      <td>KATHERINESKS</td>\n",
       "      <td>#WirLiebenTrump Trump versucht nicht zu gewinn...</td>\n",
       "      <td>Germany</td>\n",
       "      <td>German</td>\n",
       "      <td>6/16/2016 10:41</td>\n",
       "      <td>6/16/2016 10:42</td>\n",
       "      <td>207</td>\n",
       "      <td>18</td>\n",
       "      <td>59</td>\n",
       "      <td>RETWEET</td>\n",
       "      <td>German</td>\n",
       "      <td>0</td>\n",
       "      <td>1</td>\n",
       "      <td>NonEnglish</td>\n",
       "    </tr>\n",
       "    <tr>\n",
       "      <th>2</th>\n",
       "      <td>4.484290e+09</td>\n",
       "      <td>KATHERINESKS</td>\n",
       "      <td>#WirLiebenTrump Migration kann nicht sein Prob...</td>\n",
       "      <td>Germany</td>\n",
       "      <td>German</td>\n",
       "      <td>6/16/2016 10:41</td>\n",
       "      <td>6/16/2016 10:41</td>\n",
       "      <td>207</td>\n",
       "      <td>18</td>\n",
       "      <td>58</td>\n",
       "      <td>RETWEET</td>\n",
       "      <td>German</td>\n",
       "      <td>0</td>\n",
       "      <td>1</td>\n",
       "      <td>NonEnglish</td>\n",
       "    </tr>\n",
       "  </tbody>\n",
       "</table>\n",
       "</div>"
      ],
      "text/plain": [
       "   external_author_id        author  \\\n",
       "0        4.484290e+09  KATHERINESKS   \n",
       "1        4.484290e+09  KATHERINESKS   \n",
       "2        4.484290e+09  KATHERINESKS   \n",
       "\n",
       "                                             content   region language  \\\n",
       "0           #Trump ist ein Rassist. #WirliebenTrump�  Germany   German   \n",
       "1  #WirLiebenTrump Trump versucht nicht zu gewinn...  Germany   German   \n",
       "2  #WirLiebenTrump Migration kann nicht sein Prob...  Germany   German   \n",
       "\n",
       "      publish_date   harvested_date  following  followers  updates post_type  \\\n",
       "0  6/16/2016 10:41  6/16/2016 10:41        207         18       48   RETWEET   \n",
       "1  6/16/2016 10:41  6/16/2016 10:42        207         18       59   RETWEET   \n",
       "2  6/16/2016 10:41  6/16/2016 10:41        207         18       58   RETWEET   \n",
       "\n",
       "  account_type  new_june_2018  retweet account_category  \n",
       "0       German              0        1       NonEnglish  \n",
       "1       German              0        1       NonEnglish  \n",
       "2       German              0        1       NonEnglish  "
      ]
     },
     "execution_count": 29,
     "metadata": {},
     "output_type": "execute_result"
    }
   ],
   "source": [
    "df5 = pd.read_csv(\"IRAhandle_tweets_5.csv\")\n",
    "df5.head(3)"
   ]
  },
  {
   "cell_type": "code",
   "execution_count": 30,
   "metadata": {
    "scrolled": true
   },
   "outputs": [
    {
     "data": {
      "text/plain": [
       "(331821, 15)"
      ]
     },
     "execution_count": 30,
     "metadata": {},
     "output_type": "execute_result"
    }
   ],
   "source": [
    "df5.shape"
   ]
  },
  {
   "cell_type": "code",
   "execution_count": 31,
   "metadata": {
    "scrolled": true
   },
   "outputs": [
    {
     "data": {
      "text/plain": [
       "Index(['external_author_id', 'author', 'content', 'region', 'language',\n",
       "       'publish_date', 'harvested_date', 'following', 'followers', 'updates',\n",
       "       'post_type', 'account_type', 'new_june_2018', 'retweet',\n",
       "       'account_category'],\n",
       "      dtype='object')"
      ]
     },
     "execution_count": 31,
     "metadata": {},
     "output_type": "execute_result"
    }
   ],
   "source": [
    "df5.columns"
   ]
  },
  {
   "cell_type": "code",
   "execution_count": 32,
   "metadata": {},
   "outputs": [
    {
     "data": {
      "text/plain": [
       "NonEnglish      168587\n",
       "RightTroll       75550\n",
       "LeftTroll        40511\n",
       "HashtagGamer     32248\n",
       "NewsFeed         11957\n",
       "Unknown           1748\n",
       "Fearmonger        1220\n",
       "Name: account_category, dtype: int64"
      ]
     },
     "execution_count": 32,
     "metadata": {},
     "output_type": "execute_result"
    }
   ],
   "source": [
    "df5[\"account_category\"].value_counts()"
   ]
  },
  {
   "cell_type": "code",
   "execution_count": 33,
   "metadata": {},
   "outputs": [
    {
     "data": {
      "text/plain": [
       "external_author_id         0\n",
       "author                     0\n",
       "content                    0\n",
       "region                  1577\n",
       "language                   0\n",
       "publish_date               0\n",
       "harvested_date             0\n",
       "following                  0\n",
       "followers                  0\n",
       "updates                    0\n",
       "post_type             137157\n",
       "account_type               0\n",
       "new_june_2018              0\n",
       "retweet                    0\n",
       "account_category           0\n",
       "dtype: int64"
      ]
     },
     "execution_count": 33,
     "metadata": {},
     "output_type": "execute_result"
    }
   ],
   "source": [
    "df5.isnull().sum()"
   ]
  },
  {
   "cell_type": "code",
   "execution_count": 34,
   "metadata": {},
   "outputs": [
    {
     "name": "stdout",
     "output_type": "stream",
     "text": [
      "<class 'pandas.core.frame.DataFrame'>\n",
      "RangeIndex: 331821 entries, 0 to 331820\n",
      "Data columns (total 15 columns):\n",
      " #   Column              Non-Null Count   Dtype  \n",
      "---  ------              --------------   -----  \n",
      " 0   external_author_id  331821 non-null  float64\n",
      " 1   author              331821 non-null  object \n",
      " 2   content             331821 non-null  object \n",
      " 3   region              330244 non-null  object \n",
      " 4   language            331821 non-null  object \n",
      " 5   publish_date        331821 non-null  object \n",
      " 6   harvested_date      331821 non-null  object \n",
      " 7   following           331821 non-null  int64  \n",
      " 8   followers           331821 non-null  int64  \n",
      " 9   updates             331821 non-null  int64  \n",
      " 10  post_type           194664 non-null  object \n",
      " 11  account_type        331821 non-null  object \n",
      " 12  new_june_2018       331821 non-null  int64  \n",
      " 13  retweet             331821 non-null  int64  \n",
      " 14  account_category    331821 non-null  object \n",
      "dtypes: float64(1), int64(5), object(9)\n",
      "memory usage: 38.0+ MB\n"
     ]
    }
   ],
   "source": [
    "df5.info()"
   ]
  },
  {
   "cell_type": "markdown",
   "metadata": {},
   "source": [
    "----------"
   ]
  },
  {
   "cell_type": "markdown",
   "metadata": {},
   "source": [
    "## Document: 06"
   ]
  },
  {
   "cell_type": "code",
   "execution_count": 35,
   "metadata": {},
   "outputs": [
    {
     "data": {
      "text/html": [
       "<div>\n",
       "<style scoped>\n",
       "    .dataframe tbody tr th:only-of-type {\n",
       "        vertical-align: middle;\n",
       "    }\n",
       "\n",
       "    .dataframe tbody tr th {\n",
       "        vertical-align: top;\n",
       "    }\n",
       "\n",
       "    .dataframe thead th {\n",
       "        text-align: right;\n",
       "    }\n",
       "</style>\n",
       "<table border=\"1\" class=\"dataframe\">\n",
       "  <thead>\n",
       "    <tr style=\"text-align: right;\">\n",
       "      <th></th>\n",
       "      <th>external_author_id</th>\n",
       "      <th>author</th>\n",
       "      <th>content</th>\n",
       "      <th>region</th>\n",
       "      <th>language</th>\n",
       "      <th>publish_date</th>\n",
       "      <th>harvested_date</th>\n",
       "      <th>following</th>\n",
       "      <th>followers</th>\n",
       "      <th>updates</th>\n",
       "      <th>post_type</th>\n",
       "      <th>account_type</th>\n",
       "      <th>new_june_2018</th>\n",
       "      <th>retweet</th>\n",
       "      <th>account_category</th>\n",
       "    </tr>\n",
       "  </thead>\n",
       "  <tbody>\n",
       "    <tr>\n",
       "      <th>0</th>\n",
       "      <td>1.930748e+09</td>\n",
       "      <td>NEVNOV_RU</td>\n",
       "      <td>«ДТП с самим собой» может устроить себе каждый...</td>\n",
       "      <td>United Arab Emirates</td>\n",
       "      <td>Russian</td>\n",
       "      <td>6/30/2015 6:32</td>\n",
       "      <td>6/30/2015 6:32</td>\n",
       "      <td>115</td>\n",
       "      <td>13435</td>\n",
       "      <td>16364</td>\n",
       "      <td>NaN</td>\n",
       "      <td>Russian</td>\n",
       "      <td>0</td>\n",
       "      <td>0</td>\n",
       "      <td>NonEnglish</td>\n",
       "    </tr>\n",
       "    <tr>\n",
       "      <th>1</th>\n",
       "      <td>1.930748e+09</td>\n",
       "      <td>NEVNOV_RU</td>\n",
       "      <td>Кержаков: Я извинился перед Виллаш-Боашем и ск...</td>\n",
       "      <td>United Arab Emirates</td>\n",
       "      <td>Russian</td>\n",
       "      <td>6/30/2015 9:32</td>\n",
       "      <td>6/30/2015 9:32</td>\n",
       "      <td>115</td>\n",
       "      <td>13435</td>\n",
       "      <td>16370</td>\n",
       "      <td>NaN</td>\n",
       "      <td>Russian</td>\n",
       "      <td>0</td>\n",
       "      <td>0</td>\n",
       "      <td>NonEnglish</td>\n",
       "    </tr>\n",
       "    <tr>\n",
       "      <th>2</th>\n",
       "      <td>1.930748e+09</td>\n",
       "      <td>NEVNOV_RU</td>\n",
       "      <td>Бесплатная прачечная с душем появится в Петерб...</td>\n",
       "      <td>United States</td>\n",
       "      <td>Russian</td>\n",
       "      <td>6/30/2016 11:24</td>\n",
       "      <td>6/30/2016 11:27</td>\n",
       "      <td>17237</td>\n",
       "      <td>24956</td>\n",
       "      <td>28528</td>\n",
       "      <td>NaN</td>\n",
       "      <td>Russian</td>\n",
       "      <td>0</td>\n",
       "      <td>0</td>\n",
       "      <td>NonEnglish</td>\n",
       "    </tr>\n",
       "  </tbody>\n",
       "</table>\n",
       "</div>"
      ],
      "text/plain": [
       "   external_author_id     author  \\\n",
       "0        1.930748e+09  NEVNOV_RU   \n",
       "1        1.930748e+09  NEVNOV_RU   \n",
       "2        1.930748e+09  NEVNOV_RU   \n",
       "\n",
       "                                             content                region  \\\n",
       "0  «ДТП с самим собой» может устроить себе каждый...  United Arab Emirates   \n",
       "1  Кержаков: Я извинился перед Виллаш-Боашем и ск...  United Arab Emirates   \n",
       "2  Бесплатная прачечная с душем появится в Петерб...         United States   \n",
       "\n",
       "  language     publish_date   harvested_date  following  followers  updates  \\\n",
       "0  Russian   6/30/2015 6:32   6/30/2015 6:32        115      13435    16364   \n",
       "1  Russian   6/30/2015 9:32   6/30/2015 9:32        115      13435    16370   \n",
       "2  Russian  6/30/2016 11:24  6/30/2016 11:27      17237      24956    28528   \n",
       "\n",
       "  post_type account_type  new_june_2018  retweet account_category  \n",
       "0       NaN      Russian              0        0       NonEnglish  \n",
       "1       NaN      Russian              0        0       NonEnglish  \n",
       "2       NaN      Russian              0        0       NonEnglish  "
      ]
     },
     "execution_count": 35,
     "metadata": {},
     "output_type": "execute_result"
    }
   ],
   "source": [
    "df6 = pd.read_csv(\"IRAhandle_tweets_6.csv\")\n",
    "df6.head(3)"
   ]
  },
  {
   "cell_type": "code",
   "execution_count": 36,
   "metadata": {},
   "outputs": [
    {
     "data": {
      "text/plain": [
       "(324512, 15)"
      ]
     },
     "execution_count": 36,
     "metadata": {},
     "output_type": "execute_result"
    }
   ],
   "source": [
    "df6.shape"
   ]
  },
  {
   "cell_type": "code",
   "execution_count": 37,
   "metadata": {},
   "outputs": [
    {
     "data": {
      "text/plain": [
       "Index(['external_author_id', 'author', 'content', 'region', 'language',\n",
       "       'publish_date', 'harvested_date', 'following', 'followers', 'updates',\n",
       "       'post_type', 'account_type', 'new_june_2018', 'retweet',\n",
       "       'account_category'],\n",
       "      dtype='object')"
      ]
     },
     "execution_count": 37,
     "metadata": {},
     "output_type": "execute_result"
    }
   ],
   "source": [
    "df6.columns"
   ]
  },
  {
   "cell_type": "code",
   "execution_count": 38,
   "metadata": {},
   "outputs": [
    {
     "data": {
      "text/plain": [
       "NonEnglish      152850\n",
       "NewsFeed         98951\n",
       "RightTroll       37843\n",
       "LeftTroll        29476\n",
       "HashtagGamer      4502\n",
       "Unknown            612\n",
       "Fearmonger         278\n",
       "Name: account_category, dtype: int64"
      ]
     },
     "execution_count": 38,
     "metadata": {},
     "output_type": "execute_result"
    }
   ],
   "source": [
    "df6[\"account_category\"].value_counts()"
   ]
  },
  {
   "cell_type": "code",
   "execution_count": 39,
   "metadata": {},
   "outputs": [
    {
     "data": {
      "text/plain": [
       "external_author_id         0\n",
       "author                     0\n",
       "content                    0\n",
       "region                  2791\n",
       "language                   0\n",
       "publish_date               0\n",
       "harvested_date             0\n",
       "following                  0\n",
       "followers                  0\n",
       "updates                    0\n",
       "post_type             244188\n",
       "account_type               0\n",
       "new_june_2018              0\n",
       "retweet                    0\n",
       "account_category           0\n",
       "dtype: int64"
      ]
     },
     "execution_count": 39,
     "metadata": {},
     "output_type": "execute_result"
    }
   ],
   "source": [
    "df6.isnull().sum()"
   ]
  },
  {
   "cell_type": "code",
   "execution_count": 40,
   "metadata": {},
   "outputs": [
    {
     "name": "stdout",
     "output_type": "stream",
     "text": [
      "<class 'pandas.core.frame.DataFrame'>\n",
      "RangeIndex: 324512 entries, 0 to 324511\n",
      "Data columns (total 15 columns):\n",
      " #   Column              Non-Null Count   Dtype  \n",
      "---  ------              --------------   -----  \n",
      " 0   external_author_id  324512 non-null  float64\n",
      " 1   author              324512 non-null  object \n",
      " 2   content             324512 non-null  object \n",
      " 3   region              321721 non-null  object \n",
      " 4   language            324512 non-null  object \n",
      " 5   publish_date        324512 non-null  object \n",
      " 6   harvested_date      324512 non-null  object \n",
      " 7   following           324512 non-null  int64  \n",
      " 8   followers           324512 non-null  int64  \n",
      " 9   updates             324512 non-null  int64  \n",
      " 10  post_type           80324 non-null   object \n",
      " 11  account_type        324512 non-null  object \n",
      " 12  new_june_2018       324512 non-null  int64  \n",
      " 13  retweet             324512 non-null  int64  \n",
      " 14  account_category    324512 non-null  object \n",
      "dtypes: float64(1), int64(5), object(9)\n",
      "memory usage: 37.1+ MB\n"
     ]
    }
   ],
   "source": [
    "df6.info()"
   ]
  },
  {
   "cell_type": "markdown",
   "metadata": {},
   "source": [
    "--------"
   ]
  },
  {
   "cell_type": "markdown",
   "metadata": {},
   "source": [
    "## Document: 07"
   ]
  },
  {
   "cell_type": "code",
   "execution_count": 41,
   "metadata": {},
   "outputs": [
    {
     "data": {
      "text/html": [
       "<div>\n",
       "<style scoped>\n",
       "    .dataframe tbody tr th:only-of-type {\n",
       "        vertical-align: middle;\n",
       "    }\n",
       "\n",
       "    .dataframe tbody tr th {\n",
       "        vertical-align: top;\n",
       "    }\n",
       "\n",
       "    .dataframe thead th {\n",
       "        text-align: right;\n",
       "    }\n",
       "</style>\n",
       "<table border=\"1\" class=\"dataframe\">\n",
       "  <thead>\n",
       "    <tr style=\"text-align: right;\">\n",
       "      <th></th>\n",
       "      <th>external_author_id</th>\n",
       "      <th>author</th>\n",
       "      <th>content</th>\n",
       "      <th>region</th>\n",
       "      <th>language</th>\n",
       "      <th>publish_date</th>\n",
       "      <th>harvested_date</th>\n",
       "      <th>following</th>\n",
       "      <th>followers</th>\n",
       "      <th>updates</th>\n",
       "      <th>post_type</th>\n",
       "      <th>account_type</th>\n",
       "      <th>new_june_2018</th>\n",
       "      <th>retweet</th>\n",
       "      <th>account_category</th>\n",
       "    </tr>\n",
       "  </thead>\n",
       "  <tbody>\n",
       "    <tr>\n",
       "      <th>0</th>\n",
       "      <td>2.260338e+09</td>\n",
       "      <td>POLITICS_T0DAY</td>\n",
       "      <td>https://t.co/MCN0zjJ9Bw https://t.co/0Ym2ssnxzy</td>\n",
       "      <td>United States</td>\n",
       "      <td>Russian</td>\n",
       "      <td>4/14/2017 23:02</td>\n",
       "      <td>4/14/2017 23:02</td>\n",
       "      <td>161</td>\n",
       "      <td>1079</td>\n",
       "      <td>24010</td>\n",
       "      <td>NaN</td>\n",
       "      <td>Russian</td>\n",
       "      <td>0</td>\n",
       "      <td>0</td>\n",
       "      <td>NonEnglish</td>\n",
       "    </tr>\n",
       "    <tr>\n",
       "      <th>1</th>\n",
       "      <td>2.260338e+09</td>\n",
       "      <td>POLITICS_T0DAY</td>\n",
       "      <td>https://t.co/TFIDNR5Dfi https://t.co/wHD4hvmYIg</td>\n",
       "      <td>United States</td>\n",
       "      <td>Russian</td>\n",
       "      <td>4/14/2017 2:02</td>\n",
       "      <td>4/14/2017 2:02</td>\n",
       "      <td>161</td>\n",
       "      <td>1079</td>\n",
       "      <td>23986</td>\n",
       "      <td>NaN</td>\n",
       "      <td>Russian</td>\n",
       "      <td>0</td>\n",
       "      <td>0</td>\n",
       "      <td>NonEnglish</td>\n",
       "    </tr>\n",
       "    <tr>\n",
       "      <th>2</th>\n",
       "      <td>2.260338e+09</td>\n",
       "      <td>POLITICS_T0DAY</td>\n",
       "      <td>Доброе утро, Россия! https://t.co/pNKO5brIsL h...</td>\n",
       "      <td>United States</td>\n",
       "      <td>Russian</td>\n",
       "      <td>4/14/2017 3:02</td>\n",
       "      <td>4/14/2017 3:02</td>\n",
       "      <td>160</td>\n",
       "      <td>1079</td>\n",
       "      <td>23987</td>\n",
       "      <td>NaN</td>\n",
       "      <td>Russian</td>\n",
       "      <td>0</td>\n",
       "      <td>0</td>\n",
       "      <td>NonEnglish</td>\n",
       "    </tr>\n",
       "  </tbody>\n",
       "</table>\n",
       "</div>"
      ],
      "text/plain": [
       "   external_author_id          author  \\\n",
       "0        2.260338e+09  POLITICS_T0DAY   \n",
       "1        2.260338e+09  POLITICS_T0DAY   \n",
       "2        2.260338e+09  POLITICS_T0DAY   \n",
       "\n",
       "                                             content         region language  \\\n",
       "0    https://t.co/MCN0zjJ9Bw https://t.co/0Ym2ssnxzy  United States  Russian   \n",
       "1    https://t.co/TFIDNR5Dfi https://t.co/wHD4hvmYIg  United States  Russian   \n",
       "2  Доброе утро, Россия! https://t.co/pNKO5brIsL h...  United States  Russian   \n",
       "\n",
       "      publish_date   harvested_date  following  followers  updates post_type  \\\n",
       "0  4/14/2017 23:02  4/14/2017 23:02        161       1079    24010       NaN   \n",
       "1   4/14/2017 2:02   4/14/2017 2:02        161       1079    23986       NaN   \n",
       "2   4/14/2017 3:02   4/14/2017 3:02        160       1079    23987       NaN   \n",
       "\n",
       "  account_type  new_june_2018  retweet account_category  \n",
       "0      Russian              0        0       NonEnglish  \n",
       "1      Russian              0        0       NonEnglish  \n",
       "2      Russian              0        0       NonEnglish  "
      ]
     },
     "execution_count": 41,
     "metadata": {},
     "output_type": "execute_result"
    }
   ],
   "source": [
    "df7 = pd.read_csv(\"IRAhandle_tweets_7.csv\")\n",
    "df7.head(3)"
   ]
  },
  {
   "cell_type": "code",
   "execution_count": 42,
   "metadata": {},
   "outputs": [
    {
     "data": {
      "text/plain": [
       "(365603, 15)"
      ]
     },
     "execution_count": 42,
     "metadata": {},
     "output_type": "execute_result"
    }
   ],
   "source": [
    "df7.shape"
   ]
  },
  {
   "cell_type": "code",
   "execution_count": 43,
   "metadata": {},
   "outputs": [
    {
     "data": {
      "text/plain": [
       "Index(['external_author_id', 'author', 'content', 'region', 'language',\n",
       "       'publish_date', 'harvested_date', 'following', 'followers', 'updates',\n",
       "       'post_type', 'account_type', 'new_june_2018', 'retweet',\n",
       "       'account_category'],\n",
       "      dtype='object')"
      ]
     },
     "execution_count": 43,
     "metadata": {},
     "output_type": "execute_result"
    }
   ],
   "source": [
    "df7.columns"
   ]
  },
  {
   "cell_type": "code",
   "execution_count": 44,
   "metadata": {},
   "outputs": [
    {
     "data": {
      "text/plain": [
       "NewsFeed        151771\n",
       "NonEnglish      119849\n",
       "LeftTroll        42069\n",
       "RightTroll       39732\n",
       "HashtagGamer      8785\n",
       "Fearmonger        1847\n",
       "Unknown           1550\n",
       "Name: account_category, dtype: int64"
      ]
     },
     "execution_count": 44,
     "metadata": {},
     "output_type": "execute_result"
    }
   ],
   "source": [
    "df7[\"account_category\"].value_counts()"
   ]
  },
  {
   "cell_type": "code",
   "execution_count": 45,
   "metadata": {},
   "outputs": [
    {
     "data": {
      "text/plain": [
       "external_author_id         0\n",
       "author                     0\n",
       "content                    0\n",
       "region                  1057\n",
       "language                   0\n",
       "publish_date               0\n",
       "harvested_date             0\n",
       "following                  0\n",
       "followers                  0\n",
       "updates                    0\n",
       "post_type             237065\n",
       "account_type               0\n",
       "new_june_2018              0\n",
       "retweet                    0\n",
       "account_category           0\n",
       "dtype: int64"
      ]
     },
     "execution_count": 45,
     "metadata": {},
     "output_type": "execute_result"
    }
   ],
   "source": [
    "df7.isnull().sum()"
   ]
  },
  {
   "cell_type": "code",
   "execution_count": 46,
   "metadata": {},
   "outputs": [
    {
     "name": "stdout",
     "output_type": "stream",
     "text": [
      "<class 'pandas.core.frame.DataFrame'>\n",
      "RangeIndex: 365603 entries, 0 to 365602\n",
      "Data columns (total 15 columns):\n",
      " #   Column              Non-Null Count   Dtype  \n",
      "---  ------              --------------   -----  \n",
      " 0   external_author_id  365603 non-null  float64\n",
      " 1   author              365603 non-null  object \n",
      " 2   content             365603 non-null  object \n",
      " 3   region              364546 non-null  object \n",
      " 4   language            365603 non-null  object \n",
      " 5   publish_date        365603 non-null  object \n",
      " 6   harvested_date      365603 non-null  object \n",
      " 7   following           365603 non-null  int64  \n",
      " 8   followers           365603 non-null  int64  \n",
      " 9   updates             365603 non-null  int64  \n",
      " 10  post_type           128538 non-null  object \n",
      " 11  account_type        365603 non-null  object \n",
      " 12  new_june_2018       365603 non-null  int64  \n",
      " 13  retweet             365603 non-null  int64  \n",
      " 14  account_category    365603 non-null  object \n",
      "dtypes: float64(1), int64(5), object(9)\n",
      "memory usage: 41.8+ MB\n"
     ]
    }
   ],
   "source": [
    "df7.info()"
   ]
  },
  {
   "cell_type": "markdown",
   "metadata": {},
   "source": [
    "----------"
   ]
  },
  {
   "cell_type": "markdown",
   "metadata": {},
   "source": [
    "## Document: 08"
   ]
  },
  {
   "cell_type": "code",
   "execution_count": 47,
   "metadata": {},
   "outputs": [
    {
     "data": {
      "text/html": [
       "<div>\n",
       "<style scoped>\n",
       "    .dataframe tbody tr th:only-of-type {\n",
       "        vertical-align: middle;\n",
       "    }\n",
       "\n",
       "    .dataframe tbody tr th {\n",
       "        vertical-align: top;\n",
       "    }\n",
       "\n",
       "    .dataframe thead th {\n",
       "        text-align: right;\n",
       "    }\n",
       "</style>\n",
       "<table border=\"1\" class=\"dataframe\">\n",
       "  <thead>\n",
       "    <tr style=\"text-align: right;\">\n",
       "      <th></th>\n",
       "      <th>external_author_id</th>\n",
       "      <th>author</th>\n",
       "      <th>content</th>\n",
       "      <th>region</th>\n",
       "      <th>language</th>\n",
       "      <th>publish_date</th>\n",
       "      <th>harvested_date</th>\n",
       "      <th>following</th>\n",
       "      <th>followers</th>\n",
       "      <th>updates</th>\n",
       "      <th>post_type</th>\n",
       "      <th>account_type</th>\n",
       "      <th>new_june_2018</th>\n",
       "      <th>retweet</th>\n",
       "      <th>account_category</th>\n",
       "    </tr>\n",
       "  </thead>\n",
       "  <tbody>\n",
       "    <tr>\n",
       "      <th>0</th>\n",
       "      <td>1.651693e+09</td>\n",
       "      <td>STAYWOKE88</td>\n",
       "      <td>#Illinois Dairy #Queen Franchisee Loses Store ...</td>\n",
       "      <td>United States</td>\n",
       "      <td>English</td>\n",
       "      <td>1/10/2017 0:43</td>\n",
       "      <td>1/10/2017 0:44</td>\n",
       "      <td>549</td>\n",
       "      <td>465</td>\n",
       "      <td>3574</td>\n",
       "      <td>RETWEET</td>\n",
       "      <td>left</td>\n",
       "      <td>0</td>\n",
       "      <td>1</td>\n",
       "      <td>LeftTroll</td>\n",
       "    </tr>\n",
       "    <tr>\n",
       "      <th>1</th>\n",
       "      <td>1.651693e+09</td>\n",
       "      <td>STAYWOKE88</td>\n",
       "      <td>#NoEthicsNoHearing https://t.co/q8suwAO2sB</td>\n",
       "      <td>United States</td>\n",
       "      <td>English</td>\n",
       "      <td>1/10/2017 0:44</td>\n",
       "      <td>1/10/2017 0:44</td>\n",
       "      <td>549</td>\n",
       "      <td>465</td>\n",
       "      <td>3575</td>\n",
       "      <td>RETWEET</td>\n",
       "      <td>left</td>\n",
       "      <td>0</td>\n",
       "      <td>1</td>\n",
       "      <td>LeftTroll</td>\n",
       "    </tr>\n",
       "    <tr>\n",
       "      <th>2</th>\n",
       "      <td>1.651693e+09</td>\n",
       "      <td>STAYWOKE88</td>\n",
       "      <td>Progressive narratives about what’s driving ma...</td>\n",
       "      <td>United States</td>\n",
       "      <td>English</td>\n",
       "      <td>1/10/2017 12:50</td>\n",
       "      <td>1/10/2017 12:51</td>\n",
       "      <td>549</td>\n",
       "      <td>466</td>\n",
       "      <td>3594</td>\n",
       "      <td>RETWEET</td>\n",
       "      <td>left</td>\n",
       "      <td>0</td>\n",
       "      <td>1</td>\n",
       "      <td>LeftTroll</td>\n",
       "    </tr>\n",
       "  </tbody>\n",
       "</table>\n",
       "</div>"
      ],
      "text/plain": [
       "   external_author_id      author  \\\n",
       "0        1.651693e+09  STAYWOKE88   \n",
       "1        1.651693e+09  STAYWOKE88   \n",
       "2        1.651693e+09  STAYWOKE88   \n",
       "\n",
       "                                             content         region language  \\\n",
       "0  #Illinois Dairy #Queen Franchisee Loses Store ...  United States  English   \n",
       "1         #NoEthicsNoHearing https://t.co/q8suwAO2sB  United States  English   \n",
       "2  Progressive narratives about what’s driving ma...  United States  English   \n",
       "\n",
       "      publish_date   harvested_date  following  followers  updates post_type  \\\n",
       "0   1/10/2017 0:43   1/10/2017 0:44        549        465     3574   RETWEET   \n",
       "1   1/10/2017 0:44   1/10/2017 0:44        549        465     3575   RETWEET   \n",
       "2  1/10/2017 12:50  1/10/2017 12:51        549        466     3594   RETWEET   \n",
       "\n",
       "  account_type  new_june_2018  retweet account_category  \n",
       "0         left              0        1        LeftTroll  \n",
       "1         left              0        1        LeftTroll  \n",
       "2         left              0        1        LeftTroll  "
      ]
     },
     "execution_count": 47,
     "metadata": {},
     "output_type": "execute_result"
    }
   ],
   "source": [
    "df8 = pd.read_csv(\"IRAhandle_tweets_8.csv\")\n",
    "df8.head(3)"
   ]
  },
  {
   "cell_type": "code",
   "execution_count": 48,
   "metadata": {},
   "outputs": [
    {
     "data": {
      "text/plain": [
       "(378295, 15)"
      ]
     },
     "execution_count": 48,
     "metadata": {},
     "output_type": "execute_result"
    }
   ],
   "source": [
    "df8.shape"
   ]
  },
  {
   "cell_type": "code",
   "execution_count": 49,
   "metadata": {
    "scrolled": true
   },
   "outputs": [
    {
     "data": {
      "text/plain": [
       "Index(['external_author_id', 'author', 'content', 'region', 'language',\n",
       "       'publish_date', 'harvested_date', 'following', 'followers', 'updates',\n",
       "       'post_type', 'account_type', 'new_june_2018', 'retweet',\n",
       "       'account_category'],\n",
       "      dtype='object')"
      ]
     },
     "execution_count": 49,
     "metadata": {},
     "output_type": "execute_result"
    }
   ],
   "source": [
    "df8.columns"
   ]
  },
  {
   "cell_type": "code",
   "execution_count": 50,
   "metadata": {},
   "outputs": [
    {
     "data": {
      "text/plain": [
       "NewsFeed        138674\n",
       "NonEnglish       86861\n",
       "RightTroll       79602\n",
       "LeftTroll        36749\n",
       "HashtagGamer     34330\n",
       "Fearmonger        1215\n",
       "Unknown            864\n",
       "Name: account_category, dtype: int64"
      ]
     },
     "execution_count": 50,
     "metadata": {},
     "output_type": "execute_result"
    }
   ],
   "source": [
    "df8[\"account_category\"].value_counts()"
   ]
  },
  {
   "cell_type": "code",
   "execution_count": 51,
   "metadata": {},
   "outputs": [
    {
     "data": {
      "text/plain": [
       "external_author_id         0\n",
       "author                     0\n",
       "content                    0\n",
       "region                   721\n",
       "language                   0\n",
       "publish_date               0\n",
       "harvested_date             0\n",
       "following                  0\n",
       "followers                  0\n",
       "updates                    0\n",
       "post_type             243092\n",
       "account_type              61\n",
       "new_june_2018              0\n",
       "retweet                    0\n",
       "account_category           0\n",
       "dtype: int64"
      ]
     },
     "execution_count": 51,
     "metadata": {},
     "output_type": "execute_result"
    }
   ],
   "source": [
    "df8.isnull().sum()"
   ]
  },
  {
   "cell_type": "code",
   "execution_count": 52,
   "metadata": {},
   "outputs": [
    {
     "name": "stdout",
     "output_type": "stream",
     "text": [
      "<class 'pandas.core.frame.DataFrame'>\n",
      "RangeIndex: 378295 entries, 0 to 378294\n",
      "Data columns (total 15 columns):\n",
      " #   Column              Non-Null Count   Dtype  \n",
      "---  ------              --------------   -----  \n",
      " 0   external_author_id  378295 non-null  float64\n",
      " 1   author              378295 non-null  object \n",
      " 2   content             378295 non-null  object \n",
      " 3   region              377574 non-null  object \n",
      " 4   language            378295 non-null  object \n",
      " 5   publish_date        378295 non-null  object \n",
      " 6   harvested_date      378295 non-null  object \n",
      " 7   following           378295 non-null  int64  \n",
      " 8   followers           378295 non-null  int64  \n",
      " 9   updates             378295 non-null  int64  \n",
      " 10  post_type           135203 non-null  object \n",
      " 11  account_type        378234 non-null  object \n",
      " 12  new_june_2018       378295 non-null  int64  \n",
      " 13  retweet             378295 non-null  int64  \n",
      " 14  account_category    378295 non-null  object \n",
      "dtypes: float64(1), int64(5), object(9)\n",
      "memory usage: 43.3+ MB\n"
     ]
    }
   ],
   "source": [
    "df8.info()"
   ]
  },
  {
   "cell_type": "markdown",
   "metadata": {},
   "source": [
    "----------"
   ]
  },
  {
   "cell_type": "markdown",
   "metadata": {},
   "source": [
    "## Document: 09"
   ]
  },
  {
   "cell_type": "code",
   "execution_count": 53,
   "metadata": {},
   "outputs": [
    {
     "data": {
      "text/html": [
       "<div>\n",
       "<style scoped>\n",
       "    .dataframe tbody tr th:only-of-type {\n",
       "        vertical-align: middle;\n",
       "    }\n",
       "\n",
       "    .dataframe tbody tr th {\n",
       "        vertical-align: top;\n",
       "    }\n",
       "\n",
       "    .dataframe thead th {\n",
       "        text-align: right;\n",
       "    }\n",
       "</style>\n",
       "<table border=\"1\" class=\"dataframe\">\n",
       "  <thead>\n",
       "    <tr style=\"text-align: right;\">\n",
       "      <th></th>\n",
       "      <th>external_author_id</th>\n",
       "      <th>author</th>\n",
       "      <th>content</th>\n",
       "      <th>region</th>\n",
       "      <th>language</th>\n",
       "      <th>publish_date</th>\n",
       "      <th>harvested_date</th>\n",
       "      <th>following</th>\n",
       "      <th>followers</th>\n",
       "      <th>updates</th>\n",
       "      <th>post_type</th>\n",
       "      <th>account_type</th>\n",
       "      <th>new_june_2018</th>\n",
       "      <th>retweet</th>\n",
       "      <th>account_category</th>\n",
       "    </tr>\n",
       "  </thead>\n",
       "  <tbody>\n",
       "    <tr>\n",
       "      <th>0</th>\n",
       "      <td>1.513801e+09</td>\n",
       "      <td>YOUJUSTCTRLC</td>\n",
       "      <td>I went to Homegoods to get a table runner and ...</td>\n",
       "      <td>United States</td>\n",
       "      <td>English</td>\n",
       "      <td>1/8/2017 1:57</td>\n",
       "      <td>1/8/2017 1:57</td>\n",
       "      <td>2655</td>\n",
       "      <td>2724</td>\n",
       "      <td>3015</td>\n",
       "      <td>RETWEET</td>\n",
       "      <td>left</td>\n",
       "      <td>0</td>\n",
       "      <td>1</td>\n",
       "      <td>LeftTroll</td>\n",
       "    </tr>\n",
       "    <tr>\n",
       "      <th>1</th>\n",
       "      <td>1.513801e+09</td>\n",
       "      <td>YOUJUSTCTRLC</td>\n",
       "      <td>The education of the masses, which should begi...</td>\n",
       "      <td>United States</td>\n",
       "      <td>English</td>\n",
       "      <td>1/8/2017 1:57</td>\n",
       "      <td>1/8/2017 1:57</td>\n",
       "      <td>2655</td>\n",
       "      <td>2724</td>\n",
       "      <td>3014</td>\n",
       "      <td>RETWEET</td>\n",
       "      <td>left</td>\n",
       "      <td>0</td>\n",
       "      <td>1</td>\n",
       "      <td>LeftTroll</td>\n",
       "    </tr>\n",
       "    <tr>\n",
       "      <th>2</th>\n",
       "      <td>1.513801e+09</td>\n",
       "      <td>YOUJUSTCTRLC</td>\n",
       "      <td>#SciFiSunday: Interview With Fantasy Writer Ab...</td>\n",
       "      <td>United States</td>\n",
       "      <td>English</td>\n",
       "      <td>1/8/2017 20:02</td>\n",
       "      <td>1/8/2017 20:02</td>\n",
       "      <td>2657</td>\n",
       "      <td>2725</td>\n",
       "      <td>3024</td>\n",
       "      <td>RETWEET</td>\n",
       "      <td>left</td>\n",
       "      <td>0</td>\n",
       "      <td>1</td>\n",
       "      <td>LeftTroll</td>\n",
       "    </tr>\n",
       "  </tbody>\n",
       "</table>\n",
       "</div>"
      ],
      "text/plain": [
       "   external_author_id        author  \\\n",
       "0        1.513801e+09  YOUJUSTCTRLC   \n",
       "1        1.513801e+09  YOUJUSTCTRLC   \n",
       "2        1.513801e+09  YOUJUSTCTRLC   \n",
       "\n",
       "                                             content         region language  \\\n",
       "0  I went to Homegoods to get a table runner and ...  United States  English   \n",
       "1  The education of the masses, which should begi...  United States  English   \n",
       "2  #SciFiSunday: Interview With Fantasy Writer Ab...  United States  English   \n",
       "\n",
       "     publish_date  harvested_date  following  followers  updates post_type  \\\n",
       "0   1/8/2017 1:57   1/8/2017 1:57       2655       2724     3015   RETWEET   \n",
       "1   1/8/2017 1:57   1/8/2017 1:57       2655       2724     3014   RETWEET   \n",
       "2  1/8/2017 20:02  1/8/2017 20:02       2657       2725     3024   RETWEET   \n",
       "\n",
       "  account_type  new_june_2018  retweet account_category  \n",
       "0         left              0        1        LeftTroll  \n",
       "1         left              0        1        LeftTroll  \n",
       "2         left              0        1        LeftTroll  "
      ]
     },
     "execution_count": 53,
     "metadata": {},
     "output_type": "execute_result"
    }
   ],
   "source": [
    "df9 = pd.read_csv(\"IRAhandle_tweets_9.csv\")\n",
    "df9.head(3)"
   ]
  },
  {
   "cell_type": "code",
   "execution_count": 54,
   "metadata": {},
   "outputs": [
    {
     "data": {
      "text/plain": [
       "(37555, 15)"
      ]
     },
     "execution_count": 54,
     "metadata": {},
     "output_type": "execute_result"
    }
   ],
   "source": [
    "df9.shape"
   ]
  },
  {
   "cell_type": "code",
   "execution_count": 55,
   "metadata": {
    "scrolled": true
   },
   "outputs": [
    {
     "data": {
      "text/plain": [
       "Index(['external_author_id', 'author', 'content', 'region', 'language',\n",
       "       'publish_date', 'harvested_date', 'following', 'followers', 'updates',\n",
       "       'post_type', 'account_type', 'new_june_2018', 'retweet',\n",
       "       'account_category'],\n",
       "      dtype='object')"
      ]
     },
     "execution_count": 55,
     "metadata": {},
     "output_type": "execute_result"
    }
   ],
   "source": [
    "df9.columns"
   ]
  },
  {
   "cell_type": "code",
   "execution_count": 56,
   "metadata": {},
   "outputs": [
    {
     "data": {
      "text/plain": [
       "NonEnglish    22581\n",
       "LeftTroll      8888\n",
       "RightTroll     5910\n",
       "Fearmonger      151\n",
       "Unknown          25\n",
       "Name: account_category, dtype: int64"
      ]
     },
     "execution_count": 56,
     "metadata": {},
     "output_type": "execute_result"
    }
   ],
   "source": [
    "df9[\"account_category\"].value_counts()"
   ]
  },
  {
   "cell_type": "code",
   "execution_count": 57,
   "metadata": {},
   "outputs": [
    {
     "data": {
      "text/plain": [
       "external_author_id       0\n",
       "author                   0\n",
       "content                  0\n",
       "region                  69\n",
       "language                 0\n",
       "publish_date             0\n",
       "harvested_date           0\n",
       "following                0\n",
       "followers                0\n",
       "updates                  0\n",
       "post_type             8495\n",
       "account_type             0\n",
       "new_june_2018            0\n",
       "retweet                  0\n",
       "account_category         0\n",
       "dtype: int64"
      ]
     },
     "execution_count": 57,
     "metadata": {},
     "output_type": "execute_result"
    }
   ],
   "source": [
    "df9.isnull().sum()"
   ]
  },
  {
   "cell_type": "code",
   "execution_count": 58,
   "metadata": {},
   "outputs": [
    {
     "name": "stdout",
     "output_type": "stream",
     "text": [
      "<class 'pandas.core.frame.DataFrame'>\n",
      "RangeIndex: 37555 entries, 0 to 37554\n",
      "Data columns (total 15 columns):\n",
      " #   Column              Non-Null Count  Dtype  \n",
      "---  ------              --------------  -----  \n",
      " 0   external_author_id  37555 non-null  float64\n",
      " 1   author              37555 non-null  object \n",
      " 2   content             37555 non-null  object \n",
      " 3   region              37486 non-null  object \n",
      " 4   language            37555 non-null  object \n",
      " 5   publish_date        37555 non-null  object \n",
      " 6   harvested_date      37555 non-null  object \n",
      " 7   following           37555 non-null  int64  \n",
      " 8   followers           37555 non-null  int64  \n",
      " 9   updates             37555 non-null  int64  \n",
      " 10  post_type           29060 non-null  object \n",
      " 11  account_type        37555 non-null  object \n",
      " 12  new_june_2018       37555 non-null  int64  \n",
      " 13  retweet             37555 non-null  int64  \n",
      " 14  account_category    37555 non-null  object \n",
      "dtypes: float64(1), int64(5), object(9)\n",
      "memory usage: 4.3+ MB\n"
     ]
    }
   ],
   "source": [
    "df9.info()"
   ]
  },
  {
   "cell_type": "markdown",
   "metadata": {},
   "source": [
    "------------"
   ]
  },
  {
   "cell_type": "code",
   "execution_count": 59,
   "metadata": {},
   "outputs": [
    {
     "data": {
      "text/plain": [
       "Index(['external_author_id', 'author', 'content', 'region', 'language',\n",
       "       'publish_date', 'harvested_date', 'following', 'followers', 'updates',\n",
       "       'post_type', 'account_type', 'new_june_2018', 'retweet',\n",
       "       'account_category'],\n",
       "      dtype='object')"
      ]
     },
     "metadata": {},
     "output_type": "display_data"
    },
    {
     "data": {
      "text/plain": [
       "Index(['external_author_id', 'author', 'content', 'region', 'language',\n",
       "       'publish_date', 'harvested_date', 'following', 'followers', 'updates',\n",
       "       'post_type', 'account_type', 'new_june_2018', 'retweet',\n",
       "       'account_category'],\n",
       "      dtype='object')"
      ]
     },
     "metadata": {},
     "output_type": "display_data"
    },
    {
     "data": {
      "text/plain": [
       "Index(['external_author_id', 'author', 'content', 'region', 'language',\n",
       "       'publish_date', 'harvested_date', 'following', 'followers', 'updates',\n",
       "       'post_type', 'account_type', 'new_june_2018', 'retweet',\n",
       "       'account_category'],\n",
       "      dtype='object')"
      ]
     },
     "metadata": {},
     "output_type": "display_data"
    },
    {
     "data": {
      "text/plain": [
       "Index(['external_author_id', 'author', 'content', 'region', 'language',\n",
       "       'publish_date', 'harvested_date', 'following', 'followers', 'updates',\n",
       "       'post_type', 'account_type', 'new_june_2018', 'retweet',\n",
       "       'account_category'],\n",
       "      dtype='object')"
      ]
     },
     "metadata": {},
     "output_type": "display_data"
    },
    {
     "data": {
      "text/plain": [
       "Index(['external_author_id', 'author', 'content', 'region', 'language',\n",
       "       'publish_date', 'harvested_date', 'following', 'followers', 'updates',\n",
       "       'post_type', 'account_type', 'new_june_2018', 'retweet',\n",
       "       'account_category'],\n",
       "      dtype='object')"
      ]
     },
     "metadata": {},
     "output_type": "display_data"
    },
    {
     "data": {
      "text/plain": [
       "Index(['external_author_id', 'author', 'content', 'region', 'language',\n",
       "       'publish_date', 'harvested_date', 'following', 'followers', 'updates',\n",
       "       'post_type', 'account_type', 'new_june_2018', 'retweet',\n",
       "       'account_category'],\n",
       "      dtype='object')"
      ]
     },
     "metadata": {},
     "output_type": "display_data"
    },
    {
     "data": {
      "text/plain": [
       "Index(['external_author_id', 'author', 'content', 'region', 'language',\n",
       "       'publish_date', 'harvested_date', 'following', 'followers', 'updates',\n",
       "       'post_type', 'account_type', 'new_june_2018', 'retweet',\n",
       "       'account_category'],\n",
       "      dtype='object')"
      ]
     },
     "metadata": {},
     "output_type": "display_data"
    },
    {
     "data": {
      "text/plain": [
       "Index(['external_author_id', 'author', 'content', 'region', 'language',\n",
       "       'publish_date', 'harvested_date', 'following', 'followers', 'updates',\n",
       "       'post_type', 'account_type', 'new_june_2018', 'retweet',\n",
       "       'account_category'],\n",
       "      dtype='object')"
      ]
     },
     "metadata": {},
     "output_type": "display_data"
    },
    {
     "data": {
      "text/plain": [
       "Index(['external_author_id', 'author', 'content', 'region', 'language',\n",
       "       'publish_date', 'harvested_date', 'following', 'followers', 'updates',\n",
       "       'post_type', 'account_type', 'new_june_2018', 'retweet',\n",
       "       'account_category'],\n",
       "      dtype='object')"
      ]
     },
     "metadata": {},
     "output_type": "display_data"
    }
   ],
   "source": [
    "display(df1.columns)\n",
    "display(df2.columns)\n",
    "display(df3.columns)\n",
    "display(df4.columns)\n",
    "display(df5.columns)\n",
    "display(df6.columns)\n",
    "display(df7.columns)\n",
    "display(df8.columns)\n",
    "display(df9.columns)"
   ]
  },
  {
   "cell_type": "markdown",
   "metadata": {},
   "source": [
    "------"
   ]
  },
  {
   "cell_type": "code",
   "execution_count": 69,
   "metadata": {},
   "outputs": [
    {
     "data": {
      "text/html": [
       "<div>\n",
       "<style scoped>\n",
       "    .dataframe tbody tr th:only-of-type {\n",
       "        vertical-align: middle;\n",
       "    }\n",
       "\n",
       "    .dataframe tbody tr th {\n",
       "        vertical-align: top;\n",
       "    }\n",
       "\n",
       "    .dataframe thead th {\n",
       "        text-align: right;\n",
       "    }\n",
       "</style>\n",
       "<table border=\"1\" class=\"dataframe\">\n",
       "  <thead>\n",
       "    <tr style=\"text-align: right;\">\n",
       "      <th></th>\n",
       "      <th>external_author_id</th>\n",
       "      <th>author</th>\n",
       "      <th>content</th>\n",
       "      <th>region</th>\n",
       "      <th>language</th>\n",
       "      <th>publish_date</th>\n",
       "      <th>harvested_date</th>\n",
       "      <th>following</th>\n",
       "      <th>followers</th>\n",
       "      <th>updates</th>\n",
       "      <th>post_type</th>\n",
       "      <th>account_type</th>\n",
       "      <th>new_june_2018</th>\n",
       "      <th>retweet</th>\n",
       "      <th>account_category</th>\n",
       "    </tr>\n",
       "  </thead>\n",
       "  <tbody>\n",
       "    <tr>\n",
       "      <th>0</th>\n",
       "      <td>1.685173e+09</td>\n",
       "      <td>BLMSOLDIER</td>\n",
       "      <td>Koome: This court won’t sit next week but will...</td>\n",
       "      <td>United States</td>\n",
       "      <td>English</td>\n",
       "      <td>3/7/2017 10:27</td>\n",
       "      <td>3/7/2017 10:28</td>\n",
       "      <td>694</td>\n",
       "      <td>712</td>\n",
       "      <td>4846</td>\n",
       "      <td>RETWEET</td>\n",
       "      <td>left</td>\n",
       "      <td>0</td>\n",
       "      <td>1</td>\n",
       "      <td>LeftTroll</td>\n",
       "    </tr>\n",
       "    <tr>\n",
       "      <th>1</th>\n",
       "      <td>1.685173e+09</td>\n",
       "      <td>BLMSOLDIER</td>\n",
       "      <td>Get Youtube promotion go viral click here to s...</td>\n",
       "      <td>United States</td>\n",
       "      <td>English</td>\n",
       "      <td>3/7/2017 10:28</td>\n",
       "      <td>3/7/2017 10:28</td>\n",
       "      <td>694</td>\n",
       "      <td>712</td>\n",
       "      <td>4847</td>\n",
       "      <td>RETWEET</td>\n",
       "      <td>left</td>\n",
       "      <td>0</td>\n",
       "      <td>1</td>\n",
       "      <td>LeftTroll</td>\n",
       "    </tr>\n",
       "    <tr>\n",
       "      <th>2</th>\n",
       "      <td>1.685173e+09</td>\n",
       "      <td>BLMSOLDIER</td>\n",
       "      <td>\"Affordable Care Act\" replacement breaks Trump...</td>\n",
       "      <td>United States</td>\n",
       "      <td>English</td>\n",
       "      <td>3/7/2017 10:28</td>\n",
       "      <td>3/7/2017 10:28</td>\n",
       "      <td>694</td>\n",
       "      <td>712</td>\n",
       "      <td>4848</td>\n",
       "      <td>RETWEET</td>\n",
       "      <td>left</td>\n",
       "      <td>0</td>\n",
       "      <td>1</td>\n",
       "      <td>LeftTroll</td>\n",
       "    </tr>\n",
       "  </tbody>\n",
       "</table>\n",
       "</div>"
      ],
      "text/plain": [
       "   external_author_id      author  \\\n",
       "0        1.685173e+09  BLMSOLDIER   \n",
       "1        1.685173e+09  BLMSOLDIER   \n",
       "2        1.685173e+09  BLMSOLDIER   \n",
       "\n",
       "                                             content         region language  \\\n",
       "0  Koome: This court won’t sit next week but will...  United States  English   \n",
       "1  Get Youtube promotion go viral click here to s...  United States  English   \n",
       "2  \"Affordable Care Act\" replacement breaks Trump...  United States  English   \n",
       "\n",
       "     publish_date  harvested_date  following  followers  updates post_type  \\\n",
       "0  3/7/2017 10:27  3/7/2017 10:28        694        712     4846   RETWEET   \n",
       "1  3/7/2017 10:28  3/7/2017 10:28        694        712     4847   RETWEET   \n",
       "2  3/7/2017 10:28  3/7/2017 10:28        694        712     4848   RETWEET   \n",
       "\n",
       "  account_type  new_june_2018  retweet account_category  \n",
       "0         left              0        1        LeftTroll  \n",
       "1         left              0        1        LeftTroll  \n",
       "2         left              0        1        LeftTroll  "
      ]
     },
     "execution_count": 69,
     "metadata": {},
     "output_type": "execute_result"
    }
   ],
   "source": [
    "df = pd.concat([df1, df2, df3, df4, df5, df6, df7, df8, df9], axis=0)\n",
    "df.head(3)"
   ]
  },
  {
   "cell_type": "code",
   "execution_count": 70,
   "metadata": {},
   "outputs": [
    {
     "data": {
      "text/plain": [
       "(2989587, 15)"
      ]
     },
     "execution_count": 70,
     "metadata": {},
     "output_type": "execute_result"
    }
   ],
   "source": [
    "df.shape"
   ]
  },
  {
   "cell_type": "code",
   "execution_count": 60,
   "metadata": {},
   "outputs": [
    {
     "data": {
      "text/html": [
       "<div>\n",
       "<style scoped>\n",
       "    .dataframe tbody tr th:only-of-type {\n",
       "        vertical-align: middle;\n",
       "    }\n",
       "\n",
       "    .dataframe tbody tr th {\n",
       "        vertical-align: top;\n",
       "    }\n",
       "\n",
       "    .dataframe thead th {\n",
       "        text-align: right;\n",
       "    }\n",
       "</style>\n",
       "<table border=\"1\" class=\"dataframe\">\n",
       "  <thead>\n",
       "    <tr style=\"text-align: right;\">\n",
       "      <th></th>\n",
       "      <th>external_author_id</th>\n",
       "      <th>author</th>\n",
       "      <th>content</th>\n",
       "      <th>region</th>\n",
       "      <th>language</th>\n",
       "      <th>publish_date</th>\n",
       "      <th>harvested_date</th>\n",
       "      <th>following</th>\n",
       "      <th>followers</th>\n",
       "      <th>updates</th>\n",
       "      <th>post_type</th>\n",
       "      <th>account_type</th>\n",
       "      <th>new_june_2018</th>\n",
       "      <th>retweet</th>\n",
       "      <th>account_category</th>\n",
       "    </tr>\n",
       "  </thead>\n",
       "  <tbody>\n",
       "    <tr>\n",
       "      <th>0</th>\n",
       "      <td>9.060000e+17</td>\n",
       "      <td>10_GOP</td>\n",
       "      <td>\"We have a sitting Democrat US Senator on tria...</td>\n",
       "      <td>Unknown</td>\n",
       "      <td>English</td>\n",
       "      <td>10/1/2017 19:58</td>\n",
       "      <td>10/1/2017 19:59</td>\n",
       "      <td>1052</td>\n",
       "      <td>9636</td>\n",
       "      <td>253</td>\n",
       "      <td>NaN</td>\n",
       "      <td>Right</td>\n",
       "      <td>0</td>\n",
       "      <td>0</td>\n",
       "      <td>RightTroll</td>\n",
       "    </tr>\n",
       "    <tr>\n",
       "      <th>1</th>\n",
       "      <td>9.060000e+17</td>\n",
       "      <td>10_GOP</td>\n",
       "      <td>Marshawn Lynch arrives to game in anti-Trump s...</td>\n",
       "      <td>Unknown</td>\n",
       "      <td>English</td>\n",
       "      <td>10/1/2017 22:43</td>\n",
       "      <td>10/1/2017 22:43</td>\n",
       "      <td>1054</td>\n",
       "      <td>9637</td>\n",
       "      <td>254</td>\n",
       "      <td>NaN</td>\n",
       "      <td>Right</td>\n",
       "      <td>0</td>\n",
       "      <td>0</td>\n",
       "      <td>RightTroll</td>\n",
       "    </tr>\n",
       "    <tr>\n",
       "      <th>2</th>\n",
       "      <td>9.060000e+17</td>\n",
       "      <td>10_GOP</td>\n",
       "      <td>Daughter of fallen Navy Sailor delivers powerf...</td>\n",
       "      <td>Unknown</td>\n",
       "      <td>English</td>\n",
       "      <td>10/1/2017 22:50</td>\n",
       "      <td>10/1/2017 22:51</td>\n",
       "      <td>1054</td>\n",
       "      <td>9637</td>\n",
       "      <td>255</td>\n",
       "      <td>RETWEET</td>\n",
       "      <td>Right</td>\n",
       "      <td>0</td>\n",
       "      <td>1</td>\n",
       "      <td>RightTroll</td>\n",
       "    </tr>\n",
       "  </tbody>\n",
       "</table>\n",
       "</div>"
      ],
      "text/plain": [
       "   external_author_id  author  \\\n",
       "0        9.060000e+17  10_GOP   \n",
       "1        9.060000e+17  10_GOP   \n",
       "2        9.060000e+17  10_GOP   \n",
       "\n",
       "                                             content   region language  \\\n",
       "0  \"We have a sitting Democrat US Senator on tria...  Unknown  English   \n",
       "1  Marshawn Lynch arrives to game in anti-Trump s...  Unknown  English   \n",
       "2  Daughter of fallen Navy Sailor delivers powerf...  Unknown  English   \n",
       "\n",
       "      publish_date   harvested_date  following  followers  updates post_type  \\\n",
       "0  10/1/2017 19:58  10/1/2017 19:59       1052       9636      253       NaN   \n",
       "1  10/1/2017 22:43  10/1/2017 22:43       1054       9637      254       NaN   \n",
       "2  10/1/2017 22:50  10/1/2017 22:51       1054       9637      255   RETWEET   \n",
       "\n",
       "  account_type  new_june_2018  retweet account_category  \n",
       "0        Right              0        0       RightTroll  \n",
       "1        Right              0        0       RightTroll  \n",
       "2        Right              0        1       RightTroll  "
      ]
     },
     "execution_count": 60,
     "metadata": {},
     "output_type": "execute_result"
    }
   ],
   "source": [
    "dfa = pd.concat([df1, df2, df3, df4, df5, df6, df7, df8, df9],ignore_index=True)\n",
    "dfa.head(3)"
   ]
  },
  {
   "cell_type": "code",
   "execution_count": 61,
   "metadata": {},
   "outputs": [
    {
     "data": {
      "text/plain": [
       "(2973371, 15)"
      ]
     },
     "execution_count": 61,
     "metadata": {},
     "output_type": "execute_result"
    }
   ],
   "source": [
    "dfa.shape"
   ]
  },
  {
   "cell_type": "code",
   "execution_count": 62,
   "metadata": {},
   "outputs": [
    {
     "data": {
      "text/plain": [
       "16216"
      ]
     },
     "execution_count": 62,
     "metadata": {},
     "output_type": "execute_result"
    }
   ],
   "source": [
    "2989587 - 2973371"
   ]
  },
  {
   "cell_type": "code",
   "execution_count": 65,
   "metadata": {},
   "outputs": [
    {
     "data": {
      "text/html": [
       "<div>\n",
       "<style scoped>\n",
       "    .dataframe tbody tr th:only-of-type {\n",
       "        vertical-align: middle;\n",
       "    }\n",
       "\n",
       "    .dataframe tbody tr th {\n",
       "        vertical-align: top;\n",
       "    }\n",
       "\n",
       "    .dataframe thead th {\n",
       "        text-align: right;\n",
       "    }\n",
       "</style>\n",
       "<table border=\"1\" class=\"dataframe\">\n",
       "  <thead>\n",
       "    <tr style=\"text-align: right;\">\n",
       "      <th></th>\n",
       "      <th>external_author_id</th>\n",
       "      <th>author</th>\n",
       "      <th>content</th>\n",
       "      <th>region</th>\n",
       "      <th>language</th>\n",
       "      <th>publish_date</th>\n",
       "      <th>harvested_date</th>\n",
       "      <th>following</th>\n",
       "      <th>followers</th>\n",
       "      <th>updates</th>\n",
       "      <th>post_type</th>\n",
       "      <th>account_type</th>\n",
       "      <th>new_june_2018</th>\n",
       "      <th>retweet</th>\n",
       "      <th>account_category</th>\n",
       "    </tr>\n",
       "  </thead>\n",
       "  <tbody>\n",
       "    <tr>\n",
       "      <th>381015</th>\n",
       "      <td>1.685173e+09</td>\n",
       "      <td>BLMSOLDIER</td>\n",
       "      <td>Retweeted Citizen TV Kenya (@citizentvkenya): ...</td>\n",
       "      <td>United States</td>\n",
       "      <td>English</td>\n",
       "      <td>3/7/2017 10:27</td>\n",
       "      <td>3/7/2017 10:27</td>\n",
       "      <td>694</td>\n",
       "      <td>712</td>\n",
       "      <td>4845</td>\n",
       "      <td>RETWEET</td>\n",
       "      <td>left</td>\n",
       "      <td>0</td>\n",
       "      <td>1</td>\n",
       "      <td>LeftTroll</td>\n",
       "    </tr>\n",
       "    <tr>\n",
       "      <th>0</th>\n",
       "      <td>1.685173e+09</td>\n",
       "      <td>BLMSOLDIER</td>\n",
       "      <td>Koome: This court won’t sit next week but will...</td>\n",
       "      <td>United States</td>\n",
       "      <td>English</td>\n",
       "      <td>3/7/2017 10:27</td>\n",
       "      <td>3/7/2017 10:28</td>\n",
       "      <td>694</td>\n",
       "      <td>712</td>\n",
       "      <td>4846</td>\n",
       "      <td>RETWEET</td>\n",
       "      <td>left</td>\n",
       "      <td>0</td>\n",
       "      <td>1</td>\n",
       "      <td>LeftTroll</td>\n",
       "    </tr>\n",
       "    <tr>\n",
       "      <th>1</th>\n",
       "      <td>1.685173e+09</td>\n",
       "      <td>BLMSOLDIER</td>\n",
       "      <td>Get Youtube promotion go viral click here to s...</td>\n",
       "      <td>United States</td>\n",
       "      <td>English</td>\n",
       "      <td>3/7/2017 10:28</td>\n",
       "      <td>3/7/2017 10:28</td>\n",
       "      <td>694</td>\n",
       "      <td>712</td>\n",
       "      <td>4847</td>\n",
       "      <td>RETWEET</td>\n",
       "      <td>left</td>\n",
       "      <td>0</td>\n",
       "      <td>1</td>\n",
       "      <td>LeftTroll</td>\n",
       "    </tr>\n",
       "    <tr>\n",
       "      <th>2</th>\n",
       "      <td>1.685173e+09</td>\n",
       "      <td>BLMSOLDIER</td>\n",
       "      <td>\"Affordable Care Act\" replacement breaks Trump...</td>\n",
       "      <td>United States</td>\n",
       "      <td>English</td>\n",
       "      <td>3/7/2017 10:28</td>\n",
       "      <td>3/7/2017 10:28</td>\n",
       "      <td>694</td>\n",
       "      <td>712</td>\n",
       "      <td>4848</td>\n",
       "      <td>RETWEET</td>\n",
       "      <td>left</td>\n",
       "      <td>0</td>\n",
       "      <td>1</td>\n",
       "      <td>LeftTroll</td>\n",
       "    </tr>\n",
       "    <tr>\n",
       "      <th>3</th>\n",
       "      <td>1.685173e+09</td>\n",
       "      <td>BLMSOLDIER</td>\n",
       "      <td>'@GeorgeJolly9 oh you know she is dead ass ser...</td>\n",
       "      <td>United States</td>\n",
       "      <td>English</td>\n",
       "      <td>3/7/2017 15:30</td>\n",
       "      <td>3/7/2017 15:31</td>\n",
       "      <td>694</td>\n",
       "      <td>711</td>\n",
       "      <td>4852</td>\n",
       "      <td>RETWEET</td>\n",
       "      <td>left</td>\n",
       "      <td>0</td>\n",
       "      <td>1</td>\n",
       "      <td>LeftTroll</td>\n",
       "    </tr>\n",
       "  </tbody>\n",
       "</table>\n",
       "</div>"
      ],
      "text/plain": [
       "        external_author_id      author  \\\n",
       "381015        1.685173e+09  BLMSOLDIER   \n",
       "0             1.685173e+09  BLMSOLDIER   \n",
       "1             1.685173e+09  BLMSOLDIER   \n",
       "2             1.685173e+09  BLMSOLDIER   \n",
       "3             1.685173e+09  BLMSOLDIER   \n",
       "\n",
       "                                                  content         region  \\\n",
       "381015  Retweeted Citizen TV Kenya (@citizentvkenya): ...  United States   \n",
       "0       Koome: This court won’t sit next week but will...  United States   \n",
       "1       Get Youtube promotion go viral click here to s...  United States   \n",
       "2       \"Affordable Care Act\" replacement breaks Trump...  United States   \n",
       "3       '@GeorgeJolly9 oh you know she is dead ass ser...  United States   \n",
       "\n",
       "       language    publish_date  harvested_date  following  followers  \\\n",
       "381015  English  3/7/2017 10:27  3/7/2017 10:27        694        712   \n",
       "0       English  3/7/2017 10:27  3/7/2017 10:28        694        712   \n",
       "1       English  3/7/2017 10:28  3/7/2017 10:28        694        712   \n",
       "2       English  3/7/2017 10:28  3/7/2017 10:28        694        712   \n",
       "3       English  3/7/2017 15:30  3/7/2017 15:31        694        711   \n",
       "\n",
       "        updates post_type account_type  new_june_2018  retweet  \\\n",
       "381015     4845   RETWEET         left              0        1   \n",
       "0          4846   RETWEET         left              0        1   \n",
       "1          4847   RETWEET         left              0        1   \n",
       "2          4848   RETWEET         left              0        1   \n",
       "3          4852   RETWEET         left              0        1   \n",
       "\n",
       "       account_category  \n",
       "381015        LeftTroll  \n",
       "0             LeftTroll  \n",
       "1             LeftTroll  \n",
       "2             LeftTroll  \n",
       "3             LeftTroll  "
      ]
     },
     "execution_count": 65,
     "metadata": {},
     "output_type": "execute_result"
    }
   ],
   "source": [
    "dfa.iloc[381015:381020]"
   ]
  },
  {
   "cell_type": "code",
   "execution_count": null,
   "metadata": {},
   "outputs": [],
   "source": []
  }
 ],
 "metadata": {
  "kernelspec": {
   "display_name": "Python 3",
   "language": "python",
   "name": "python3"
  },
  "language_info": {
   "codemirror_mode": {
    "name": "ipython",
    "version": 3
   },
   "file_extension": ".py",
   "mimetype": "text/x-python",
   "name": "python",
   "nbconvert_exporter": "python",
   "pygments_lexer": "ipython3",
   "version": "3.7.3"
  }
 },
 "nbformat": 4,
 "nbformat_minor": 2
}
