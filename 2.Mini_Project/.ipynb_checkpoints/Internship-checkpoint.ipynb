{
 "cells": [
  {
   "cell_type": "code",
   "execution_count": 1,
   "metadata": {},
   "outputs": [],
   "source": [
    "#importing some essential libraries\n",
    "import pandas as pd\n",
    "import numpy as np\n",
    "import matplotlib.pyplot as plt\n",
    "import seaborn as sns\n",
    "%matplotlib inline"
   ]
  },
  {
   "cell_type": "code",
   "execution_count": 2,
   "metadata": {},
   "outputs": [],
   "source": [
    "#importing the datasets\n",
    "data1 = pd.read_csv('IRAhandle_tweets_1.csv')\n",
    "data2 = pd.read_csv('IRAhandle_tweets_2.csv')\n",
    "data3 = pd.read_csv('IRAhandle_tweets_3.csv')\n",
    "data4 = pd.read_csv('IRAhandle_tweets_4.csv')\n",
    "data5 = pd.read_csv('IRAhandle_tweets_5.csv')\n",
    "data6 = pd.read_csv('IRAhandle_tweets_6.csv')\n",
    "data7 = pd.read_csv('IRAhandle_tweets_7.csv')\n",
    "data8 = pd.read_csv('IRAhandle_tweets_8.csv')\n",
    "data9 = pd.read_csv('IRAhandle_tweets_9.csv')"
   ]
  },
  {
   "cell_type": "code",
   "execution_count": 3,
   "metadata": {},
   "outputs": [],
   "source": [
    "#concatinating all the dataset to one\n",
    "troll_data = pd.concat([data1,data2,data3,data4,data5,data6,data7,data8,data9],axis=0)"
   ]
  },
  {
   "cell_type": "code",
   "execution_count": 4,
   "metadata": {},
   "outputs": [
    {
     "data": {
      "text/plain": [
       "(2973371, 15)"
      ]
     },
     "execution_count": 4,
     "metadata": {},
     "output_type": "execute_result"
    }
   ],
   "source": [
    "#checking its shape\n",
    "troll_data.shape"
   ]
  },
  {
   "cell_type": "markdown",
   "metadata": {},
   "source": [
    "."
   ]
  },
  {
   "cell_type": "code",
   "execution_count": 5,
   "metadata": {
    "scrolled": true
   },
   "outputs": [
    {
     "data": {
      "text/html": [
       "<div>\n",
       "<style scoped>\n",
       "    .dataframe tbody tr th:only-of-type {\n",
       "        vertical-align: middle;\n",
       "    }\n",
       "\n",
       "    .dataframe tbody tr th {\n",
       "        vertical-align: top;\n",
       "    }\n",
       "\n",
       "    .dataframe thead th {\n",
       "        text-align: right;\n",
       "    }\n",
       "</style>\n",
       "<table border=\"1\" class=\"dataframe\">\n",
       "  <thead>\n",
       "    <tr style=\"text-align: right;\">\n",
       "      <th></th>\n",
       "      <th>external_author_id</th>\n",
       "      <th>author</th>\n",
       "      <th>content</th>\n",
       "      <th>region</th>\n",
       "      <th>language</th>\n",
       "      <th>publish_date</th>\n",
       "      <th>harvested_date</th>\n",
       "      <th>following</th>\n",
       "      <th>followers</th>\n",
       "      <th>updates</th>\n",
       "      <th>post_type</th>\n",
       "      <th>account_type</th>\n",
       "      <th>new_june_2018</th>\n",
       "      <th>retweet</th>\n",
       "      <th>account_category</th>\n",
       "    </tr>\n",
       "  </thead>\n",
       "  <tbody>\n",
       "    <tr>\n",
       "      <th>0</th>\n",
       "      <td>9.060000e+17</td>\n",
       "      <td>10_GOP</td>\n",
       "      <td>\"We have a sitting Democrat US Senator on tria...</td>\n",
       "      <td>Unknown</td>\n",
       "      <td>English</td>\n",
       "      <td>10/1/2017 19:58</td>\n",
       "      <td>10/1/2017 19:59</td>\n",
       "      <td>1052</td>\n",
       "      <td>9636</td>\n",
       "      <td>253</td>\n",
       "      <td>NaN</td>\n",
       "      <td>Right</td>\n",
       "      <td>0</td>\n",
       "      <td>0</td>\n",
       "      <td>RightTroll</td>\n",
       "    </tr>\n",
       "    <tr>\n",
       "      <th>1</th>\n",
       "      <td>9.060000e+17</td>\n",
       "      <td>10_GOP</td>\n",
       "      <td>Marshawn Lynch arrives to game in anti-Trump s...</td>\n",
       "      <td>Unknown</td>\n",
       "      <td>English</td>\n",
       "      <td>10/1/2017 22:43</td>\n",
       "      <td>10/1/2017 22:43</td>\n",
       "      <td>1054</td>\n",
       "      <td>9637</td>\n",
       "      <td>254</td>\n",
       "      <td>NaN</td>\n",
       "      <td>Right</td>\n",
       "      <td>0</td>\n",
       "      <td>0</td>\n",
       "      <td>RightTroll</td>\n",
       "    </tr>\n",
       "    <tr>\n",
       "      <th>2</th>\n",
       "      <td>9.060000e+17</td>\n",
       "      <td>10_GOP</td>\n",
       "      <td>Daughter of fallen Navy Sailor delivers powerf...</td>\n",
       "      <td>Unknown</td>\n",
       "      <td>English</td>\n",
       "      <td>10/1/2017 22:50</td>\n",
       "      <td>10/1/2017 22:51</td>\n",
       "      <td>1054</td>\n",
       "      <td>9637</td>\n",
       "      <td>255</td>\n",
       "      <td>RETWEET</td>\n",
       "      <td>Right</td>\n",
       "      <td>0</td>\n",
       "      <td>1</td>\n",
       "      <td>RightTroll</td>\n",
       "    </tr>\n",
       "  </tbody>\n",
       "</table>\n",
       "</div>"
      ],
      "text/plain": [
       "   external_author_id  author  \\\n",
       "0        9.060000e+17  10_GOP   \n",
       "1        9.060000e+17  10_GOP   \n",
       "2        9.060000e+17  10_GOP   \n",
       "\n",
       "                                             content   region language  \\\n",
       "0  \"We have a sitting Democrat US Senator on tria...  Unknown  English   \n",
       "1  Marshawn Lynch arrives to game in anti-Trump s...  Unknown  English   \n",
       "2  Daughter of fallen Navy Sailor delivers powerf...  Unknown  English   \n",
       "\n",
       "      publish_date   harvested_date  following  followers  updates post_type  \\\n",
       "0  10/1/2017 19:58  10/1/2017 19:59       1052       9636      253       NaN   \n",
       "1  10/1/2017 22:43  10/1/2017 22:43       1054       9637      254       NaN   \n",
       "2  10/1/2017 22:50  10/1/2017 22:51       1054       9637      255   RETWEET   \n",
       "\n",
       "  account_type  new_june_2018  retweet account_category  \n",
       "0        Right              0        0       RightTroll  \n",
       "1        Right              0        0       RightTroll  \n",
       "2        Right              0        1       RightTroll  "
      ]
     },
     "execution_count": 5,
     "metadata": {},
     "output_type": "execute_result"
    }
   ],
   "source": [
    "#viewing our data\n",
    "troll_data.head(3)"
   ]
  },
  {
   "cell_type": "code",
   "execution_count": 6,
   "metadata": {},
   "outputs": [
    {
     "data": {
      "text/plain": [
       "post_type             1662425\n",
       "region                   8843\n",
       "account_type              363\n",
       "external_author_id          4\n",
       "content                     1\n",
       "account_category            0\n",
       "retweet                     0\n",
       "new_june_2018               0\n",
       "updates                     0\n",
       "followers                   0\n",
       "following                   0\n",
       "harvested_date              0\n",
       "publish_date                0\n",
       "language                    0\n",
       "author                      0\n",
       "dtype: int64"
      ]
     },
     "execution_count": 6,
     "metadata": {},
     "output_type": "execute_result"
    }
   ],
   "source": [
    "#checking for some null values\n",
    "\n",
    "troll_data.isnull().sum().sort_values(ascending = False)"
   ]
  },
  {
   "cell_type": "code",
   "execution_count": 7,
   "metadata": {},
   "outputs": [
    {
     "data": {
      "text/plain": [
       "2848"
      ]
     },
     "execution_count": 7,
     "metadata": {},
     "output_type": "execute_result"
    }
   ],
   "source": [
    "#lets check number of unique authors are there\n",
    "\n",
    "len(troll_data.author.unique())\n"
   ]
  },
  {
   "cell_type": "code",
   "execution_count": 8,
   "metadata": {},
   "outputs": [
    {
     "data": {
      "text/plain": [
       "post_type             1662424\n",
       "region                   8843\n",
       "account_type              363\n",
       "external_author_id          4\n",
       "account_category            0\n",
       "retweet                     0\n",
       "new_june_2018               0\n",
       "updates                     0\n",
       "followers                   0\n",
       "following                   0\n",
       "harvested_date              0\n",
       "publish_date                0\n",
       "language                    0\n",
       "content                     0\n",
       "author                      0\n",
       "dtype: int64"
      ]
     },
     "execution_count": 8,
     "metadata": {},
     "output_type": "execute_result"
    }
   ],
   "source": [
    "#Since we have use to the content so lets remove the null value of content\n",
    "\n",
    "troll_data.dropna(subset= ['content'],inplace=True)\n",
    "\n",
    "#again checking for NAN\n",
    "troll_data.isnull().sum().sort_values(ascending = False)\n"
   ]
  },
  {
   "cell_type": "code",
   "execution_count": 9,
   "metadata": {},
   "outputs": [
    {
     "name": "stdout",
     "output_type": "stream",
     "text": [
      "<class 'pandas.core.frame.DataFrame'>\n",
      "Int64Index: 2973370 entries, 0 to 37554\n",
      "Data columns (total 15 columns):\n",
      "external_author_id    float64\n",
      "author                object\n",
      "content               object\n",
      "region                object\n",
      "language              object\n",
      "publish_date          object\n",
      "harvested_date        object\n",
      "following             int64\n",
      "followers             int64\n",
      "updates               int64\n",
      "post_type             object\n",
      "account_type          object\n",
      "new_june_2018         int64\n",
      "retweet               int64\n",
      "account_category      object\n",
      "dtypes: float64(1), int64(5), object(9)\n",
      "memory usage: 363.0+ MB\n"
     ]
    }
   ],
   "source": [
    "#look at the types of data included in each field.\n",
    "\n",
    "troll_data.info()"
   ]
  },
  {
   "cell_type": "code",
   "execution_count": 10,
   "metadata": {},
   "outputs": [],
   "source": [
    "#removing some columns with are not usefull for data preparation\n",
    "troll_data.drop(labels=['external_author_id', 'harvested_date'],axis=1,inplace=True) "
   ]
  },
  {
   "cell_type": "code",
   "execution_count": 11,
   "metadata": {},
   "outputs": [],
   "source": [
    "#checking the data\n",
    "troll_data.drop(labels = ['author'],axis=1,inplace = True)"
   ]
  },
  {
   "cell_type": "code",
   "execution_count": 12,
   "metadata": {},
   "outputs": [
    {
     "data": {
      "text/html": [
       "<div>\n",
       "<style scoped>\n",
       "    .dataframe tbody tr th:only-of-type {\n",
       "        vertical-align: middle;\n",
       "    }\n",
       "\n",
       "    .dataframe tbody tr th {\n",
       "        vertical-align: top;\n",
       "    }\n",
       "\n",
       "    .dataframe thead th {\n",
       "        text-align: right;\n",
       "    }\n",
       "</style>\n",
       "<table border=\"1\" class=\"dataframe\">\n",
       "  <thead>\n",
       "    <tr style=\"text-align: right;\">\n",
       "      <th></th>\n",
       "      <th>content</th>\n",
       "      <th>region</th>\n",
       "      <th>language</th>\n",
       "      <th>publish_date</th>\n",
       "      <th>following</th>\n",
       "      <th>followers</th>\n",
       "      <th>updates</th>\n",
       "      <th>post_type</th>\n",
       "      <th>account_type</th>\n",
       "      <th>new_june_2018</th>\n",
       "      <th>retweet</th>\n",
       "      <th>account_category</th>\n",
       "    </tr>\n",
       "  </thead>\n",
       "  <tbody>\n",
       "    <tr>\n",
       "      <th>0</th>\n",
       "      <td>\"We have a sitting Democrat US Senator on tria...</td>\n",
       "      <td>Unknown</td>\n",
       "      <td>English</td>\n",
       "      <td>10/1/2017 19:58</td>\n",
       "      <td>1052</td>\n",
       "      <td>9636</td>\n",
       "      <td>253</td>\n",
       "      <td>NaN</td>\n",
       "      <td>Right</td>\n",
       "      <td>0</td>\n",
       "      <td>0</td>\n",
       "      <td>RightTroll</td>\n",
       "    </tr>\n",
       "    <tr>\n",
       "      <th>1</th>\n",
       "      <td>Marshawn Lynch arrives to game in anti-Trump s...</td>\n",
       "      <td>Unknown</td>\n",
       "      <td>English</td>\n",
       "      <td>10/1/2017 22:43</td>\n",
       "      <td>1054</td>\n",
       "      <td>9637</td>\n",
       "      <td>254</td>\n",
       "      <td>NaN</td>\n",
       "      <td>Right</td>\n",
       "      <td>0</td>\n",
       "      <td>0</td>\n",
       "      <td>RightTroll</td>\n",
       "    </tr>\n",
       "    <tr>\n",
       "      <th>2</th>\n",
       "      <td>Daughter of fallen Navy Sailor delivers powerf...</td>\n",
       "      <td>Unknown</td>\n",
       "      <td>English</td>\n",
       "      <td>10/1/2017 22:50</td>\n",
       "      <td>1054</td>\n",
       "      <td>9637</td>\n",
       "      <td>255</td>\n",
       "      <td>RETWEET</td>\n",
       "      <td>Right</td>\n",
       "      <td>0</td>\n",
       "      <td>1</td>\n",
       "      <td>RightTroll</td>\n",
       "    </tr>\n",
       "    <tr>\n",
       "      <th>3</th>\n",
       "      <td>JUST IN: President Trump dedicates Presidents ...</td>\n",
       "      <td>Unknown</td>\n",
       "      <td>English</td>\n",
       "      <td>10/1/2017 23:52</td>\n",
       "      <td>1062</td>\n",
       "      <td>9642</td>\n",
       "      <td>256</td>\n",
       "      <td>NaN</td>\n",
       "      <td>Right</td>\n",
       "      <td>0</td>\n",
       "      <td>0</td>\n",
       "      <td>RightTroll</td>\n",
       "    </tr>\n",
       "    <tr>\n",
       "      <th>4</th>\n",
       "      <td>19,000 RESPECTING our National Anthem! #StandF...</td>\n",
       "      <td>Unknown</td>\n",
       "      <td>English</td>\n",
       "      <td>10/1/2017 2:13</td>\n",
       "      <td>1050</td>\n",
       "      <td>9645</td>\n",
       "      <td>246</td>\n",
       "      <td>RETWEET</td>\n",
       "      <td>Right</td>\n",
       "      <td>0</td>\n",
       "      <td>1</td>\n",
       "      <td>RightTroll</td>\n",
       "    </tr>\n",
       "  </tbody>\n",
       "</table>\n",
       "</div>"
      ],
      "text/plain": [
       "                                             content   region language  \\\n",
       "0  \"We have a sitting Democrat US Senator on tria...  Unknown  English   \n",
       "1  Marshawn Lynch arrives to game in anti-Trump s...  Unknown  English   \n",
       "2  Daughter of fallen Navy Sailor delivers powerf...  Unknown  English   \n",
       "3  JUST IN: President Trump dedicates Presidents ...  Unknown  English   \n",
       "4  19,000 RESPECTING our National Anthem! #StandF...  Unknown  English   \n",
       "\n",
       "      publish_date  following  followers  updates post_type account_type  \\\n",
       "0  10/1/2017 19:58       1052       9636      253       NaN        Right   \n",
       "1  10/1/2017 22:43       1054       9637      254       NaN        Right   \n",
       "2  10/1/2017 22:50       1054       9637      255   RETWEET        Right   \n",
       "3  10/1/2017 23:52       1062       9642      256       NaN        Right   \n",
       "4   10/1/2017 2:13       1050       9645      246   RETWEET        Right   \n",
       "\n",
       "   new_june_2018  retweet account_category  \n",
       "0              0        0       RightTroll  \n",
       "1              0        0       RightTroll  \n",
       "2              0        1       RightTroll  \n",
       "3              0        0       RightTroll  \n",
       "4              0        1       RightTroll  "
      ]
     },
     "execution_count": 12,
     "metadata": {},
     "output_type": "execute_result"
    }
   ],
   "source": [
    "#review our data\n",
    "troll_data.head()"
   ]
  },
  {
   "cell_type": "code",
   "execution_count": 13,
   "metadata": {},
   "outputs": [
    {
     "data": {
      "text/plain": [
       "array(['English', 'Russian', 'Serbian', 'Ukrainian', 'Tagalog (Filipino)',\n",
       "       'Albanian', 'Italian', 'Romanian', 'Spanish', 'Catalan', 'German',\n",
       "       'Estonian', 'French', 'Norwegian', 'Vietnamese', 'Dutch', 'Arabic',\n",
       "       'Uzbek', 'Bulgarian', 'Macedonian', 'Farsi (Persian)', 'Turkish',\n",
       "       'LANGUAGE UNDEFINED', 'Czech', 'Somali', 'Lithuanian', 'Croatian',\n",
       "       'Slovak', 'Icelandic', 'Slovenian', 'Japanese', 'Indonesian',\n",
       "       'Pushto', 'Hungarian', 'Finnish', 'Latvian', 'Portuguese',\n",
       "       'Danish', 'Swedish', 'Malay', 'Polish', 'Korean', 'Hebrew', 'Urdu',\n",
       "       'Kurdish', 'Hindi', 'Greek', 'Simplified Chinese', 'Thai',\n",
       "       'Bengali', 'Traditional Chinese', 'Gujarati', 'Kannada', 'Tamil',\n",
       "       'Telugu', 'Malayalam'], dtype=object)"
      ]
     },
     "execution_count": 13,
     "metadata": {},
     "output_type": "execute_result"
    }
   ],
   "source": [
    "troll_data.language.unique()"
   ]
  },
  {
   "cell_type": "code",
   "execution_count": 14,
   "metadata": {},
   "outputs": [],
   "source": [
    "#there are many languages in the data soupdate data to only contain english tweets \n",
    "troll_data = troll_data.loc[troll_data.language=='English']"
   ]
  },
  {
   "cell_type": "code",
   "execution_count": 15,
   "metadata": {},
   "outputs": [],
   "source": [
    "troll_data.drop(['language'],axis=1,inplace = True)"
   ]
  },
  {
   "cell_type": "markdown",
   "metadata": {},
   "source": [
    "After Removing all the null values"
   ]
  },
  {
   "cell_type": "code",
   "execution_count": 16,
   "metadata": {},
   "outputs": [
    {
     "data": {
      "text/plain": [
       "array(['Unknown', 'United States', 'Italy', nan, 'United Arab Emirates',\n",
       "       'Israel', 'Azerbaijan', 'United Kingdom', 'Russian Federation',\n",
       "       'Iraq', 'Germany', 'France', 'Ukraine', 'Serbia', 'Egypt',\n",
       "       'Hong Kong', 'Belarus', 'Malaysia', 'Afghanistan', 'Mexico',\n",
       "       'Canada', 'Iran, Islamic Republic of', 'Greece', 'Czech Republic',\n",
       "       'Finland', 'Latvia', 'Spain', 'Sweden', 'Denmark', 'Switzerland'],\n",
       "      dtype=object)"
      ]
     },
     "execution_count": 16,
     "metadata": {},
     "output_type": "execute_result"
    }
   ],
   "source": [
    "troll_data.region.unique()"
   ]
  },
  {
   "cell_type": "code",
   "execution_count": 17,
   "metadata": {},
   "outputs": [
    {
     "data": {
      "text/plain": [
       "United States                1849686\n",
       "Unknown                       246934\n",
       "United Kingdom                 16664\n",
       "Azerbaijan                      7614\n",
       "Germany                         1285\n",
       "Russian Federation              1146\n",
       "Italy                           1125\n",
       "Canada                           600\n",
       "Belarus                          494\n",
       "Afghanistan                      461\n",
       "Iraq                             459\n",
       "Israel                           409\n",
       "United Arab Emirates             371\n",
       "Ukraine                          231\n",
       "Spain                             72\n",
       "France                            67\n",
       "Egypt                             59\n",
       "Sweden                            43\n",
       "Mexico                            41\n",
       "Iran, Islamic Republic of         20\n",
       "Greece                            14\n",
       "Finland                            8\n",
       "Malaysia                           4\n",
       "Latvia                             3\n",
       "Serbia                             2\n",
       "Czech Republic                     2\n",
       "Switzerland                        1\n",
       "Denmark                            1\n",
       "Hong Kong                          1\n",
       "Name: region, dtype: int64"
      ]
     },
     "execution_count": 17,
     "metadata": {},
     "output_type": "execute_result"
    }
   ],
   "source": [
    "#checking the value count of all the region\n",
    "\n",
    "troll_data.region.value_counts()"
   ]
  },
  {
   "cell_type": "code",
   "execution_count": 18,
   "metadata": {},
   "outputs": [],
   "source": [
    "#about 87% of the region is united state so I'll go with the united state only\n",
    "\n",
    "troll_data = troll_data.loc[troll_data.region=='United States']"
   ]
  },
  {
   "cell_type": "code",
   "execution_count": 19,
   "metadata": {},
   "outputs": [
    {
     "data": {
      "text/html": [
       "<div>\n",
       "<style scoped>\n",
       "    .dataframe tbody tr th:only-of-type {\n",
       "        vertical-align: middle;\n",
       "    }\n",
       "\n",
       "    .dataframe tbody tr th {\n",
       "        vertical-align: top;\n",
       "    }\n",
       "\n",
       "    .dataframe thead th {\n",
       "        text-align: right;\n",
       "    }\n",
       "</style>\n",
       "<table border=\"1\" class=\"dataframe\">\n",
       "  <thead>\n",
       "    <tr style=\"text-align: right;\">\n",
       "      <th></th>\n",
       "      <th>content</th>\n",
       "      <th>region</th>\n",
       "      <th>publish_date</th>\n",
       "      <th>following</th>\n",
       "      <th>followers</th>\n",
       "      <th>updates</th>\n",
       "      <th>post_type</th>\n",
       "      <th>account_type</th>\n",
       "      <th>new_june_2018</th>\n",
       "      <th>retweet</th>\n",
       "      <th>account_category</th>\n",
       "    </tr>\n",
       "  </thead>\n",
       "  <tbody>\n",
       "    <tr>\n",
       "      <th>425</th>\n",
       "      <td>#FoodPoisoning is not a joke! #Walmart #KochFa...</td>\n",
       "      <td>United States</td>\n",
       "      <td>11/26/2015 22:20</td>\n",
       "      <td>48</td>\n",
       "      <td>40</td>\n",
       "      <td>394</td>\n",
       "      <td>RETWEET</td>\n",
       "      <td>Koch</td>\n",
       "      <td>0</td>\n",
       "      <td>1</td>\n",
       "      <td>Fearmonger</td>\n",
       "    </tr>\n",
       "    <tr>\n",
       "      <th>426</th>\n",
       "      <td>Thanks God that #turkey i ate few days ago was...</td>\n",
       "      <td>United States</td>\n",
       "      <td>11/26/2015 22:35</td>\n",
       "      <td>48</td>\n",
       "      <td>40</td>\n",
       "      <td>395</td>\n",
       "      <td>RETWEET</td>\n",
       "      <td>Koch</td>\n",
       "      <td>0</td>\n",
       "      <td>1</td>\n",
       "      <td>Fearmonger</td>\n",
       "    </tr>\n",
       "    <tr>\n",
       "      <th>428</th>\n",
       "      <td>who's got the worst make up ever, don't tell m...</td>\n",
       "      <td>United States</td>\n",
       "      <td>5/25/2015 12:38</td>\n",
       "      <td>59</td>\n",
       "      <td>51</td>\n",
       "      <td>352</td>\n",
       "      <td>NaN</td>\n",
       "      <td>Koch</td>\n",
       "      <td>0</td>\n",
       "      <td>0</td>\n",
       "      <td>Fearmonger</td>\n",
       "    </tr>\n",
       "    <tr>\n",
       "      <th>429</th>\n",
       "      <td>I hurt easy, I just don't show it. You can hur...</td>\n",
       "      <td>United States</td>\n",
       "      <td>5/25/2015 12:38</td>\n",
       "      <td>59</td>\n",
       "      <td>51</td>\n",
       "      <td>354</td>\n",
       "      <td>NaN</td>\n",
       "      <td>Koch</td>\n",
       "      <td>0</td>\n",
       "      <td>0</td>\n",
       "      <td>Fearmonger</td>\n",
       "    </tr>\n",
       "    <tr>\n",
       "      <th>430</th>\n",
       "      <td>« The young are permanently in a state resembl...</td>\n",
       "      <td>United States</td>\n",
       "      <td>5/25/2015 12:39</td>\n",
       "      <td>59</td>\n",
       "      <td>51</td>\n",
       "      <td>356</td>\n",
       "      <td>NaN</td>\n",
       "      <td>Koch</td>\n",
       "      <td>0</td>\n",
       "      <td>0</td>\n",
       "      <td>Fearmonger</td>\n",
       "    </tr>\n",
       "  </tbody>\n",
       "</table>\n",
       "</div>"
      ],
      "text/plain": [
       "                                               content         region  \\\n",
       "425  #FoodPoisoning is not a joke! #Walmart #KochFa...  United States   \n",
       "426  Thanks God that #turkey i ate few days ago was...  United States   \n",
       "428  who's got the worst make up ever, don't tell m...  United States   \n",
       "429  I hurt easy, I just don't show it. You can hur...  United States   \n",
       "430  « The young are permanently in a state resembl...  United States   \n",
       "\n",
       "         publish_date  following  followers  updates post_type account_type  \\\n",
       "425  11/26/2015 22:20         48         40      394   RETWEET         Koch   \n",
       "426  11/26/2015 22:35         48         40      395   RETWEET         Koch   \n",
       "428   5/25/2015 12:38         59         51      352       NaN         Koch   \n",
       "429   5/25/2015 12:38         59         51      354       NaN         Koch   \n",
       "430   5/25/2015 12:39         59         51      356       NaN         Koch   \n",
       "\n",
       "     new_june_2018  retweet account_category  \n",
       "425              0        1       Fearmonger  \n",
       "426              0        1       Fearmonger  \n",
       "428              0        0       Fearmonger  \n",
       "429              0        0       Fearmonger  \n",
       "430              0        0       Fearmonger  "
      ]
     },
     "execution_count": 19,
     "metadata": {},
     "output_type": "execute_result"
    }
   ],
   "source": [
    "#revisiting the null values\n",
    "troll_data.head()"
   ]
  },
  {
   "cell_type": "code",
   "execution_count": 20,
   "metadata": {},
   "outputs": [
    {
     "data": {
      "text/plain": [
       "(1849686, 11)"
      ]
     },
     "execution_count": 20,
     "metadata": {},
     "output_type": "execute_result"
    }
   ],
   "source": [
    "troll_data.shape"
   ]
  },
  {
   "cell_type": "code",
   "execution_count": 21,
   "metadata": {},
   "outputs": [],
   "source": [
    "#loading the negative labelled (real people tweets) data\n",
    "\n",
    "negative_data = pd.read_csv('tweets-2016-10000-textonly.txt',delimiter='\\t')"
   ]
  },
  {
   "cell_type": "code",
   "execution_count": 22,
   "metadata": {},
   "outputs": [
    {
     "data": {
      "text/html": [
       "<div>\n",
       "<style scoped>\n",
       "    .dataframe tbody tr th:only-of-type {\n",
       "        vertical-align: middle;\n",
       "    }\n",
       "\n",
       "    .dataframe tbody tr th {\n",
       "        vertical-align: top;\n",
       "    }\n",
       "\n",
       "    .dataframe thead th {\n",
       "        text-align: right;\n",
       "    }\n",
       "</style>\n",
       "<table border=\"1\" class=\"dataframe\">\n",
       "  <thead>\n",
       "    <tr style=\"text-align: right;\">\n",
       "      <th></th>\n",
       "      <th>Leaked records show Trump may have avoided taxes for 18 years: Washington – Report said that Donald Trump, U.... https://t.co/asoKboXz3V</th>\n",
       "    </tr>\n",
       "  </thead>\n",
       "  <tbody>\n",
       "    <tr>\n",
       "      <th>0</th>\n",
       "      <td>Donald Trump vs. Hillary Clinton Debate Cold O...</td>\n",
       "    </tr>\n",
       "    <tr>\n",
       "      <th>1</th>\n",
       "      <td>@realDonaldTrump The need is to blow off the \"...</td>\n",
       "    </tr>\n",
       "    <tr>\n",
       "      <th>2</th>\n",
       "      <td>US-Medien: Trump zahlte womöglich jahrelang ke...</td>\n",
       "    </tr>\n",
       "    <tr>\n",
       "      <th>3</th>\n",
       "      <td>#amjoy #cnn #msnbc #Trump has 2 words for #dep...</td>\n",
       "    </tr>\n",
       "    <tr>\n",
       "      <th>4</th>\n",
       "      <td>and you people who can't  good old boy loans a...</td>\n",
       "    </tr>\n",
       "  </tbody>\n",
       "</table>\n",
       "</div>"
      ],
      "text/plain": [
       "  Leaked records show Trump may have avoided taxes for 18 years: Washington – Report said that Donald Trump, U.... https://t.co/asoKboXz3V\n",
       "0  Donald Trump vs. Hillary Clinton Debate Cold O...                                                                                      \n",
       "1  @realDonaldTrump The need is to blow off the \"...                                                                                      \n",
       "2  US-Medien: Trump zahlte womöglich jahrelang ke...                                                                                      \n",
       "3  #amjoy #cnn #msnbc #Trump has 2 words for #dep...                                                                                      \n",
       "4  and you people who can't  good old boy loans a...                                                                                      "
      ]
     },
     "execution_count": 22,
     "metadata": {},
     "output_type": "execute_result"
    }
   ],
   "source": [
    "negative_data.head()"
   ]
  },
  {
   "cell_type": "code",
   "execution_count": 23,
   "metadata": {},
   "outputs": [],
   "source": [
    "\n",
    "negative_data.rename(columns={\"Leaked records show Trump may have avoided taxes for 18 years: Washington – Report said that Donald Trump, U.... https://t.co/asoKboXz3V\" : \"content\"},inplace=True)"
   ]
  },
  {
   "cell_type": "code",
   "execution_count": 24,
   "metadata": {},
   "outputs": [
    {
     "data": {
      "text/html": [
       "<div>\n",
       "<style scoped>\n",
       "    .dataframe tbody tr th:only-of-type {\n",
       "        vertical-align: middle;\n",
       "    }\n",
       "\n",
       "    .dataframe tbody tr th {\n",
       "        vertical-align: top;\n",
       "    }\n",
       "\n",
       "    .dataframe thead th {\n",
       "        text-align: right;\n",
       "    }\n",
       "</style>\n",
       "<table border=\"1\" class=\"dataframe\">\n",
       "  <thead>\n",
       "    <tr style=\"text-align: right;\">\n",
       "      <th></th>\n",
       "      <th>content</th>\n",
       "    </tr>\n",
       "  </thead>\n",
       "  <tbody>\n",
       "    <tr>\n",
       "      <th>0</th>\n",
       "      <td>Donald Trump vs. Hillary Clinton Debate Cold O...</td>\n",
       "    </tr>\n",
       "    <tr>\n",
       "      <th>1</th>\n",
       "      <td>@realDonaldTrump The need is to blow off the \"...</td>\n",
       "    </tr>\n",
       "    <tr>\n",
       "      <th>2</th>\n",
       "      <td>US-Medien: Trump zahlte womöglich jahrelang ke...</td>\n",
       "    </tr>\n",
       "    <tr>\n",
       "      <th>3</th>\n",
       "      <td>#amjoy #cnn #msnbc #Trump has 2 words for #dep...</td>\n",
       "    </tr>\n",
       "    <tr>\n",
       "      <th>4</th>\n",
       "      <td>and you people who can't  good old boy loans a...</td>\n",
       "    </tr>\n",
       "  </tbody>\n",
       "</table>\n",
       "</div>"
      ],
      "text/plain": [
       "                                             content\n",
       "0  Donald Trump vs. Hillary Clinton Debate Cold O...\n",
       "1  @realDonaldTrump The need is to blow off the \"...\n",
       "2  US-Medien: Trump zahlte womöglich jahrelang ke...\n",
       "3  #amjoy #cnn #msnbc #Trump has 2 words for #dep...\n",
       "4  and you people who can't  good old boy loans a..."
      ]
     },
     "execution_count": 24,
     "metadata": {},
     "output_type": "execute_result"
    }
   ],
   "source": [
    "negative_data.head()\n",
    "\n",
    "\n",
    "\n"
   ]
  },
  {
   "cell_type": "code",
   "execution_count": 25,
   "metadata": {},
   "outputs": [
    {
     "data": {
      "text/plain": [
       "7578"
      ]
     },
     "execution_count": 25,
     "metadata": {},
     "output_type": "execute_result"
    }
   ],
   "source": [
    "len(negative_data)"
   ]
  },
  {
   "cell_type": "markdown",
   "metadata": {},
   "source": [
    "Since we have only 7578 negative labell data with respect 1.8 Millon positive labell data so I will slice it"
   ]
  },
  {
   "cell_type": "code",
   "execution_count": 26,
   "metadata": {},
   "outputs": [
    {
     "data": {
      "text/plain": [
       "content                   0\n",
       "region                    0\n",
       "publish_date              0\n",
       "following                 0\n",
       "followers                 0\n",
       "updates                   0\n",
       "post_type           1027093\n",
       "account_type            354\n",
       "new_june_2018             0\n",
       "retweet                   0\n",
       "account_category          0\n",
       "dtype: int64"
      ]
     },
     "execution_count": 26,
     "metadata": {},
     "output_type": "execute_result"
    }
   ],
   "source": [
    "troll_data.isnull().sum()"
   ]
  },
  {
   "cell_type": "code",
   "execution_count": 27,
   "metadata": {},
   "outputs": [
    {
     "data": {
      "text/plain": [
       "array(['Koch', 'Right', 'left', 'Russian', '?', 'Hashtager', 'Arabic',\n",
       "       'Commercial', 'local', 'German', 'ZAPOROSHIA', 'news', 'right',\n",
       "       'Ebola ', nan, 'French'], dtype=object)"
      ]
     },
     "execution_count": 27,
     "metadata": {},
     "output_type": "execute_result"
    }
   ],
   "source": [
    "troll_data.account_type.unique()"
   ]
  },
  {
   "cell_type": "code",
   "execution_count": 28,
   "metadata": {},
   "outputs": [],
   "source": [
    "#some values are dupplicates like 'left' and 'Left' ,and replace nan values with unknown\n",
    "\n",
    "\n",
    "troll_data['account_type'].fillna(value='Unknown', inplace = True)\n",
    "troll_data['account_type'].replace({'?': 'Unknown', 'right': 'Right', \n",
    "                            'left': 'Left', 'news': 'News', \n",
    "                           'local': 'Local', 'ZAPOROSHIA': 'Zaporoshia'}, \n",
    "                           inplace = True)\n"
   ]
  },
  {
   "cell_type": "code",
   "execution_count": 29,
   "metadata": {},
   "outputs": [
    {
     "data": {
      "text/plain": [
       "array(['RETWEET', nan, 'QUOTE_TWEET'], dtype=object)"
      ]
     },
     "execution_count": 29,
     "metadata": {},
     "output_type": "execute_result"
    }
   ],
   "source": [
    "troll_data.post_type.unique()"
   ]
  },
  {
   "cell_type": "code",
   "execution_count": 30,
   "metadata": {},
   "outputs": [],
   "source": [
    "troll_data['post_type'].fillna(value='NOT_RETWEET', inplace = True)"
   ]
  },
  {
   "cell_type": "code",
   "execution_count": 31,
   "metadata": {},
   "outputs": [],
   "source": [
    "#rechecking the null values"
   ]
  },
  {
   "cell_type": "code",
   "execution_count": 32,
   "metadata": {},
   "outputs": [
    {
     "data": {
      "text/plain": [
       "content             0\n",
       "region              0\n",
       "publish_date        0\n",
       "following           0\n",
       "followers           0\n",
       "updates             0\n",
       "post_type           0\n",
       "account_type        0\n",
       "new_june_2018       0\n",
       "retweet             0\n",
       "account_category    0\n",
       "dtype: int64"
      ]
     },
     "execution_count": 32,
     "metadata": {},
     "output_type": "execute_result"
    }
   ],
   "source": [
    "troll_data.isnull().sum()"
   ]
  },
  {
   "cell_type": "code",
   "execution_count": 33,
   "metadata": {},
   "outputs": [],
   "source": [
    "troll_data.drop(['publish_date'],axis = 1,inplace = True)"
   ]
  },
  {
   "cell_type": "code",
   "execution_count": 34,
   "metadata": {},
   "outputs": [],
   "source": [
    "#let us slice random 10000 of our total data to combine with negative data\n",
    "\n",
    "positive_data = troll_data.take(np.random.permutation(len(troll_data))[:10000])"
   ]
  },
  {
   "cell_type": "code",
   "execution_count": 35,
   "metadata": {},
   "outputs": [
    {
     "data": {
      "text/html": [
       "<div>\n",
       "<style scoped>\n",
       "    .dataframe tbody tr th:only-of-type {\n",
       "        vertical-align: middle;\n",
       "    }\n",
       "\n",
       "    .dataframe tbody tr th {\n",
       "        vertical-align: top;\n",
       "    }\n",
       "\n",
       "    .dataframe thead th {\n",
       "        text-align: right;\n",
       "    }\n",
       "</style>\n",
       "<table border=\"1\" class=\"dataframe\">\n",
       "  <thead>\n",
       "    <tr style=\"text-align: right;\">\n",
       "      <th></th>\n",
       "      <th>content</th>\n",
       "      <th>region</th>\n",
       "      <th>following</th>\n",
       "      <th>followers</th>\n",
       "      <th>updates</th>\n",
       "      <th>post_type</th>\n",
       "      <th>account_type</th>\n",
       "      <th>new_june_2018</th>\n",
       "      <th>retweet</th>\n",
       "      <th>account_category</th>\n",
       "    </tr>\n",
       "  </thead>\n",
       "  <tbody>\n",
       "    <tr>\n",
       "      <th>150980</th>\n",
       "      <td>My wife is off to Philly for the PA Conference...</td>\n",
       "      <td>United States</td>\n",
       "      <td>415</td>\n",
       "      <td>780</td>\n",
       "      <td>1232</td>\n",
       "      <td>RETWEET</td>\n",
       "      <td>Left</td>\n",
       "      <td>0</td>\n",
       "      <td>1</td>\n",
       "      <td>LeftTroll</td>\n",
       "    </tr>\n",
       "    <tr>\n",
       "      <th>262379</th>\n",
       "      <td>Motion seeks to call Donta Allen to stand in M...</td>\n",
       "      <td>United States</td>\n",
       "      <td>6739</td>\n",
       "      <td>6136</td>\n",
       "      <td>14136</td>\n",
       "      <td>NOT_RETWEET</td>\n",
       "      <td>Local</td>\n",
       "      <td>0</td>\n",
       "      <td>0</td>\n",
       "      <td>NewsFeed</td>\n",
       "    </tr>\n",
       "    <tr>\n",
       "      <th>18917</th>\n",
       "      <td>LSU target Devin White sets announcement date ...</td>\n",
       "      <td>United States</td>\n",
       "      <td>16857</td>\n",
       "      <td>26007</td>\n",
       "      <td>36194</td>\n",
       "      <td>NOT_RETWEET</td>\n",
       "      <td>Local</td>\n",
       "      <td>0</td>\n",
       "      <td>0</td>\n",
       "      <td>NewsFeed</td>\n",
       "    </tr>\n",
       "  </tbody>\n",
       "</table>\n",
       "</div>"
      ],
      "text/plain": [
       "                                                  content         region  \\\n",
       "150980  My wife is off to Philly for the PA Conference...  United States   \n",
       "262379  Motion seeks to call Donta Allen to stand in M...  United States   \n",
       "18917   LSU target Devin White sets announcement date ...  United States   \n",
       "\n",
       "        following  followers  updates    post_type account_type  \\\n",
       "150980        415        780     1232      RETWEET         Left   \n",
       "262379       6739       6136    14136  NOT_RETWEET        Local   \n",
       "18917       16857      26007    36194  NOT_RETWEET        Local   \n",
       "\n",
       "        new_june_2018  retweet account_category  \n",
       "150980              0        1        LeftTroll  \n",
       "262379              0        0         NewsFeed  \n",
       "18917               0        0         NewsFeed  "
      ]
     },
     "execution_count": 35,
     "metadata": {},
     "output_type": "execute_result"
    }
   ],
   "source": [
    "positive_data.head(3)"
   ]
  },
  {
   "cell_type": "markdown",
   "metadata": {},
   "source": [
    "# EDA"
   ]
  },
  {
   "cell_type": "code",
   "execution_count": 36,
   "metadata": {},
   "outputs": [],
   "source": [
    "#Since we have took 10000 random values \n",
    "# check if this random dataset is equally distributed as of original data"
   ]
  },
  {
   "cell_type": "code",
   "execution_count": 37,
   "metadata": {},
   "outputs": [
    {
     "data": {
      "text/plain": [
       "array([[<matplotlib.axes._subplots.AxesSubplot object at 0x000000005366AF98>,\n",
       "        <matplotlib.axes._subplots.AxesSubplot object at 0x00000000461DC5C0>],\n",
       "       [<matplotlib.axes._subplots.AxesSubplot object at 0x0000000046209C50>,\n",
       "        <matplotlib.axes._subplots.AxesSubplot object at 0x000000004623A320>],\n",
       "       [<matplotlib.axes._subplots.AxesSubplot object at 0x00000000462809B0>,\n",
       "        <matplotlib.axes._subplots.AxesSubplot object at 0x00000000462809E8>]],\n",
       "      dtype=object)"
      ]
     },
     "execution_count": 37,
     "metadata": {},
     "output_type": "execute_result"
    },
    {
     "data": {
      "image/png": "[encoded data removed]",
      "text/plain": [
       "<Figure size 1152x576 with 6 Axes>"
      ]
     },
     "metadata": {},
     "output_type": "display_data"
    }
   ],
   "source": [
    "#original data\n",
    "troll_data.hist(figsize=(16,8))\n"
   ]
  },
  {
   "cell_type": "code",
   "execution_count": 38,
   "metadata": {},
   "outputs": [
    {
     "data": {
      "text/plain": [
       "array([[<matplotlib.axes._subplots.AxesSubplot object at 0x000000005461B9B0>,\n",
       "        <matplotlib.axes._subplots.AxesSubplot object at 0x0000000053D28A90>],\n",
       "       [<matplotlib.axes._subplots.AxesSubplot object at 0x00000000537B9160>,\n",
       "        <matplotlib.axes._subplots.AxesSubplot object at 0x00000000537DF7F0>],\n",
       "       [<matplotlib.axes._subplots.AxesSubplot object at 0x0000000053806E80>,\n",
       "        <matplotlib.axes._subplots.AxesSubplot object at 0x0000000053806EB8>]],\n",
       "      dtype=object)"
      ]
     },
     "execution_count": 38,
     "metadata": {},
     "output_type": "execute_result"
    },
    {
     "data": {
      "image/png": "[encoded data removed]",
      "text/plain": [
       "<Figure size 1152x576 with 6 Axes>"
      ]
     },
     "metadata": {},
     "output_type": "display_data"
    }
   ],
   "source": [
    "#sampled data (positive_data)\n",
    "\n",
    "#Check distribution\n",
    "positive_data.hist(figsize = (16,8))"
   ]
  },
  {
   "cell_type": "code",
   "execution_count": null,
   "metadata": {},
   "outputs": [],
   "source": [
    "\n"
   ]
  },
  {
   "cell_type": "code",
   "execution_count": null,
   "metadata": {},
   "outputs": [],
   "source": []
  },
  {
   "cell_type": "code",
   "execution_count": 39,
   "metadata": {},
   "outputs": [
    {
     "data": {
      "text/html": [
       "<div>\n",
       "<style scoped>\n",
       "    .dataframe tbody tr th:only-of-type {\n",
       "        vertical-align: middle;\n",
       "    }\n",
       "\n",
       "    .dataframe tbody tr th {\n",
       "        vertical-align: top;\n",
       "    }\n",
       "\n",
       "    .dataframe thead th {\n",
       "        text-align: right;\n",
       "    }\n",
       "</style>\n",
       "<table border=\"1\" class=\"dataframe\">\n",
       "  <thead>\n",
       "    <tr style=\"text-align: right;\">\n",
       "      <th></th>\n",
       "      <th>content</th>\n",
       "      <th>region</th>\n",
       "      <th>following</th>\n",
       "      <th>followers</th>\n",
       "      <th>updates</th>\n",
       "      <th>post_type</th>\n",
       "      <th>account_type</th>\n",
       "      <th>new_june_2018</th>\n",
       "      <th>retweet</th>\n",
       "      <th>account_category</th>\n",
       "    </tr>\n",
       "  </thead>\n",
       "  <tbody>\n",
       "    <tr>\n",
       "      <th>150980</th>\n",
       "      <td>My wife is off to Philly for the PA Conference...</td>\n",
       "      <td>United States</td>\n",
       "      <td>415</td>\n",
       "      <td>780</td>\n",
       "      <td>1232</td>\n",
       "      <td>RETWEET</td>\n",
       "      <td>Left</td>\n",
       "      <td>0</td>\n",
       "      <td>1</td>\n",
       "      <td>LeftTroll</td>\n",
       "    </tr>\n",
       "    <tr>\n",
       "      <th>262379</th>\n",
       "      <td>Motion seeks to call Donta Allen to stand in M...</td>\n",
       "      <td>United States</td>\n",
       "      <td>6739</td>\n",
       "      <td>6136</td>\n",
       "      <td>14136</td>\n",
       "      <td>NOT_RETWEET</td>\n",
       "      <td>Local</td>\n",
       "      <td>0</td>\n",
       "      <td>0</td>\n",
       "      <td>NewsFeed</td>\n",
       "    </tr>\n",
       "    <tr>\n",
       "      <th>18917</th>\n",
       "      <td>LSU target Devin White sets announcement date ...</td>\n",
       "      <td>United States</td>\n",
       "      <td>16857</td>\n",
       "      <td>26007</td>\n",
       "      <td>36194</td>\n",
       "      <td>NOT_RETWEET</td>\n",
       "      <td>Local</td>\n",
       "      <td>0</td>\n",
       "      <td>0</td>\n",
       "      <td>NewsFeed</td>\n",
       "    </tr>\n",
       "    <tr>\n",
       "      <th>109067</th>\n",
       "      <td>There should have been a rigorous background c...</td>\n",
       "      <td>United States</td>\n",
       "      <td>553</td>\n",
       "      <td>353</td>\n",
       "      <td>1102</td>\n",
       "      <td>RETWEET</td>\n",
       "      <td>Right</td>\n",
       "      <td>0</td>\n",
       "      <td>1</td>\n",
       "      <td>RightTroll</td>\n",
       "    </tr>\n",
       "    <tr>\n",
       "      <th>275075</th>\n",
       "      <td>#BadReasonsForALoan to get a degree in feminis...</td>\n",
       "      <td>United States</td>\n",
       "      <td>23301</td>\n",
       "      <td>65207</td>\n",
       "      <td>22063</td>\n",
       "      <td>NOT_RETWEET</td>\n",
       "      <td>Right</td>\n",
       "      <td>0</td>\n",
       "      <td>0</td>\n",
       "      <td>RightTroll</td>\n",
       "    </tr>\n",
       "  </tbody>\n",
       "</table>\n",
       "</div>"
      ],
      "text/plain": [
       "                                                  content         region  \\\n",
       "150980  My wife is off to Philly for the PA Conference...  United States   \n",
       "262379  Motion seeks to call Donta Allen to stand in M...  United States   \n",
       "18917   LSU target Devin White sets announcement date ...  United States   \n",
       "109067  There should have been a rigorous background c...  United States   \n",
       "275075  #BadReasonsForALoan to get a degree in feminis...  United States   \n",
       "\n",
       "        following  followers  updates    post_type account_type  \\\n",
       "150980        415        780     1232      RETWEET         Left   \n",
       "262379       6739       6136    14136  NOT_RETWEET        Local   \n",
       "18917       16857      26007    36194  NOT_RETWEET        Local   \n",
       "109067        553        353     1102      RETWEET        Right   \n",
       "275075      23301      65207    22063  NOT_RETWEET        Right   \n",
       "\n",
       "        new_june_2018  retweet account_category  \n",
       "150980              0        1        LeftTroll  \n",
       "262379              0        0         NewsFeed  \n",
       "18917               0        0         NewsFeed  \n",
       "109067              0        1       RightTroll  \n",
       "275075              0        0       RightTroll  "
      ]
     },
     "execution_count": 39,
     "metadata": {},
     "output_type": "execute_result"
    }
   ],
   "source": [
    "#perfect , our positive data is equally distributed as original data\n",
    "#let use postive data for further process\n",
    "\n",
    "positive_data.head()"
   ]
  },
  {
   "cell_type": "code",
   "execution_count": 40,
   "metadata": {},
   "outputs": [],
   "source": [
    "#use only content column\n",
    "\n",
    "positive_data = pd.DataFrame(positive_data.content)"
   ]
  },
  {
   "cell_type": "code",
   "execution_count": 41,
   "metadata": {},
   "outputs": [
    {
     "data": {
      "text/html": [
       "<div>\n",
       "<style scoped>\n",
       "    .dataframe tbody tr th:only-of-type {\n",
       "        vertical-align: middle;\n",
       "    }\n",
       "\n",
       "    .dataframe tbody tr th {\n",
       "        vertical-align: top;\n",
       "    }\n",
       "\n",
       "    .dataframe thead th {\n",
       "        text-align: right;\n",
       "    }\n",
       "</style>\n",
       "<table border=\"1\" class=\"dataframe\">\n",
       "  <thead>\n",
       "    <tr style=\"text-align: right;\">\n",
       "      <th></th>\n",
       "      <th>content</th>\n",
       "    </tr>\n",
       "  </thead>\n",
       "  <tbody>\n",
       "    <tr>\n",
       "      <th>150980</th>\n",
       "      <td>My wife is off to Philly for the PA Conference...</td>\n",
       "    </tr>\n",
       "    <tr>\n",
       "      <th>262379</th>\n",
       "      <td>Motion seeks to call Donta Allen to stand in M...</td>\n",
       "    </tr>\n",
       "    <tr>\n",
       "      <th>18917</th>\n",
       "      <td>LSU target Devin White sets announcement date ...</td>\n",
       "    </tr>\n",
       "    <tr>\n",
       "      <th>109067</th>\n",
       "      <td>There should have been a rigorous background c...</td>\n",
       "    </tr>\n",
       "    <tr>\n",
       "      <th>275075</th>\n",
       "      <td>#BadReasonsForALoan to get a degree in feminis...</td>\n",
       "    </tr>\n",
       "    <tr>\n",
       "      <th>190532</th>\n",
       "      <td>US-Led Air Coalition Drops Leaflets Over Islam...</td>\n",
       "    </tr>\n",
       "    <tr>\n",
       "      <th>271562</th>\n",
       "      <td>.@hazelsmith_10 Hazel @AQpk Ahmed @kiplawson K...</td>\n",
       "    </tr>\n",
       "    <tr>\n",
       "      <th>85232</th>\n",
       "      <td>24 Hilarious Google Mistakes That Led To The M...</td>\n",
       "    </tr>\n",
       "    <tr>\n",
       "      <th>274679</th>\n",
       "      <td>For example: in 2011 Reid intervenes to save @...</td>\n",
       "    </tr>\n",
       "    <tr>\n",
       "      <th>21207</th>\n",
       "      <td>#IfIWereTedCruz I would hold my head high know...</td>\n",
       "    </tr>\n",
       "    <tr>\n",
       "      <th>253332</th>\n",
       "      <td>Admiral General Aladeen, star of \"The Dictator...</td>\n",
       "    </tr>\n",
       "    <tr>\n",
       "      <th>50954</th>\n",
       "      <td>You fool, this is how they act in afreeeeka, n...</td>\n",
       "    </tr>\n",
       "    <tr>\n",
       "      <th>217531</th>\n",
       "      <td>#TopNews Intruder dies in California chimney a...</td>\n",
       "    </tr>\n",
       "    <tr>\n",
       "      <th>361773</th>\n",
       "      <td>2 Alabama men were arrested yesterday after Ma...</td>\n",
       "    </tr>\n",
       "    <tr>\n",
       "      <th>26151</th>\n",
       "      <td>every finish line is the beginning of a new ra...</td>\n",
       "    </tr>\n",
       "    <tr>\n",
       "      <th>153296</th>\n",
       "      <td>If embarrass you by wearing mom jeans #IfIWere...</td>\n",
       "    </tr>\n",
       "    <tr>\n",
       "      <th>103457</th>\n",
       "      <td>Rocky River prepares for more flooding: The Ci...</td>\n",
       "    </tr>\n",
       "    <tr>\n",
       "      <th>177248</th>\n",
       "      <td>Our thoughts and prayers go out to all in #Bru...</td>\n",
       "    </tr>\n",
       "    <tr>\n",
       "      <th>271475</th>\n",
       "      <td>.@jenniferrgisel yeneefair @Katie2SC Katie @Je...</td>\n",
       "    </tr>\n",
       "    <tr>\n",
       "      <th>345808</th>\n",
       "      <td>Suspected human trafficking kingpin extradited...</td>\n",
       "    </tr>\n",
       "    <tr>\n",
       "      <th>130808</th>\n",
       "      <td>Roaches shut down two Miami-Dade restaurants. ...</td>\n",
       "    </tr>\n",
       "    <tr>\n",
       "      <th>144365</th>\n",
       "      <td>https://t.co/I54LrqA86l #Scientology loves you...</td>\n",
       "    </tr>\n",
       "    <tr>\n",
       "      <th>269800</th>\n",
       "      <td>NBC10 First Alert Weather: Rain Begins as Snow...</td>\n",
       "    </tr>\n",
       "    <tr>\n",
       "      <th>10196</th>\n",
       "      <td>Twitter Logic: Ban the Alt-Right guys for maki...</td>\n",
       "    </tr>\n",
       "    <tr>\n",
       "      <th>313867</th>\n",
       "      <td>Happy Thanksgiving and football day. https://t...</td>\n",
       "    </tr>\n",
       "    <tr>\n",
       "      <th>240571</th>\n",
       "      <td>Ted Cruz birther BS is bogus, correct my frien...</td>\n",
       "    </tr>\n",
       "    <tr>\n",
       "      <th>326303</th>\n",
       "      <td>Mateja @MatejaKos1 DianeBlack @DianeBl98101291...</td>\n",
       "    </tr>\n",
       "    <tr>\n",
       "      <th>274251</th>\n",
       "      <td>Obama is a racist and creates most of the prob...</td>\n",
       "    </tr>\n",
       "    <tr>\n",
       "      <th>67076</th>\n",
       "      <td>Look how much whoring sister rob have round hi...</td>\n",
       "    </tr>\n",
       "    <tr>\n",
       "      <th>7913</th>\n",
       "      <td>To shoot or not: Watch civilians try deadly fo...</td>\n",
       "    </tr>\n",
       "    <tr>\n",
       "      <th>...</th>\n",
       "      <td>...</td>\n",
       "    </tr>\n",
       "    <tr>\n",
       "      <th>52566</th>\n",
       "      <td>Man uses business’ #Facebook account to launch...</td>\n",
       "    </tr>\n",
       "    <tr>\n",
       "      <th>193974</th>\n",
       "      <td>Trial of central figure in red-light camera sc...</td>\n",
       "    </tr>\n",
       "    <tr>\n",
       "      <th>222898</th>\n",
       "      <td>Why we shouldn't allow the violent Muslim Inva...</td>\n",
       "    </tr>\n",
       "    <tr>\n",
       "      <th>98889</th>\n",
       "      <td>'@KFILE  I am looking for the dates of all Bil...</td>\n",
       "    </tr>\n",
       "    <tr>\n",
       "      <th>125410</th>\n",
       "      <td>List of Islamist Nations Who Gave Hillary $143...</td>\n",
       "    </tr>\n",
       "    <tr>\n",
       "      <th>381167</th>\n",
       "      <td>Family demands justice after dad killed in hit...</td>\n",
       "    </tr>\n",
       "    <tr>\n",
       "      <th>106562</th>\n",
       "      <td>Young Sex Slave Tries To Escape, So ISIS Makes...</td>\n",
       "    </tr>\n",
       "    <tr>\n",
       "      <th>111517</th>\n",
       "      <td>The other day Ginsburg walked by a cemetery an...</td>\n",
       "    </tr>\n",
       "    <tr>\n",
       "      <th>348659</th>\n",
       "      <td>Israel approves new homes in settlement after ...</td>\n",
       "    </tr>\n",
       "    <tr>\n",
       "      <th>159392</th>\n",
       "      <td>California fishermen decry U.S. caps on whales...</td>\n",
       "    </tr>\n",
       "    <tr>\n",
       "      <th>283344</th>\n",
       "      <td>360º VIDEO: Tour the Japanese Friendship Garde...</td>\n",
       "    </tr>\n",
       "    <tr>\n",
       "      <th>210802</th>\n",
       "      <td>Court upholds $1.5M judgment for Six Flags Gre...</td>\n",
       "    </tr>\n",
       "    <tr>\n",
       "      <th>239383</th>\n",
       "      <td>http://t.co/EWZbRwggS4 Oh yay another workout ...</td>\n",
       "    </tr>\n",
       "    <tr>\n",
       "      <th>185116</th>\n",
       "      <td>On this Martin Luther King Jr. weekend, let it...</td>\n",
       "    </tr>\n",
       "    <tr>\n",
       "      <th>31717</th>\n",
       "      <td>When (if ever) the Palestinian would have thei...</td>\n",
       "    </tr>\n",
       "    <tr>\n",
       "      <th>198657</th>\n",
       "      <td>MSU's defense ends season with dominant perfor...</td>\n",
       "    </tr>\n",
       "    <tr>\n",
       "      <th>358491</th>\n",
       "      <td>Exclusive Video: SDPD sergeant arrested after ...</td>\n",
       "    </tr>\n",
       "    <tr>\n",
       "      <th>368982</th>\n",
       "      <td>2 police officers shot in Washington D.C. http...</td>\n",
       "    </tr>\n",
       "    <tr>\n",
       "      <th>70739</th>\n",
       "      <td>Source telling @FootballScoop that former Virg...</td>\n",
       "    </tr>\n",
       "    <tr>\n",
       "      <th>142128</th>\n",
       "      <td>High school basketball: St. Francis boys edge ...</td>\n",
       "    </tr>\n",
       "    <tr>\n",
       "      <th>102429</th>\n",
       "      <td>Got Bars ? We let you #ShowUsWhatYouGot Live o...</td>\n",
       "    </tr>\n",
       "    <tr>\n",
       "      <th>67049</th>\n",
       "      <td>If You Knew Better Then You Would Do Better Yo...</td>\n",
       "    </tr>\n",
       "    <tr>\n",
       "      <th>382423</th>\n",
       "      <td>Gary McCord On Quicken Loans National: ‘[TPC P...</td>\n",
       "    </tr>\n",
       "    <tr>\n",
       "      <th>32143</th>\n",
       "      <td>#Discrimination :-( Councillor claims he was s...</td>\n",
       "    </tr>\n",
       "    <tr>\n",
       "      <th>249027</th>\n",
       "      <td>Mr EpiPen? https://t.co/xJT9Ya6SfM</td>\n",
       "    </tr>\n",
       "    <tr>\n",
       "      <th>289767</th>\n",
       "      <td>Damn! It's 21st century, not 19th! screw segre...</td>\n",
       "    </tr>\n",
       "    <tr>\n",
       "      <th>345165</th>\n",
       "      <td>#TopVideo Leader in Afghan north dismisses Kab...</td>\n",
       "    </tr>\n",
       "    <tr>\n",
       "      <th>302555</th>\n",
       "      <td>'@DineshDSouza Pathetic, isn’t it?!'</td>\n",
       "    </tr>\n",
       "    <tr>\n",
       "      <th>269407</th>\n",
       "      <td>.@Nickkkylange nicole @dyingforkyumin  ??? @th...</td>\n",
       "    </tr>\n",
       "    <tr>\n",
       "      <th>47844</th>\n",
       "      <td>G.I. tract infection Joe #SuperOldHeroes @midn...</td>\n",
       "    </tr>\n",
       "  </tbody>\n",
       "</table>\n",
       "<p>10000 rows × 1 columns</p>\n",
       "</div>"
      ],
      "text/plain": [
       "                                                  content\n",
       "150980  My wife is off to Philly for the PA Conference...\n",
       "262379  Motion seeks to call Donta Allen to stand in M...\n",
       "18917   LSU target Devin White sets announcement date ...\n",
       "109067  There should have been a rigorous background c...\n",
       "275075  #BadReasonsForALoan to get a degree in feminis...\n",
       "190532  US-Led Air Coalition Drops Leaflets Over Islam...\n",
       "271562  .@hazelsmith_10 Hazel @AQpk Ahmed @kiplawson K...\n",
       "85232   24 Hilarious Google Mistakes That Led To The M...\n",
       "274679  For example: in 2011 Reid intervenes to save @...\n",
       "21207   #IfIWereTedCruz I would hold my head high know...\n",
       "253332  Admiral General Aladeen, star of \"The Dictator...\n",
       "50954   You fool, this is how they act in afreeeeka, n...\n",
       "217531  #TopNews Intruder dies in California chimney a...\n",
       "361773  2 Alabama men were arrested yesterday after Ma...\n",
       "26151   every finish line is the beginning of a new ra...\n",
       "153296  If embarrass you by wearing mom jeans #IfIWere...\n",
       "103457  Rocky River prepares for more flooding: The Ci...\n",
       "177248  Our thoughts and prayers go out to all in #Bru...\n",
       "271475  .@jenniferrgisel yeneefair @Katie2SC Katie @Je...\n",
       "345808  Suspected human trafficking kingpin extradited...\n",
       "130808  Roaches shut down two Miami-Dade restaurants. ...\n",
       "144365  https://t.co/I54LrqA86l #Scientology loves you...\n",
       "269800  NBC10 First Alert Weather: Rain Begins as Snow...\n",
       "10196   Twitter Logic: Ban the Alt-Right guys for maki...\n",
       "313867  Happy Thanksgiving and football day. https://t...\n",
       "240571  Ted Cruz birther BS is bogus, correct my frien...\n",
       "326303  Mateja @MatejaKos1 DianeBlack @DianeBl98101291...\n",
       "274251  Obama is a racist and creates most of the prob...\n",
       "67076   Look how much whoring sister rob have round hi...\n",
       "7913    To shoot or not: Watch civilians try deadly fo...\n",
       "...                                                   ...\n",
       "52566   Man uses business’ #Facebook account to launch...\n",
       "193974  Trial of central figure in red-light camera sc...\n",
       "222898  Why we shouldn't allow the violent Muslim Inva...\n",
       "98889   '@KFILE  I am looking for the dates of all Bil...\n",
       "125410  List of Islamist Nations Who Gave Hillary $143...\n",
       "381167  Family demands justice after dad killed in hit...\n",
       "106562  Young Sex Slave Tries To Escape, So ISIS Makes...\n",
       "111517  The other day Ginsburg walked by a cemetery an...\n",
       "348659  Israel approves new homes in settlement after ...\n",
       "159392  California fishermen decry U.S. caps on whales...\n",
       "283344  360º VIDEO: Tour the Japanese Friendship Garde...\n",
       "210802  Court upholds $1.5M judgment for Six Flags Gre...\n",
       "239383  http://t.co/EWZbRwggS4 Oh yay another workout ...\n",
       "185116  On this Martin Luther King Jr. weekend, let it...\n",
       "31717   When (if ever) the Palestinian would have thei...\n",
       "198657  MSU's defense ends season with dominant perfor...\n",
       "358491  Exclusive Video: SDPD sergeant arrested after ...\n",
       "368982  2 police officers shot in Washington D.C. http...\n",
       "70739   Source telling @FootballScoop that former Virg...\n",
       "142128  High school basketball: St. Francis boys edge ...\n",
       "102429  Got Bars ? We let you #ShowUsWhatYouGot Live o...\n",
       "67049   If You Knew Better Then You Would Do Better Yo...\n",
       "382423  Gary McCord On Quicken Loans National: ‘[TPC P...\n",
       "32143   #Discrimination :-( Councillor claims he was s...\n",
       "249027                 Mr EpiPen? https://t.co/xJT9Ya6SfM\n",
       "289767  Damn! It's 21st century, not 19th! screw segre...\n",
       "345165  #TopVideo Leader in Afghan north dismisses Kab...\n",
       "302555               '@DineshDSouza Pathetic, isn’t it?!'\n",
       "269407  .@Nickkkylange nicole @dyingforkyumin  ??? @th...\n",
       "47844   G.I. tract infection Joe #SuperOldHeroes @midn...\n",
       "\n",
       "[10000 rows x 1 columns]"
      ]
     },
     "execution_count": 41,
     "metadata": {},
     "output_type": "execute_result"
    }
   ],
   "source": [
    "positive_data"
   ]
  },
  {
   "cell_type": "code",
   "execution_count": null,
   "metadata": {},
   "outputs": [],
   "source": []
  },
  {
   "cell_type": "code",
   "execution_count": null,
   "metadata": {},
   "outputs": [],
   "source": []
  },
  {
   "cell_type": "code",
   "execution_count": 42,
   "metadata": {},
   "outputs": [
    {
     "name": "stdout",
     "output_type": "stream",
     "text": [
      "postive data length :10000 \t negative data length : 7578\n"
     ]
    }
   ],
   "source": [
    "print(\"postive data length :{} \\t negative data length : {}\".format(len(positive_data),len(negative_data)))"
   ]
  },
  {
   "cell_type": "code",
   "execution_count": 43,
   "metadata": {},
   "outputs": [],
   "source": [
    "#adding labele\n",
    "\n",
    "temp1 = np.ones(len(positive_data))"
   ]
  },
  {
   "cell_type": "code",
   "execution_count": 44,
   "metadata": {},
   "outputs": [],
   "source": [
    "positive_data['label'] = temp1"
   ]
  },
  {
   "cell_type": "code",
   "execution_count": 45,
   "metadata": {},
   "outputs": [],
   "source": [
    "positive_data['label'] = positive_data.label.astype(int)"
   ]
  },
  {
   "cell_type": "code",
   "execution_count": 46,
   "metadata": {},
   "outputs": [],
   "source": [
    "\n",
    "temp2 = np.zeros(len(negative_data))"
   ]
  },
  {
   "cell_type": "code",
   "execution_count": 47,
   "metadata": {},
   "outputs": [],
   "source": [
    "negative_data['label'] = temp2"
   ]
  },
  {
   "cell_type": "code",
   "execution_count": 48,
   "metadata": {},
   "outputs": [],
   "source": [
    "negative_data['label'] = negative_data.label.astype(int)"
   ]
  },
  {
   "cell_type": "code",
   "execution_count": 49,
   "metadata": {},
   "outputs": [
    {
     "data": {
      "text/html": [
       "<div>\n",
       "<style scoped>\n",
       "    .dataframe tbody tr th:only-of-type {\n",
       "        vertical-align: middle;\n",
       "    }\n",
       "\n",
       "    .dataframe tbody tr th {\n",
       "        vertical-align: top;\n",
       "    }\n",
       "\n",
       "    .dataframe thead th {\n",
       "        text-align: right;\n",
       "    }\n",
       "</style>\n",
       "<table border=\"1\" class=\"dataframe\">\n",
       "  <thead>\n",
       "    <tr style=\"text-align: right;\">\n",
       "      <th></th>\n",
       "      <th>content</th>\n",
       "      <th>label</th>\n",
       "    </tr>\n",
       "  </thead>\n",
       "  <tbody>\n",
       "    <tr>\n",
       "      <th>150980</th>\n",
       "      <td>My wife is off to Philly for the PA Conference...</td>\n",
       "      <td>1</td>\n",
       "    </tr>\n",
       "    <tr>\n",
       "      <th>262379</th>\n",
       "      <td>Motion seeks to call Donta Allen to stand in M...</td>\n",
       "      <td>1</td>\n",
       "    </tr>\n",
       "    <tr>\n",
       "      <th>18917</th>\n",
       "      <td>LSU target Devin White sets announcement date ...</td>\n",
       "      <td>1</td>\n",
       "    </tr>\n",
       "    <tr>\n",
       "      <th>109067</th>\n",
       "      <td>There should have been a rigorous background c...</td>\n",
       "      <td>1</td>\n",
       "    </tr>\n",
       "    <tr>\n",
       "      <th>275075</th>\n",
       "      <td>#BadReasonsForALoan to get a degree in feminis...</td>\n",
       "      <td>1</td>\n",
       "    </tr>\n",
       "  </tbody>\n",
       "</table>\n",
       "</div>"
      ],
      "text/plain": [
       "                                                  content  label\n",
       "150980  My wife is off to Philly for the PA Conference...      1\n",
       "262379  Motion seeks to call Donta Allen to stand in M...      1\n",
       "18917   LSU target Devin White sets announcement date ...      1\n",
       "109067  There should have been a rigorous background c...      1\n",
       "275075  #BadReasonsForALoan to get a degree in feminis...      1"
      ]
     },
     "execution_count": 49,
     "metadata": {},
     "output_type": "execute_result"
    }
   ],
   "source": [
    "positive_data.head()"
   ]
  },
  {
   "cell_type": "code",
   "execution_count": 50,
   "metadata": {},
   "outputs": [
    {
     "data": {
      "text/html": [
       "<div>\n",
       "<style scoped>\n",
       "    .dataframe tbody tr th:only-of-type {\n",
       "        vertical-align: middle;\n",
       "    }\n",
       "\n",
       "    .dataframe tbody tr th {\n",
       "        vertical-align: top;\n",
       "    }\n",
       "\n",
       "    .dataframe thead th {\n",
       "        text-align: right;\n",
       "    }\n",
       "</style>\n",
       "<table border=\"1\" class=\"dataframe\">\n",
       "  <thead>\n",
       "    <tr style=\"text-align: right;\">\n",
       "      <th></th>\n",
       "      <th>content</th>\n",
       "      <th>label</th>\n",
       "    </tr>\n",
       "  </thead>\n",
       "  <tbody>\n",
       "    <tr>\n",
       "      <th>0</th>\n",
       "      <td>Donald Trump vs. Hillary Clinton Debate Cold O...</td>\n",
       "      <td>0</td>\n",
       "    </tr>\n",
       "    <tr>\n",
       "      <th>1</th>\n",
       "      <td>@realDonaldTrump The need is to blow off the \"...</td>\n",
       "      <td>0</td>\n",
       "    </tr>\n",
       "    <tr>\n",
       "      <th>2</th>\n",
       "      <td>US-Medien: Trump zahlte womöglich jahrelang ke...</td>\n",
       "      <td>0</td>\n",
       "    </tr>\n",
       "    <tr>\n",
       "      <th>3</th>\n",
       "      <td>#amjoy #cnn #msnbc #Trump has 2 words for #dep...</td>\n",
       "      <td>0</td>\n",
       "    </tr>\n",
       "    <tr>\n",
       "      <th>4</th>\n",
       "      <td>and you people who can't  good old boy loans a...</td>\n",
       "      <td>0</td>\n",
       "    </tr>\n",
       "  </tbody>\n",
       "</table>\n",
       "</div>"
      ],
      "text/plain": [
       "                                             content  label\n",
       "0  Donald Trump vs. Hillary Clinton Debate Cold O...      0\n",
       "1  @realDonaldTrump The need is to blow off the \"...      0\n",
       "2  US-Medien: Trump zahlte womöglich jahrelang ke...      0\n",
       "3  #amjoy #cnn #msnbc #Trump has 2 words for #dep...      0\n",
       "4  and you people who can't  good old boy loans a...      0"
      ]
     },
     "execution_count": 50,
     "metadata": {},
     "output_type": "execute_result"
    }
   ],
   "source": [
    "negative_data.head()"
   ]
  },
  {
   "cell_type": "code",
   "execution_count": 51,
   "metadata": {},
   "outputs": [],
   "source": [
    "data = pd.concat([positive_data,negative_data],axis=0)"
   ]
  },
  {
   "cell_type": "code",
   "execution_count": null,
   "metadata": {},
   "outputs": [],
   "source": []
  },
  {
   "cell_type": "code",
   "execution_count": 52,
   "metadata": {},
   "outputs": [
    {
     "data": {
      "text/html": [
       "<div>\n",
       "<style scoped>\n",
       "    .dataframe tbody tr th:only-of-type {\n",
       "        vertical-align: middle;\n",
       "    }\n",
       "\n",
       "    .dataframe tbody tr th {\n",
       "        vertical-align: top;\n",
       "    }\n",
       "\n",
       "    .dataframe thead th {\n",
       "        text-align: right;\n",
       "    }\n",
       "</style>\n",
       "<table border=\"1\" class=\"dataframe\">\n",
       "  <thead>\n",
       "    <tr style=\"text-align: right;\">\n",
       "      <th></th>\n",
       "      <th>content</th>\n",
       "      <th>label</th>\n",
       "    </tr>\n",
       "  </thead>\n",
       "  <tbody>\n",
       "    <tr>\n",
       "      <th>150980</th>\n",
       "      <td>My wife is off to Philly for the PA Conference...</td>\n",
       "      <td>1</td>\n",
       "    </tr>\n",
       "    <tr>\n",
       "      <th>262379</th>\n",
       "      <td>Motion seeks to call Donta Allen to stand in M...</td>\n",
       "      <td>1</td>\n",
       "    </tr>\n",
       "    <tr>\n",
       "      <th>18917</th>\n",
       "      <td>LSU target Devin White sets announcement date ...</td>\n",
       "      <td>1</td>\n",
       "    </tr>\n",
       "    <tr>\n",
       "      <th>109067</th>\n",
       "      <td>There should have been a rigorous background c...</td>\n",
       "      <td>1</td>\n",
       "    </tr>\n",
       "    <tr>\n",
       "      <th>275075</th>\n",
       "      <td>#BadReasonsForALoan to get a degree in feminis...</td>\n",
       "      <td>1</td>\n",
       "    </tr>\n",
       "  </tbody>\n",
       "</table>\n",
       "</div>"
      ],
      "text/plain": [
       "                                                  content  label\n",
       "150980  My wife is off to Philly for the PA Conference...      1\n",
       "262379  Motion seeks to call Donta Allen to stand in M...      1\n",
       "18917   LSU target Devin White sets announcement date ...      1\n",
       "109067  There should have been a rigorous background c...      1\n",
       "275075  #BadReasonsForALoan to get a degree in feminis...      1"
      ]
     },
     "execution_count": 52,
     "metadata": {},
     "output_type": "execute_result"
    }
   ],
   "source": [
    "data.head()"
   ]
  },
  {
   "cell_type": "code",
   "execution_count": 53,
   "metadata": {},
   "outputs": [],
   "source": [
    "data = data.sample(frac=1).reset_index(drop=True)"
   ]
  },
  {
   "cell_type": "code",
   "execution_count": 54,
   "metadata": {},
   "outputs": [
    {
     "data": {
      "text/html": [
       "<div>\n",
       "<style scoped>\n",
       "    .dataframe tbody tr th:only-of-type {\n",
       "        vertical-align: middle;\n",
       "    }\n",
       "\n",
       "    .dataframe tbody tr th {\n",
       "        vertical-align: top;\n",
       "    }\n",
       "\n",
       "    .dataframe thead th {\n",
       "        text-align: right;\n",
       "    }\n",
       "</style>\n",
       "<table border=\"1\" class=\"dataframe\">\n",
       "  <thead>\n",
       "    <tr style=\"text-align: right;\">\n",
       "      <th></th>\n",
       "      <th>content</th>\n",
       "      <th>label</th>\n",
       "    </tr>\n",
       "  </thead>\n",
       "  <tbody>\n",
       "    <tr>\n",
       "      <th>0</th>\n",
       "      <td>Judge Orders Bill Cosby’s Wife To Continue Dep...</td>\n",
       "      <td>1</td>\n",
       "    </tr>\n",
       "    <tr>\n",
       "      <th>1</th>\n",
       "      <td>Mr. #Trump and a #Republican Congress can lowe...</td>\n",
       "      <td>0</td>\n",
       "    </tr>\n",
       "    <tr>\n",
       "      <th>2</th>\n",
       "      <td>http://t.co/owp51Ix4vS Exercise for 6 weeks @I...</td>\n",
       "      <td>1</td>\n",
       "    </tr>\n",
       "    <tr>\n",
       "      <th>3</th>\n",
       "      <td>Denver let's get it #staywoke</td>\n",
       "      <td>1</td>\n",
       "    </tr>\n",
       "    <tr>\n",
       "      <th>4</th>\n",
       "      <td>Watch #AlecBaldwin's Perfect #DonaldTrump Impr...</td>\n",
       "      <td>0</td>\n",
       "    </tr>\n",
       "  </tbody>\n",
       "</table>\n",
       "</div>"
      ],
      "text/plain": [
       "                                             content  label\n",
       "0  Judge Orders Bill Cosby’s Wife To Continue Dep...      1\n",
       "1  Mr. #Trump and a #Republican Congress can lowe...      0\n",
       "2  http://t.co/owp51Ix4vS Exercise for 6 weeks @I...      1\n",
       "3                      Denver let's get it #staywoke      1\n",
       "4  Watch #AlecBaldwin's Perfect #DonaldTrump Impr...      0"
      ]
     },
     "execution_count": 54,
     "metadata": {},
     "output_type": "execute_result"
    }
   ],
   "source": [
    "data.head()"
   ]
  },
  {
   "cell_type": "markdown",
   "metadata": {},
   "source": [
    "Perfect!! Our dataset is now ready for further process"
   ]
  },
  {
   "cell_type": "markdown",
   "metadata": {},
   "source": [
    "# Feature Engineering"
   ]
  },
  {
   "cell_type": "code",
   "execution_count": 55,
   "metadata": {},
   "outputs": [
    {
     "name": "stdout",
     "output_type": "stream",
     "text": [
      "[nltk_data] Downloading package stopwords to\n",
      "[nltk_data]     C:\\Users\\NIKHIL\\AppData\\Roaming\\nltk_data...\n",
      "[nltk_data]   Package stopwords is already up-to-date!\n"
     ]
    }
   ],
   "source": [
    "#importing essential libraries useful for feature extraction\n",
    "import re\n",
    "\n",
    "# Natural Language Tool Kit \n",
    "import nltk\n",
    "nltk.download('stopwords')\n",
    "\n",
    "# to remove stopword \n",
    "from nltk.corpus import stopwords\n",
    "\n",
    "# for Stemming propose \n",
    "from nltk.stem.porter import PorterStemmer\n"
   ]
  },
  {
   "cell_type": "code",
   "execution_count": 56,
   "metadata": {},
   "outputs": [
    {
     "data": {
      "text/plain": [
       "17578"
      ]
     },
     "execution_count": 56,
     "metadata": {},
     "output_type": "execute_result"
    }
   ],
   "source": [
    "len(data)"
   ]
  },
  {
   "cell_type": "code",
   "execution_count": 57,
   "metadata": {},
   "outputs": [],
   "source": [
    "# Initialize empty array \n",
    "# to append clean text \n",
    "corpus = []\n",
    "ps = PorterStemmer()\n",
    "\n",
    "# 17578 (contents) rows to clean\n",
    "for i in range(0, len(data)):\n",
    "    content = re.sub(r\"http\\S+\", \"\", data['content'][i])\n",
    "    content = re.sub('[^a-zA-Z]', ' ', content)\n",
    "    content = content.lower()\n",
    "    \n",
    "    \n",
    "    # split to list (delimiter \" \") \n",
    "    content = content.split()\n",
    "    \n",
    "   \n",
    "    \n",
    "    # rejoin all string array elements to create back into a string \n",
    "    \n",
    "    content = [ps.stem(word) for word in content if not word in set(stopwords.words('english'))]\n",
    "    \n",
    "    # append each string to create \n",
    "    # array of clean text \n",
    "    content = ' '.join(content)\n",
    "    corpus.append(content)"
   ]
  },
  {
   "cell_type": "code",
   "execution_count": 58,
   "metadata": {
    "scrolled": false
   },
   "outputs": [],
   "source": [
    "#corpus"
   ]
  },
  {
   "cell_type": "markdown",
   "metadata": {},
   "source": [
    "# Bag of Word "
   ]
  },
  {
   "cell_type": "code",
   "execution_count": 59,
   "metadata": {},
   "outputs": [],
   "source": [
    "#BOW\n",
    "from sklearn.feature_extraction.text import CountVectorizer\n",
    "cv = CountVectorizer(max_features =3000)\n",
    "X = cv.fit_transform(corpus).toarray()\n",
    "y = data.iloc[:, 1].values"
   ]
  },
  {
   "cell_type": "code",
   "execution_count": 60,
   "metadata": {},
   "outputs": [],
   "source": [
    "from sklearn.model_selection import train_test_split\n",
    "X_train, X_test, y_train, y_test = train_test_split(X, y, test_size = 0.20, random_state = 0)"
   ]
  },
  {
   "cell_type": "code",
   "execution_count": 61,
   "metadata": {},
   "outputs": [
    {
     "data": {
      "text/plain": [
       "(14062, 3000)"
      ]
     },
     "execution_count": 61,
     "metadata": {},
     "output_type": "execute_result"
    }
   ],
   "source": [
    "X_train.shape"
   ]
  },
  {
   "cell_type": "code",
   "execution_count": 62,
   "metadata": {},
   "outputs": [],
   "source": [
    "from sklearn.naive_bayes import MultinomialNB\n",
    "from sklearn.metrics import confusion_matrix\n",
    "from sklearn.metrics import classification_report\n"
   ]
  },
  {
   "cell_type": "code",
   "execution_count": 63,
   "metadata": {},
   "outputs": [
    {
     "data": {
      "text/plain": [
       "MultinomialNB(alpha=1.0, class_prior=None, fit_prior=True)"
      ]
     },
     "execution_count": 63,
     "metadata": {},
     "output_type": "execute_result"
    }
   ],
   "source": [
    "classifier_1 = MultinomialNB()\n",
    "classifier_1.fit(X_train, y_train)"
   ]
  },
  {
   "cell_type": "code",
   "execution_count": 64,
   "metadata": {},
   "outputs": [],
   "source": [
    "y_pred_1 = classifier_1.predict(X_test)"
   ]
  },
  {
   "cell_type": "code",
   "execution_count": 65,
   "metadata": {},
   "outputs": [
    {
     "name": "stdout",
     "output_type": "stream",
     "text": [
      "[[1247  258]\n",
      " [ 186 1825]]\n"
     ]
    }
   ],
   "source": [
    "cm_1 = confusion_matrix(y_test, y_pred_1)\n",
    "print(cm_1)"
   ]
  },
  {
   "cell_type": "code",
   "execution_count": null,
   "metadata": {},
   "outputs": [],
   "source": []
  },
  {
   "cell_type": "code",
   "execution_count": 66,
   "metadata": {},
   "outputs": [
    {
     "name": "stdout",
     "output_type": "stream",
     "text": [
      "             precision    recall  f1-score   support\n",
      "\n",
      "          0       0.87      0.83      0.85      1505\n",
      "          1       0.88      0.91      0.89      2011\n",
      "\n",
      "avg / total       0.87      0.87      0.87      3516\n",
      "\n"
     ]
    }
   ],
   "source": [
    "print(classification_report(y_pred=y_pred_1,y_true=y_test))"
   ]
  },
  {
   "cell_type": "markdown",
   "metadata": {},
   "source": [
    "Accuracy = 87%"
   ]
  },
  {
   "cell_type": "code",
   "execution_count": 67,
   "metadata": {},
   "outputs": [],
   "source": [
    "from sklearn.linear_model import LogisticRegression"
   ]
  },
  {
   "cell_type": "code",
   "execution_count": 68,
   "metadata": {},
   "outputs": [
    {
     "data": {
      "text/plain": [
       "LogisticRegression(C=1.0, class_weight=None, dual=False, fit_intercept=True,\n",
       "          intercept_scaling=1, max_iter=100, multi_class='ovr', n_jobs=1,\n",
       "          penalty='l2', random_state=None, solver='liblinear', tol=0.0001,\n",
       "          verbose=0, warm_start=False)"
      ]
     },
     "execution_count": 68,
     "metadata": {},
     "output_type": "execute_result"
    }
   ],
   "source": [
    "classifier_2 = LogisticRegression()\n",
    "classifier_2.fit(X_train, y_train)"
   ]
  },
  {
   "cell_type": "code",
   "execution_count": 69,
   "metadata": {},
   "outputs": [],
   "source": [
    "y_pred_2 = classifier_2.predict(X_test)"
   ]
  },
  {
   "cell_type": "code",
   "execution_count": 70,
   "metadata": {},
   "outputs": [
    {
     "name": "stdout",
     "output_type": "stream",
     "text": [
      "[[1276  229]\n",
      " [ 136 1875]]\n"
     ]
    }
   ],
   "source": [
    "cm_2 = confusion_matrix(y_test, y_pred_2)\n",
    "print(cm_2)"
   ]
  },
  {
   "cell_type": "code",
   "execution_count": 71,
   "metadata": {},
   "outputs": [
    {
     "name": "stdout",
     "output_type": "stream",
     "text": [
      "             precision    recall  f1-score   support\n",
      "\n",
      "          0       0.90      0.85      0.87      1505\n",
      "          1       0.89      0.93      0.91      2011\n",
      "\n",
      "avg / total       0.90      0.90      0.90      3516\n",
      "\n"
     ]
    }
   ],
   "source": [
    "print(classification_report(y_pred=y_pred_2,y_true=y_test))"
   ]
  },
  {
   "cell_type": "code",
   "execution_count": 72,
   "metadata": {},
   "outputs": [],
   "source": [
    "from sklearn.ensemble import RandomForestClassifier\n"
   ]
  },
  {
   "cell_type": "code",
   "execution_count": 73,
   "metadata": {},
   "outputs": [],
   "source": [
    "classifier_3 = RandomForestClassifier(n_estimators = 10)\n"
   ]
  },
  {
   "cell_type": "code",
   "execution_count": 74,
   "metadata": {},
   "outputs": [
    {
     "data": {
      "text/plain": [
       "RandomForestClassifier(bootstrap=True, class_weight=None, criterion='gini',\n",
       "            max_depth=None, max_features='auto', max_leaf_nodes=None,\n",
       "            min_impurity_decrease=0.0, min_impurity_split=None,\n",
       "            min_samples_leaf=1, min_samples_split=2,\n",
       "            min_weight_fraction_leaf=0.0, n_estimators=10, n_jobs=1,\n",
       "            oob_score=False, random_state=None, verbose=0,\n",
       "            warm_start=False)"
      ]
     },
     "execution_count": 74,
     "metadata": {},
     "output_type": "execute_result"
    }
   ],
   "source": [
    "classifier_3.fit(X_train, y_train)\n"
   ]
  },
  {
   "cell_type": "code",
   "execution_count": 75,
   "metadata": {},
   "outputs": [
    {
     "name": "stdout",
     "output_type": "stream",
     "text": [
      "[[1428   77]\n",
      " [ 419 1592]]\n"
     ]
    }
   ],
   "source": [
    "y_pred_3 = classifier_3.predict(X_test)\n",
    "cm_3 = confusion_matrix(y_test, y_pred_3)\n",
    "print(cm_3)"
   ]
  },
  {
   "cell_type": "code",
   "execution_count": 76,
   "metadata": {},
   "outputs": [
    {
     "name": "stdout",
     "output_type": "stream",
     "text": [
      "             precision    recall  f1-score   support\n",
      "\n",
      "          0       0.77      0.95      0.85      1505\n",
      "          1       0.95      0.79      0.87      2011\n",
      "\n",
      "avg / total       0.88      0.86      0.86      3516\n",
      "\n"
     ]
    }
   ],
   "source": [
    "print(classification_report(y_pred=y_pred_3,y_true=y_test))"
   ]
  },
  {
   "cell_type": "code",
   "execution_count": 77,
   "metadata": {},
   "outputs": [],
   "source": [
    "from sklearn.svm import SVC"
   ]
  },
  {
   "cell_type": "code",
   "execution_count": 78,
   "metadata": {},
   "outputs": [],
   "source": [
    "classifier_4 = SVC()\n"
   ]
  },
  {
   "cell_type": "code",
   "execution_count": null,
   "metadata": {},
   "outputs": [],
   "source": [
    "classifier_4.fit(X_train, y_train)\n"
   ]
  },
  {
   "cell_type": "code",
   "execution_count": null,
   "metadata": {},
   "outputs": [],
   "source": [
    "cm_4 = confusion_matrix(y_test, y_pred_4)\n",
    "print(cm_4)\n",
    "print(classification_report(y_pred=y_pred_4,y_true=y_test))"
   ]
  },
  {
   "cell_type": "code",
   "execution_count": null,
   "metadata": {},
   "outputs": [],
   "source": []
  },
  {
   "cell_type": "code",
   "execution_count": null,
   "metadata": {},
   "outputs": [],
   "source": []
  }
 ],
 "metadata": {
  "kernelspec": {
   "display_name": "Python 3",
   "language": "python",
   "name": "python3"
  },
  "language_info": {
   "codemirror_mode": {
    "name": "ipython",
    "version": 3
   },
   "file_extension": ".py",
   "mimetype": "text/x-python",
   "name": "python",
   "nbconvert_exporter": "python",
   "pygments_lexer": "ipython3",
   "version": "3.7.3"
  }
 },
 "nbformat": 4,
 "nbformat_minor": 2
}
