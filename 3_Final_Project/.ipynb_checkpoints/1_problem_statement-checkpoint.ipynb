{
 "cells": [
  {
   "cell_type": "markdown",
   "metadata": {},
   "source": [
    "<h1 style=color:blue align=\"center\"> Predict the Severity of Adverse Drug Reactions </h1>"
   ]
  },
  {
   "cell_type": "markdown",
   "metadata": {},
   "source": [
    "------------"
   ]
  },
  {
   "cell_type": "markdown",
   "metadata": {},
   "source": [
    "## Multinomial classification methods:\n",
    "- to predict drug-drug interaction severity values\n",
    "\n",
    ">  1. SVM\n",
    "\n",
    ">  2. Naive Bayes\n",
    "\n",
    ">  3. Logistic Regression\n",
    "\n",
    ">  4. Random Forests"
   ]
  },
  {
   "cell_type": "markdown",
   "metadata": {},
   "source": [
    "----------------"
   ]
  },
  {
   "cell_type": "markdown",
   "metadata": {},
   "source": [
    "## Class imbalance:\n",
    "- explores **downsampling** from the **majority classes** or **upsampling** the **minority classes**, such that the **training set is balanced and the test set is untouched** ( Bone, et al., 2015 ). This upsampling approach **duplicates** full training examples rather than generating simulated data points. By doing so, it **removes a bias towards the majority classes**, while making no assumptions about the underlying data."
   ]
  },
  {
   "cell_type": "code",
   "execution_count": null,
   "metadata": {},
   "outputs": [],
   "source": []
  }
 ],
 "metadata": {
  "kernelspec": {
   "display_name": "Python 3",
   "language": "python",
   "name": "python3"
  },
  "language_info": {
   "codemirror_mode": {
    "name": "ipython",
    "version": 3
   },
   "file_extension": ".py",
   "mimetype": "text/x-python",
   "name": "python",
   "nbconvert_exporter": "python",
   "pygments_lexer": "ipython3",
   "version": "3.7.3"
  }
 },
 "nbformat": 4,
 "nbformat_minor": 2
}
